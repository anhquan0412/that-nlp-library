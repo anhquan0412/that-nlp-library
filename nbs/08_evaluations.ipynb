{
 "cells": [
  {
   "cell_type": "markdown",
   "metadata": {},
   "source": [
    "# Model Evaluations\n",
    "\n",
    "> This module contains some functions to evaluate your model in-depth\n",
    "\n",
    "- skip_showdoc: true\n",
    "- skip_exec: true"
   ]
  },
  {
   "cell_type": "code",
   "execution_count": null,
   "metadata": {},
   "outputs": [],
   "source": [
    "#| default_exp evaluations"
   ]
  },
  {
   "cell_type": "code",
   "execution_count": null,
   "metadata": {},
   "outputs": [],
   "source": [
    "#| hide\n",
    "from nbdev.showdoc import *"
   ]
  },
  {
   "cell_type": "code",
   "execution_count": null,
   "metadata": {},
   "outputs": [],
   "source": [
    "import os"
   ]
  },
  {
   "cell_type": "code",
   "execution_count": null,
   "metadata": {},
   "outputs": [],
   "source": [
    "os.environ['CUDA_VISIBLE_DEVICES'] = \"0\""
   ]
  },
  {
   "cell_type": "code",
   "execution_count": null,
   "metadata": {},
   "outputs": [],
   "source": [
    "from that_nlp_library.text_transformation import *\n",
    "from that_nlp_library.text_augmentation import *\n",
    "from that_nlp_library.text_main import *\n",
    "from that_nlp_library.utils import seed_everything"
   ]
  },
  {
   "cell_type": "code",
   "execution_count": null,
   "metadata": {},
   "outputs": [],
   "source": [
    "from underthesea import text_normalize\n",
    "from functools import partial\n",
    "from pathlib import Path\n",
    "from transformers import RobertaTokenizer\n",
    "from transformers.models.roberta.modeling_roberta import RobertaForSequenceClassification\n",
    "import nlpaug.augmenter.char as nac\n",
    "from datasets import load_dataset\n",
    "import random\n",
    "import pandas as pd\n",
    "import numpy as np"
   ]
  },
  {
   "cell_type": "code",
   "execution_count": null,
   "metadata": {},
   "outputs": [
    {
     "name": "stderr",
     "output_type": "stream",
     "text": [
      "comet_ml is installed but `COMET_API_KEY` is not set.\n"
     ]
    }
   ],
   "source": [
    "from that_nlp_library.model_main import *\n",
    "from sklearn.metrics import f1_score, accuracy_score"
   ]
  },
  {
   "cell_type": "markdown",
   "metadata": {},
   "source": [
    "## Evaluation for Single-head/Multi-head Classification"
   ]
  },
  {
   "cell_type": "markdown",
   "metadata": {},
   "source": [
    "### Create a TextDataController"
   ]
  },
  {
   "cell_type": "code",
   "execution_count": null,
   "metadata": {},
   "outputs": [],
   "source": [
    "# Define the custom augmentation function\n",
    "\n",
    "def nlp_aug_stochastic(x,aug=None,p=0.5):\n",
    "    if not isinstance(x,list): \n",
    "        if random.random()<p: return aug.augment(x)[0]\n",
    "        return x\n",
    "    news=[]\n",
    "    originals=[]\n",
    "    for _x in x:\n",
    "        if random.random()<p: news.append(_x)\n",
    "        else: originals.append(_x)\n",
    "    # only perform augmentation when needed\n",
    "    if len(news): news = aug.augment(news)\n",
    "    return news+originals"
   ]
  },
  {
   "cell_type": "code",
   "execution_count": null,
   "metadata": {},
   "outputs": [],
   "source": [
    "aug = nac.KeyboardAug(aug_char_max=3,aug_char_p=0.1,aug_word_p=0.07)\n",
    "nearby_aug_func = partial(nlp_aug_stochastic,aug=aug,p=0.3)"
   ]
  },
  {
   "cell_type": "code",
   "execution_count": null,
   "metadata": {},
   "outputs": [],
   "source": [
    "dset = load_dataset('sample_data',data_files=['Womens_Clothing_Reviews.csv'],split='train')"
   ]
  },
  {
   "cell_type": "code",
   "execution_count": null,
   "metadata": {},
   "outputs": [],
   "source": [
    "tdc = TextDataController(dset,\n",
    "                         main_text='Review Text',\n",
    "                         label_names='Department Name',\n",
    "                         filter_dict={'Review Text': lambda x: x is not None,\n",
    "                                      'Department Name': lambda x: x is not None,\n",
    "                                     },\n",
    "                         metadatas=['Title','Division Name'],\n",
    "                         content_transformations=[text_normalize,str.lower],\n",
    "                         content_augmentations= [nearby_aug_func,str.lower], \n",
    "                         # add \"str.lower\" here because nearby_aug might return uppercase character\n",
    "                         val_ratio=0.2,\n",
    "                         batch_size=1000,\n",
    "                         seed=42,\n",
    "                         num_proc=20,\n",
    "                         verbose=False\n",
    "                        )"
   ]
  },
  {
   "cell_type": "code",
   "execution_count": null,
   "metadata": {},
   "outputs": [
    {
     "data": {
      "application/vnd.jupyter.widget-view+json": {
       "model_id": "7db21345a0eb4af3b9f50f56226ef5e7",
       "version_major": 2,
       "version_minor": 0
      },
      "text/plain": [
       "Map (num_proc=20):   0%|          | 0/18102 [00:00<?, ? examples/s]"
      ]
     },
     "metadata": {},
     "output_type": "display_data"
    },
    {
     "data": {
      "application/vnd.jupyter.widget-view+json": {
       "model_id": "3b1a6d5ce40b45d188943fe3df547a81",
       "version_major": 2,
       "version_minor": 0
      },
      "text/plain": [
       "Map (num_proc=20):   0%|          | 0/18102 [00:00<?, ? examples/s]"
      ]
     },
     "metadata": {},
     "output_type": "display_data"
    },
    {
     "data": {
      "application/vnd.jupyter.widget-view+json": {
       "model_id": "7996221d80824386a6ef58ea520e88f0",
       "version_major": 2,
       "version_minor": 0
      },
      "text/plain": [
       "Flattening the indices (num_proc=20):   0%|          | 0/18102 [00:00<?, ? examples/s]"
      ]
     },
     "metadata": {},
     "output_type": "display_data"
    },
    {
     "data": {
      "application/vnd.jupyter.widget-view+json": {
       "model_id": "4ec1a6ce156d437c8e4cd6515be5ecce",
       "version_major": 2,
       "version_minor": 0
      },
      "text/plain": [
       "Map (num_proc=20):   0%|          | 0/18102 [00:00<?, ? examples/s]"
      ]
     },
     "metadata": {},
     "output_type": "display_data"
    },
    {
     "data": {
      "application/vnd.jupyter.widget-view+json": {
       "model_id": "7eae429f649c4a79a045804de3999525",
       "version_major": 2,
       "version_minor": 0
      },
      "text/plain": [
       "Map (num_proc=20):   0%|          | 0/4526 [00:00<?, ? examples/s]"
      ]
     },
     "metadata": {},
     "output_type": "display_data"
    }
   ],
   "source": [
    "tokenizer = RobertaTokenizer.from_pretrained('roberta-base')\n",
    "\n",
    "tdc.process_and_tokenize(tokenizer,max_length=100,shuffle_trn=True)"
   ]
  },
  {
   "cell_type": "markdown",
   "metadata": {},
   "source": [
    "## Define and train model"
   ]
  },
  {
   "cell_type": "code",
   "execution_count": null,
   "metadata": {},
   "outputs": [],
   "source": [
    "num_classes = len(tdc.label_lists[0])\n",
    "metric_funcs = [partial(f1_score,average='macro'),accuracy_score] "
   ]
  },
  {
   "cell_type": "code",
   "execution_count": null,
   "metadata": {},
   "outputs": [
    {
     "name": "stderr",
     "output_type": "stream",
     "text": [
      "Some weights of RobertaForSequenceClassification were not initialized from the model checkpoint at roberta-base and are newly initialized: ['classifier.out_proj.bias', 'classifier.dense.bias', 'classifier.dense.weight', 'classifier.out_proj.weight']\n",
      "You should probably TRAIN this model on a down-stream task to be able to use it for predictions and inference.\n"
     ]
    }
   ],
   "source": [
    "seed_everything(42)\n",
    "model_name='roberta-base'\n",
    "model = RobertaForSequenceClassification.from_pretrained(model_name,num_labels=num_classes).to('cuda:0')"
   ]
  },
  {
   "cell_type": "code",
   "execution_count": null,
   "metadata": {},
   "outputs": [],
   "source": [
    "controller = ModelController(model,\n",
    "                             data_store=tdc,\n",
    "                             seed=42)"
   ]
  },
  {
   "cell_type": "code",
   "execution_count": null,
   "metadata": {},
   "outputs": [
    {
     "name": "stderr",
     "output_type": "stream",
     "text": [
      "/home/quan/anaconda3/envs/fastai_v2/lib/python3.10/site-packages/transformers/optimization.py:411: FutureWarning: This implementation of AdamW is deprecated and will be removed in a future version. Use the PyTorch implementation torch.optim.AdamW instead, or set `no_deprecation_warning=True` to disable this warning\n",
      "  warnings.warn(\n"
     ]
    },
    {
     "data": {
      "text/html": [
       "\n",
       "    <div>\n",
       "      \n",
       "      <progress value='849' max='849' style='width:300px; height:20px; vertical-align: middle;'></progress>\n",
       "      [849/849 02:08, Epoch 3/3]\n",
       "    </div>\n",
       "    <table border=\"1\" class=\"dataframe\">\n",
       "  <thead>\n",
       " <tr style=\"text-align: left;\">\n",
       "      <th>Epoch</th>\n",
       "      <th>Training Loss</th>\n",
       "      <th>Validation Loss</th>\n",
       "      <th>F1 Score Department name</th>\n",
       "      <th>Accuracy Score Department name</th>\n",
       "    </tr>\n",
       "  </thead>\n",
       "  <tbody>\n",
       "    <tr>\n",
       "      <td>1</td>\n",
       "      <td>No log</td>\n",
       "      <td>0.306545</td>\n",
       "      <td>0.736953</td>\n",
       "      <td>0.908749</td>\n",
       "    </tr>\n",
       "    <tr>\n",
       "      <td>2</td>\n",
       "      <td>0.411900</td>\n",
       "      <td>0.295978</td>\n",
       "      <td>0.748048</td>\n",
       "      <td>0.919355</td>\n",
       "    </tr>\n",
       "    <tr>\n",
       "      <td>3</td>\n",
       "      <td>0.411900</td>\n",
       "      <td>0.275120</td>\n",
       "      <td>0.747347</td>\n",
       "      <td>0.919134</td>\n",
       "    </tr>\n",
       "  </tbody>\n",
       "</table><p>"
      ],
      "text/plain": [
       "<IPython.core.display.HTML object>"
      ]
     },
     "metadata": {},
     "output_type": "display_data"
    }
   ],
   "source": [
    "lr = 1e-4\n",
    "bs=32\n",
    "wd=0.01\n",
    "epochs= 3\n",
    "\n",
    "controller.fit(epochs,lr,\n",
    "               metric_funcs=metric_funcs,\n",
    "               batch_size=bs,\n",
    "               weight_decay=wd,\n",
    "               save_checkpoint=False,\n",
    "               compute_metrics=compute_metrics_classification,\n",
    "              )"
   ]
  },
  {
   "cell_type": "markdown",
   "metadata": {},
   "source": [
    "## Generate predictions"
   ]
  },
  {
   "cell_type": "markdown",
   "metadata": {},
   "source": [
    "We will do model evaluation on the validation set"
   ]
  },
  {
   "cell_type": "code",
   "execution_count": null,
   "metadata": {},
   "outputs": [
    {
     "name": "stdout",
     "output_type": "stream",
     "text": [
      "-------------------- Start making predictions --------------------\n"
     ]
    },
    {
     "data": {
      "application/vnd.jupyter.widget-view+json": {
       "model_id": "293462d864224747a4b58f6c506be5aa",
       "version_major": 2,
       "version_minor": 0
      },
      "text/plain": [
       "Map (num_proc=4):   0%|          | 0/18102 [00:00<?, ? examples/s]"
      ]
     },
     "metadata": {},
     "output_type": "display_data"
    }
   ],
   "source": [
    "df_val = controller.predict_ddict_classification(ds_type='validation')"
   ]
  },
  {
   "cell_type": "code",
   "execution_count": null,
   "metadata": {},
   "outputs": [
    {
     "data": {
      "text/html": [
       "<div>\n",
       "<style scoped>\n",
       "    .dataframe tbody tr th:only-of-type {\n",
       "        vertical-align: middle;\n",
       "    }\n",
       "\n",
       "    .dataframe tbody tr th {\n",
       "        vertical-align: top;\n",
       "    }\n",
       "\n",
       "    .dataframe thead th {\n",
       "        text-align: right;\n",
       "    }\n",
       "</style>\n",
       "<table border=\"1\" class=\"dataframe\">\n",
       "  <thead>\n",
       "    <tr style=\"text-align: right;\">\n",
       "      <th></th>\n",
       "      <th>Title</th>\n",
       "      <th>Review Text</th>\n",
       "      <th>Division Name</th>\n",
       "      <th>Department Name</th>\n",
       "      <th>label</th>\n",
       "      <th>input_ids</th>\n",
       "      <th>attention_mask</th>\n",
       "      <th>pred_Department Name</th>\n",
       "      <th>pred_prob_Department Name</th>\n",
       "    </tr>\n",
       "  </thead>\n",
       "  <tbody>\n",
       "    <tr>\n",
       "      <th>0</th>\n",
       "      <td>meh</td>\n",
       "      <td>general petite . meh . this tunic is way over ...</td>\n",
       "      <td>general petite</td>\n",
       "      <td>Tops</td>\n",
       "      <td>4</td>\n",
       "      <td>[0, 15841, 4716, 1459, 479, 162, 298, 479, 42,...</td>\n",
       "      <td>[1, 1, 1, 1, 1, 1, 1, 1, 1, 1, 1, 1, 1, 1, 1, ...</td>\n",
       "      <td>Tops</td>\n",
       "      <td>0.993086</td>\n",
       "    </tr>\n",
       "    <tr>\n",
       "      <th>1</th>\n",
       "      <td>awesome buy!</td>\n",
       "      <td>general . awesome buy ! . i am so happy i took...</td>\n",
       "      <td>general</td>\n",
       "      <td>Bottoms</td>\n",
       "      <td>0</td>\n",
       "      <td>[0, 15841, 479, 6344, 907, 27785, 479, 939, 52...</td>\n",
       "      <td>[1, 1, 1, 1, 1, 1, 1, 1, 1, 1, 1, 1, 1, 1, 1, ...</td>\n",
       "      <td>Bottoms</td>\n",
       "      <td>0.959510</td>\n",
       "    </tr>\n",
       "    <tr>\n",
       "      <th>2</th>\n",
       "      <td>warm grey</td>\n",
       "      <td>general. warm grey. thes e are a lovely neutra...</td>\n",
       "      <td>general</td>\n",
       "      <td>Bottoms</td>\n",
       "      <td>0</td>\n",
       "      <td>[0, 15841, 4, 3279, 10521, 4, 5, 29, 364, 32, ...</td>\n",
       "      <td>[1, 1, 1, 1, 1, 1, 1, 1, 1, 1, 1, 1, 1, 1, 1, ...</td>\n",
       "      <td>Bottoms</td>\n",
       "      <td>0.964611</td>\n",
       "    </tr>\n",
       "    <tr>\n",
       "      <th>3</th>\n",
       "      <td>loved it, but it didn't work for me.</td>\n",
       "      <td>general . loved it , but it didn't work for me...</td>\n",
       "      <td>general</td>\n",
       "      <td>Tops</td>\n",
       "      <td>4</td>\n",
       "      <td>[0, 15841, 479, 2638, 24, 2156, 53, 24, 399, 7...</td>\n",
       "      <td>[1, 1, 1, 1, 1, 1, 1, 1, 1, 1, 1, 1, 1, 1, 1, ...</td>\n",
       "      <td>Tops</td>\n",
       "      <td>0.993068</td>\n",
       "    </tr>\n",
       "    <tr>\n",
       "      <th>4</th>\n",
       "      <td>varying feelings and opinions</td>\n",
       "      <td>general . varying feelings and opinions . as y...</td>\n",
       "      <td>general</td>\n",
       "      <td>Tops</td>\n",
       "      <td>4</td>\n",
       "      <td>[0, 15841, 479, 15958, 6453, 8, 5086, 479, 25,...</td>\n",
       "      <td>[1, 1, 1, 1, 1, 1, 1, 1, 1, 1, 1, 1, 1, 1, 1, ...</td>\n",
       "      <td>Bottoms</td>\n",
       "      <td>0.403084</td>\n",
       "    </tr>\n",
       "  </tbody>\n",
       "</table>\n",
       "</div>"
      ],
      "text/plain": [
       "                                  Title   \n",
       "0                                   meh  \\\n",
       "1                          awesome buy!   \n",
       "2                             warm grey   \n",
       "3  loved it, but it didn't work for me.   \n",
       "4         varying feelings and opinions   \n",
       "\n",
       "                                         Review Text   Division Name   \n",
       "0  general petite . meh . this tunic is way over ...  general petite  \\\n",
       "1  general . awesome buy ! . i am so happy i took...         general   \n",
       "2  general. warm grey. thes e are a lovely neutra...         general   \n",
       "3  general . loved it , but it didn't work for me...         general   \n",
       "4  general . varying feelings and opinions . as y...         general   \n",
       "\n",
       "  Department Name  label                                          input_ids   \n",
       "0            Tops      4  [0, 15841, 4716, 1459, 479, 162, 298, 479, 42,...  \\\n",
       "1         Bottoms      0  [0, 15841, 479, 6344, 907, 27785, 479, 939, 52...   \n",
       "2         Bottoms      0  [0, 15841, 4, 3279, 10521, 4, 5, 29, 364, 32, ...   \n",
       "3            Tops      4  [0, 15841, 479, 2638, 24, 2156, 53, 24, 399, 7...   \n",
       "4            Tops      4  [0, 15841, 479, 15958, 6453, 8, 5086, 479, 25,...   \n",
       "\n",
       "                                      attention_mask pred_Department Name   \n",
       "0  [1, 1, 1, 1, 1, 1, 1, 1, 1, 1, 1, 1, 1, 1, 1, ...                 Tops  \\\n",
       "1  [1, 1, 1, 1, 1, 1, 1, 1, 1, 1, 1, 1, 1, 1, 1, ...              Bottoms   \n",
       "2  [1, 1, 1, 1, 1, 1, 1, 1, 1, 1, 1, 1, 1, 1, 1, ...              Bottoms   \n",
       "3  [1, 1, 1, 1, 1, 1, 1, 1, 1, 1, 1, 1, 1, 1, 1, ...                 Tops   \n",
       "4  [1, 1, 1, 1, 1, 1, 1, 1, 1, 1, 1, 1, 1, 1, 1, ...              Bottoms   \n",
       "\n",
       "   pred_prob_Department Name  \n",
       "0                   0.993086  \n",
       "1                   0.959510  \n",
       "2                   0.964611  \n",
       "3                   0.993068  \n",
       "4                   0.403084  "
      ]
     },
     "execution_count": null,
     "metadata": {},
     "output_type": "execute_result"
    }
   ],
   "source": [
    "df_val = df_val.to_pandas()\n",
    "df_val.head()"
   ]
  },
  {
   "cell_type": "markdown",
   "metadata": {},
   "source": [
    "## Start the model evaluation"
   ]
  },
  {
   "cell_type": "code",
   "execution_count": null,
   "metadata": {},
   "outputs": [],
   "source": [
    "#| export\n",
    "from __future__ import annotations\n",
    "from that_nlp_library.utils import *\n",
    "from sklearn.metrics import classification_report,ConfusionMatrixDisplay\n",
    "import pandas as pd\n",
    "import numpy as np\n",
    "import matplotlib.pyplot as plt\n"
   ]
  },
  {
   "cell_type": "code",
   "execution_count": null,
   "metadata": {},
   "outputs": [],
   "source": [
    "#| hide\n",
    "#| export\n",
    "def _show_metrics(label,pred,metric_funcs):\n",
    "    results=''\n",
    "    for m_func in metric_funcs:\n",
    "        m_name=callable_name(m_func)\n",
    "        results+=f'{m_name}: {m_func(label,pred):.4f} . '\n",
    "    return results"
   ]
  },
  {
   "cell_type": "code",
   "execution_count": null,
   "metadata": {},
   "outputs": [],
   "source": [
    "#| export\n",
    "def evaluate_classification_model_metadata(df:pd.DataFrame, # The main dataframe containing the predictions\n",
    "                                           metadatas:str|list, # Metadata(s) to perform analysis\n",
    "                                           label_name:str, # Label's column name\n",
    "                                           pred_name:str, # Prediction's column name\n",
    "                                           metric_funcs:list, # Metric(s) to calculate\n",
    "                                          ):\n",
    "    metadatas = val2iterable(metadatas)\n",
    "    metric_funcs = val2iterable(metric_funcs)\n",
    "    \n",
    "    for metadata in metadatas:\n",
    "        print_msg(f'{label_name} Analysis on metadata: {metadata}',20)\n",
    "        print_msg('Distribution',10)\n",
    "        print(pd.concat((df[metadata].value_counts(),df[metadata].value_counts(normalize=True)),axis=1))\n",
    "        print()\n",
    "        print_msg(f'Metrics for each value in {metadata}',10)\n",
    "        print(f'- For all data:\\n{_show_metrics(df[label_name].values,df[pred_name].values,metric_funcs)}')\n",
    "        for val in np.sort(df[metadata].unique()):\n",
    "            y_true=df.loc[df[metadata]==val,label_name].values\n",
    "            y_pred=df.loc[df[metadata]==val,pred_name].values\n",
    "            print(f'- For {val}:\\n{_show_metrics(y_true,y_pred,metric_funcs)}')"
   ]
  },
  {
   "cell_type": "code",
   "execution_count": null,
   "metadata": {},
   "outputs": [
    {
     "data": {
      "text/markdown": [
       "---\n",
       "\n",
       "[source](https://github.com/anhquan0412/that-nlp-library/blob/main/that_nlp_library/evaluations.py#L24){target=\"_blank\" style=\"float:right; font-size:smaller\"}\n",
       "\n",
       "### evaluate_classification_model_metadata\n",
       "\n",
       ">      evaluate_classification_model_metadata (df:pandas.core.frame.DataFrame,\n",
       ">                                              metadatas:str|list,\n",
       ">                                              label_name:str, pred_name:str,\n",
       ">                                              metric_funcs:list)\n",
       "\n",
       "|    | **Type** | **Details** |\n",
       "| -- | -------- | ----------- |\n",
       "| df | pd.DataFrame | The main dataframe containing the predictions |\n",
       "| metadatas | str \\| list | Metadata(s) to perform analysis |\n",
       "| label_name | str | Label's column name |\n",
       "| pred_name | str | Prediction's column name |\n",
       "| metric_funcs | list | Metric(s) to calculate |"
      ],
      "text/plain": [
       "---\n",
       "\n",
       "[source](https://github.com/anhquan0412/that-nlp-library/blob/main/that_nlp_library/evaluations.py#L24){target=\"_blank\" style=\"float:right; font-size:smaller\"}\n",
       "\n",
       "### evaluate_classification_model_metadata\n",
       "\n",
       ">      evaluate_classification_model_metadata (df:pandas.core.frame.DataFrame,\n",
       ">                                              metadatas:str|list,\n",
       ">                                              label_name:str, pred_name:str,\n",
       ">                                              metric_funcs:list)\n",
       "\n",
       "|    | **Type** | **Details** |\n",
       "| -- | -------- | ----------- |\n",
       "| df | pd.DataFrame | The main dataframe containing the predictions |\n",
       "| metadatas | str \\| list | Metadata(s) to perform analysis |\n",
       "| label_name | str | Label's column name |\n",
       "| pred_name | str | Prediction's column name |\n",
       "| metric_funcs | list | Metric(s) to calculate |"
      ]
     },
     "execution_count": null,
     "metadata": {},
     "output_type": "execute_result"
    }
   ],
   "source": [
    "show_doc(evaluate_classification_model_metadata)"
   ]
  },
  {
   "cell_type": "code",
   "execution_count": null,
   "metadata": {},
   "outputs": [],
   "source": [
    "metric_funcs = [partial(f1_score,average='macro'),accuracy_score]"
   ]
  },
  {
   "cell_type": "code",
   "execution_count": null,
   "metadata": {},
   "outputs": [
    {
     "name": "stdout",
     "output_type": "stream",
     "text": [
      "-------------------- Department Name Analysis on metadata: Division Name --------------------\n",
      "---------- Distribution ----------\n",
      "                count  proportion\n",
      "Division Name                    \n",
      "general         10677    0.589824\n",
      "general petite   6291    0.347531\n",
      "initmates        1134    0.062645\n",
      "\n",
      "---------- Metrics for each value in Division Name ----------\n",
      "- For all data:\n",
      "f1_score: 0.7475 . accuracy_score: 0.9222 . \n",
      "- For general:\n",
      "f1_score: 0.7112 . accuracy_score: 0.9252 . \n",
      "- For general petite:\n",
      "f1_score: 0.5926 . accuracy_score: 0.9030 . \n",
      "- For initmates:\n",
      "f1_score: 1.0000 . accuracy_score: 1.0000 . \n"
     ]
    }
   ],
   "source": [
    "evaluate_classification_model_metadata(df_val,metadatas='Division Name',\n",
    "                                       label_name='Department Name',\n",
    "                                       pred_name='pred_Department Name',\n",
    "                                       metric_funcs=metric_funcs\n",
    "                                      )"
   ]
  },
  {
   "cell_type": "code",
   "execution_count": null,
   "metadata": {},
   "outputs": [],
   "source": [
    "#| export\n",
    "def show_top_n_predictions(df:pd.DataFrame, # The main dataframe containing the predictions\n",
    "                          text_name:str, # Text's column name\n",
    "                          label_name:str, # Label's column name\n",
    "                          pred_name:str, # Prediction's column name\n",
    "                          prob_name:str, # Prediction probability's column name\n",
    "                          is_incorrect=True, # To show top correct or incorrect sentences\n",
    "                          ascending=False, # To sort by prob_name ascendingly or descendingly\n",
    "                          n_show=10, # Number of sentences to show\n",
    "                         ):\n",
    "    if is_incorrect:\n",
    "        df = df[df[pred_name]!=df[label_name]]\n",
    "    else:\n",
    "        df = df[df[pred_name]==df[label_name]]\n",
    "    df = df.sort_values(prob_name,ascending=ascending)[[text_name,label_name,pred_name,prob_name]].head(n_show).values\n",
    "    for row in df:\n",
    "        print(f'Text: {row[0]}')\n",
    "        print(f'True label: {row[1]}, {\"but\" if is_incorrect else \"\"} predict {row[2]}, with confidence {row[3]:.4f}')\n",
    "        print('-'*60)"
   ]
  },
  {
   "cell_type": "code",
   "execution_count": null,
   "metadata": {},
   "outputs": [
    {
     "data": {
      "text/markdown": [
       "---\n",
       "\n",
       "[source](https://github.com/anhquan0412/that-nlp-library/blob/main/that_nlp_library/evaluations.py#L46){target=\"_blank\" style=\"float:right; font-size:smaller\"}\n",
       "\n",
       "### show_top_n_predictions\n",
       "\n",
       ">      show_top_n_predictions (df:pandas.core.frame.DataFrame, text_name:str,\n",
       ">                              label_name:str, pred_name:str, prob_name:str,\n",
       ">                              is_incorrect=True, ascending=False, n_show=10)\n",
       "\n",
       "|    | **Type** | **Default** | **Details** |\n",
       "| -- | -------- | ----------- | ----------- |\n",
       "| df | pd.DataFrame |  | The main dataframe containing the predictions |\n",
       "| text_name | str |  | Text's column name |\n",
       "| label_name | str |  | Label's column name |\n",
       "| pred_name | str |  | Prediction's column name |\n",
       "| prob_name | str |  | Prediction probability's column name |\n",
       "| is_incorrect | bool | True | To show top correct or incorrect sentences |\n",
       "| ascending | bool | False | To sort by prob_name ascendingly or descendingly |\n",
       "| n_show | int | 10 | Number of sentences to show |"
      ],
      "text/plain": [
       "---\n",
       "\n",
       "[source](https://github.com/anhquan0412/that-nlp-library/blob/main/that_nlp_library/evaluations.py#L46){target=\"_blank\" style=\"float:right; font-size:smaller\"}\n",
       "\n",
       "### show_top_n_predictions\n",
       "\n",
       ">      show_top_n_predictions (df:pandas.core.frame.DataFrame, text_name:str,\n",
       ">                              label_name:str, pred_name:str, prob_name:str,\n",
       ">                              is_incorrect=True, ascending=False, n_show=10)\n",
       "\n",
       "|    | **Type** | **Default** | **Details** |\n",
       "| -- | -------- | ----------- | ----------- |\n",
       "| df | pd.DataFrame |  | The main dataframe containing the predictions |\n",
       "| text_name | str |  | Text's column name |\n",
       "| label_name | str |  | Label's column name |\n",
       "| pred_name | str |  | Prediction's column name |\n",
       "| prob_name | str |  | Prediction probability's column name |\n",
       "| is_incorrect | bool | True | To show top correct or incorrect sentences |\n",
       "| ascending | bool | False | To sort by prob_name ascendingly or descendingly |\n",
       "| n_show | int | 10 | Number of sentences to show |"
      ]
     },
     "execution_count": null,
     "metadata": {},
     "output_type": "execute_result"
    }
   ],
   "source": [
    "show_doc(show_top_n_predictions)"
   ]
  },
  {
   "cell_type": "code",
   "execution_count": null,
   "metadata": {},
   "outputs": [
    {
     "name": "stdout",
     "output_type": "stream",
     "text": [
      "Text: general . unique blouse ; does not flatter full figures . this is a unique blouse and well worth a try . it is pure wool , so dry clean only . though it is wool , it is actually very thin and lightweight . i didn't find it to be scratchy . . i am a size xl , but in this blouse the large fit fine . the narrowest part of this blouse is the width of the shoulders , everything else is very voluminous . for this reason , it doesn't flatter my full figure ; it makes me look much heavier than i am . my only options are to return it , or bring it to a local seamstress who\n",
      "True label: Trend, but predict Tops, with confidence 0.9932\n",
      "------------------------------------------------------------\n",
      "Text: general petite . amazing casul top . i absolutely adore this top ! ! ! i got it in the blue and went back a few days later and got the gray as well . it's super soft and casual but still really cute . it's a little long ( i'm 5 ' 4 ) but i tuck in the front or tie a knot on the side and it looks good . i wish they had more colors so i could have a few more of these !\n",
      "True label: Intimate, but predict Tops, with confidence 0.9931\n",
      "------------------------------------------------------------\n",
      "Text: general. simple & elegant. you just can ' t go wrong with a perfect white top. i ' m usually xs or s and got this top in xs & the fit is perfect. the bottom is a very suvtle bubboe hem yhat you can ' t r$ally see in the picture. the top is boxy but not too overwhelming since the proportions are just righ6. 4hesis a great transjgional top that will go with skinny jeans, pencil skirts or even a pair of utility pants. it can easiky be dressed up or down.\n",
      "True label: Trend, but predict Tops, with confidence 0.9931\n",
      "------------------------------------------------------------\n",
      "Text: general petite . flimsy . oh what a disappointment ! i was looking forward to wearing this as a layering piece with the shawl cardigan . the material lacks serious quality and it was ripped on the seam . so , back it goes . and , i am flabbergasted at the price retailer is charging almost $ 60 for this top !\n",
      "True label: Intimate, but predict Tops, with confidence 0.9931\n",
      "------------------------------------------------------------\n",
      "Text: general petite. . luv this top / dgess / coverup. . runs a lil big. .. i cized down for a more fitted look to pair it with cropped skinnj jeqns! fabric is nice, comfortable and light!\n",
      "True label: Intimate, but predict Tops, with confidence 0.9931\n",
      "------------------------------------------------------------\n"
     ]
    }
   ],
   "source": [
    "show_top_n_predictions(df_val,text_name='Review Text',\n",
    "                      label_name='Department Name',\n",
    "                      pred_name='pred_Department Name',\n",
    "                      prob_name='pred_prob_Department Name',\n",
    "                      is_incorrect=True,\n",
    "                      ascending=False,n_show=5)"
   ]
  },
  {
   "cell_type": "code",
   "execution_count": null,
   "metadata": {},
   "outputs": [
    {
     "name": "stdout",
     "output_type": "stream",
     "text": [
      "Text: general petite. . this jack4t is perfect for fall! lighyw4ight and easily worn over other tops or layers. looks great with jeans!\n",
      "True label: Jackets, but predict Dresses, with confidence 0.3215\n",
      "------------------------------------------------------------\n",
      "Text: general. shapeless tent. i triev this on in the store and it was hute. i couldn ' t try on a smaller cize because th#y only had a 2 and 4. i tried on my usual sjze 12. i don ' t think the embroidery is as pretty in person either. definitely not worth the price.\n",
      "True label: Dresses, but predict Tops, with confidence 0.3234\n",
      "------------------------------------------------------------\n",
      "Text: general . petite on this one ( 5 foot one and a half lol ) . so i tried on the regular size in the store , and love the top , but looked too big on me . color is gorgeous and rich , the sheer adds a little whimsical to it , and i love the tie-neck trend of lately . would go nicely with jeans ( skinny or flare ) or trousers , not sure about a skirt though , .\n",
      "True label: Tops, but predict Dresses, with confidence 0.3277\n",
      "------------------------------------------------------------\n",
      "Text: general petite. . simply awesome. wonderful fit and flatterz any body type. looke great booties, flats, or fli) flops. must have. ..\n",
      "True label: Bottoms, but predict Tops, with confidence 0.3303\n",
      "------------------------------------------------------------\n",
      "Text: general . stunning and so comfortable . i love this jumper ! it is absolutely gorgeous and also quite possibly the most comfortable piece of clothing i've ever owned .\n",
      "True label: Dresses, but predict Bottoms, with confidence 0.3303\n",
      "------------------------------------------------------------\n"
     ]
    }
   ],
   "source": [
    "show_top_n_predictions(df_val,text_name='Review Text',\n",
    "                      label_name='Department Name',\n",
    "                      pred_name='pred_Department Name',\n",
    "                      prob_name='pred_prob_Department Name',\n",
    "                      is_incorrect=True,\n",
    "                      ascending=True,n_show=5)"
   ]
  },
  {
   "cell_type": "code",
   "execution_count": null,
   "metadata": {},
   "outputs": [],
   "source": [
    "#| export\n",
    "def evaluate_classification_model(df:pd.DataFrame, # The main dataframe containing the predictions\n",
    "                              text_name:str, # Text's column name\n",
    "                              label_name:str, # Label's column name\n",
    "                              pred_name:str, # Prediction's column name\n",
    "                              prob_name:str, # Prediction probability's column name\n",
    "                              metric_funcs:list=[], # Metric(s) to calculate\n",
    "                              metadatas:str|list=[], # Metadata(s) to perform analysis\n",
    "                              n_show=10, # Number of sentences to show\n",
    "                              cm_figsize=(20,20), # Confusion matrix's figure size\n",
    "                             ):\n",
    "\n",
    "    y_true = df[label_name].values\n",
    "    y_pred = df[pred_name].values\n",
    "    print_msg(f'{label_name} Analysis',20)\n",
    "    print()\n",
    "    print_msg('Classification Report',15)\n",
    "    print(classification_report(y_true,y_pred))\n",
    "    print()\n",
    "    print_msg('Confusion Matrix',15)\n",
    "    fig,ax = plt.subplots(figsize=cm_figsize)\n",
    "    ConfusionMatrixDisplay.from_predictions(y_true,y_pred,xticks_rotation='vertical',ax=ax)\n",
    "    plt.show()\n",
    "    print()\n",
    "    evaluate_classification_model_metadata(df,metadatas,label_name,pred_name,metric_funcs)\n",
    "    print()\n",
    "    print_msg(\"Let's look at some wrong predictions with high confidence\",15)\n",
    "    show_top_n_predictions(df_val,text_name,label_name,pred_name,prob_name,\n",
    "                           is_incorrect=True,\n",
    "                           ascending=False,\n",
    "                          n_show=n_show)"
   ]
  },
  {
   "cell_type": "code",
   "execution_count": null,
   "metadata": {},
   "outputs": [
    {
     "data": {
      "text/markdown": [
       "---\n",
       "\n",
       "[source](https://github.com/anhquan0412/that-nlp-library/blob/main/that_nlp_library/evaluations.py#L66){target=\"_blank\" style=\"float:right; font-size:smaller\"}\n",
       "\n",
       "### evaluate_classification_model\n",
       "\n",
       ">      evaluate_classification_model (df:pandas.core.frame.DataFrame,\n",
       ">                                     text_name:str, label_name:str,\n",
       ">                                     pred_name:str, prob_name:str,\n",
       ">                                     metric_funcs:list=[],\n",
       ">                                     metadatas:str|list=[], n_show=10,\n",
       ">                                     cm_figsize=(20, 20))\n",
       "\n",
       "|    | **Type** | **Default** | **Details** |\n",
       "| -- | -------- | ----------- | ----------- |\n",
       "| df | pd.DataFrame |  | The main dataframe containing the predictions |\n",
       "| text_name | str |  | Text's column name |\n",
       "| label_name | str |  | Label's column name |\n",
       "| pred_name | str |  | Prediction's column name |\n",
       "| prob_name | str |  | Prediction probability's column name |\n",
       "| metric_funcs | list | [] | Metric(s) to calculate |\n",
       "| metadatas | str \\| list | [] | Metadata(s) to perform analysis |\n",
       "| n_show | int | 10 | Number of sentences to show |\n",
       "| cm_figsize | tuple | (20, 20) | Confusion matrix's figure size |"
      ],
      "text/plain": [
       "---\n",
       "\n",
       "[source](https://github.com/anhquan0412/that-nlp-library/blob/main/that_nlp_library/evaluations.py#L66){target=\"_blank\" style=\"float:right; font-size:smaller\"}\n",
       "\n",
       "### evaluate_classification_model\n",
       "\n",
       ">      evaluate_classification_model (df:pandas.core.frame.DataFrame,\n",
       ">                                     text_name:str, label_name:str,\n",
       ">                                     pred_name:str, prob_name:str,\n",
       ">                                     metric_funcs:list=[],\n",
       ">                                     metadatas:str|list=[], n_show=10,\n",
       ">                                     cm_figsize=(20, 20))\n",
       "\n",
       "|    | **Type** | **Default** | **Details** |\n",
       "| -- | -------- | ----------- | ----------- |\n",
       "| df | pd.DataFrame |  | The main dataframe containing the predictions |\n",
       "| text_name | str |  | Text's column name |\n",
       "| label_name | str |  | Label's column name |\n",
       "| pred_name | str |  | Prediction's column name |\n",
       "| prob_name | str |  | Prediction probability's column name |\n",
       "| metric_funcs | list | [] | Metric(s) to calculate |\n",
       "| metadatas | str \\| list | [] | Metadata(s) to perform analysis |\n",
       "| n_show | int | 10 | Number of sentences to show |\n",
       "| cm_figsize | tuple | (20, 20) | Confusion matrix's figure size |"
      ]
     },
     "execution_count": null,
     "metadata": {},
     "output_type": "execute_result"
    }
   ],
   "source": [
    "show_doc(evaluate_classification_model)"
   ]
  },
  {
   "cell_type": "code",
   "execution_count": null,
   "metadata": {},
   "outputs": [
    {
     "name": "stdout",
     "output_type": "stream",
     "text": [
      "-------------------- Department Name Analysis --------------------\n",
      "\n",
      "--------------- Classification Report ---------------\n"
     ]
    },
    {
     "name": "stderr",
     "output_type": "stream",
     "text": [
      "/home/quan/anaconda3/envs/fastai_v2/lib/python3.10/site-packages/sklearn/metrics/_classification.py:1344: UndefinedMetricWarning: Precision and F-score are ill-defined and being set to 0.0 in labels with no predicted samples. Use `zero_division` parameter to control this behavior.\n",
      "  _warn_prf(average, modifier, msg_start, len(result))\n",
      "/home/quan/anaconda3/envs/fastai_v2/lib/python3.10/site-packages/sklearn/metrics/_classification.py:1344: UndefinedMetricWarning: Precision and F-score are ill-defined and being set to 0.0 in labels with no predicted samples. Use `zero_division` parameter to control this behavior.\n",
      "  _warn_prf(average, modifier, msg_start, len(result))\n",
      "/home/quan/anaconda3/envs/fastai_v2/lib/python3.10/site-packages/sklearn/metrics/_classification.py:1344: UndefinedMetricWarning: Precision and F-score are ill-defined and being set to 0.0 in labels with no predicted samples. Use `zero_division` parameter to control this behavior.\n",
      "  _warn_prf(average, modifier, msg_start, len(result))\n"
     ]
    },
    {
     "name": "stdout",
     "output_type": "stream",
     "text": [
      "              precision    recall  f1-score   support\n",
      "\n",
      "     Bottoms       0.93      0.93      0.93      2967\n",
      "     Dresses       0.93      0.91      0.92      4897\n",
      "    Intimate       1.00      0.86      0.93      1312\n",
      "     Jackets       0.78      0.75      0.77       789\n",
      "        Tops       0.92      0.96      0.94      8038\n",
      "       Trend       0.00      0.00      0.00        99\n",
      "\n",
      "    accuracy                           0.92     18102\n",
      "   macro avg       0.76      0.74      0.75     18102\n",
      "weighted avg       0.92      0.92      0.92     18102\n",
      "\n",
      "\n",
      "--------------- Confusion Matrix ---------------\n"
     ]
    },
    {
     "data": {
      "image/png": "[encoded data removed]",
      "text/plain": [
       "<Figure size 800x800 with 2 Axes>"
      ]
     },
     "metadata": {},
     "output_type": "display_data"
    },
    {
     "name": "stdout",
     "output_type": "stream",
     "text": [
      "\n",
      "-------------------- Department Name Analysis on metadata: Division Name --------------------\n",
      "---------- Distribution ----------\n",
      "                count  proportion\n",
      "Division Name                    \n",
      "general         10677    0.589824\n",
      "general petite   6291    0.347531\n",
      "initmates        1134    0.062645\n",
      "\n",
      "---------- Metrics for each value in Division Name ----------\n",
      "- For all data:\n",
      "f1_score: 0.7475 . accuracy_score: 0.9222 . \n",
      "- For general:\n",
      "f1_score: 0.7112 . accuracy_score: 0.9252 . \n",
      "- For general petite:\n",
      "f1_score: 0.5926 . accuracy_score: 0.9030 . \n",
      "- For initmates:\n",
      "f1_score: 1.0000 . accuracy_score: 1.0000 . \n",
      "\n",
      "--------------- Let's look at some wrong predictions with high confidence ---------------\n",
      "Text: general . unique blouse ; does not flatter full figures . this is a unique blouse and well worth a try . it is pure wool , so dry clean only . though it is wool , it is actually very thin and lightweight . i didn't find it to be scratchy . . i am a size xl , but in this blouse the large fit fine . the narrowest part of this blouse is the width of the shoulders , everything else is very voluminous . for this reason , it doesn't flatter my full figure ; it makes me look much heavier than i am . my only options are to return it , or bring it to a local seamstress who\n",
      "True label: Trend, but predict Tops, with confidence 0.9932\n",
      "------------------------------------------------------------\n",
      "Text: general petite . amazing casul top . i absolutely adore this top ! ! ! i got it in the blue and went back a few days later and got the gray as well . it's super soft and casual but still really cute . it's a little long ( i'm 5 ' 4 ) but i tuck in the front or tie a knot on the side and it looks good . i wish they had more colors so i could have a few more of these !\n",
      "True label: Intimate, but predict Tops, with confidence 0.9931\n",
      "------------------------------------------------------------\n",
      "Text: general. simple & elegant. you just can ' t go wrong with a perfect white top. i ' m usually xs or s and got this top in xs & the fit is perfect. the bottom is a very suvtle bubboe hem yhat you can ' t r$ally see in the picture. the top is boxy but not too overwhelming since the proportions are just righ6. 4hesis a great transjgional top that will go with skinny jeans, pencil skirts or even a pair of utility pants. it can easiky be dressed up or down.\n",
      "True label: Trend, but predict Tops, with confidence 0.9931\n",
      "------------------------------------------------------------\n",
      "Text: general petite . flimsy . oh what a disappointment ! i was looking forward to wearing this as a layering piece with the shawl cardigan . the material lacks serious quality and it was ripped on the seam . so , back it goes . and , i am flabbergasted at the price retailer is charging almost $ 60 for this top !\n",
      "True label: Intimate, but predict Tops, with confidence 0.9931\n",
      "------------------------------------------------------------\n",
      "Text: general petite. . luv this top / dgess / coverup. . runs a lil big. .. i cized down for a more fitted look to pair it with cropped skinnj jeqns! fabric is nice, comfortable and light!\n",
      "True label: Intimate, but predict Tops, with confidence 0.9931\n",
      "------------------------------------------------------------\n"
     ]
    }
   ],
   "source": [
    "evaluate_classification_model(df_val,text_name='Review Text',\n",
    "                              label_name='Department Name',\n",
    "                              pred_name='pred_Department Name',\n",
    "                              prob_name='pred_prob_Department Name',\n",
    "                              metric_funcs=metric_funcs,\n",
    "                              metadatas='Division Name',\n",
    "                              cm_figsize=(8,8),\n",
    "                              n_show=5\n",
    "                             )"
   ]
  },
  {
   "cell_type": "code",
   "execution_count": null,
   "metadata": {},
   "outputs": [],
   "source": [
    "#| hide\n",
    "import nbdev; nbdev.nbdev_export()"
   ]
  },
  {
   "cell_type": "code",
   "execution_count": null,
   "metadata": {},
   "outputs": [],
   "source": []
  }
 ],
 "metadata": {
  "kernelspec": {
   "display_name": "python3",
   "language": "python",
   "name": "python3"
  }
 },
 "nbformat": 4,
 "nbformat_minor": 4
}

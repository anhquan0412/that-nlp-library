{
 "cells": [
  {
   "cell_type": "markdown",
   "metadata": {},
   "source": [
    "# Model Evaluations\n",
    "\n",
    "> This module contains some functions to evaluate your model in-depth\n",
    "\n",
    "- skip_showdoc: true\n",
    "- skip_exec: true"
   ]
  },
  {
   "cell_type": "code",
   "execution_count": null,
   "metadata": {},
   "outputs": [],
   "source": [
    "#| default_exp evaluations"
   ]
  },
  {
   "cell_type": "code",
   "execution_count": null,
   "metadata": {},
   "outputs": [],
   "source": [
    "#| hide\n",
    "from nbdev.showdoc import *"
   ]
  },
  {
   "cell_type": "code",
   "execution_count": null,
   "metadata": {},
   "outputs": [],
   "source": [
    "import os"
   ]
  },
  {
   "cell_type": "code",
   "execution_count": null,
   "metadata": {},
   "outputs": [],
   "source": [
    "os.environ['CUDA_VISIBLE_DEVICES'] = \"0\""
   ]
  },
  {
   "cell_type": "code",
   "execution_count": null,
   "metadata": {},
   "outputs": [],
   "source": [
    "from that_nlp_library.text_transformation import *\n",
    "from that_nlp_library.text_augmentation import *\n",
    "from that_nlp_library.text_main import *\n",
    "from that_nlp_library.utils import seed_everything"
   ]
  },
  {
   "cell_type": "code",
   "execution_count": null,
   "metadata": {},
   "outputs": [],
   "source": [
    "from underthesea import text_normalize\n",
    "from functools import partial\n",
    "from pathlib import Path\n",
    "from transformers import RobertaTokenizer\n",
    "from transformers.models.roberta.modeling_roberta import RobertaForSequenceClassification\n",
    "import nlpaug.augmenter.char as nac\n",
    "from datasets import load_dataset\n",
    "import random\n",
    "import pandas as pd\n",
    "import numpy as np"
   ]
  },
  {
   "cell_type": "code",
   "execution_count": null,
   "metadata": {},
   "outputs": [
    {
     "name": "stderr",
     "output_type": "stream",
     "text": [
      "comet_ml is installed but `COMET_API_KEY` is not set.\n"
     ]
    }
   ],
   "source": [
    "from that_nlp_library.model_main import *\n",
    "from sklearn.metrics import f1_score, accuracy_score"
   ]
  },
  {
   "cell_type": "markdown",
   "metadata": {},
   "source": [
    "## Evaluation for Single-head/Multi-head Classification"
   ]
  },
  {
   "cell_type": "markdown",
   "metadata": {},
   "source": [
    "### Create a TextDataController"
   ]
  },
  {
   "cell_type": "code",
   "execution_count": null,
   "metadata": {},
   "outputs": [],
   "source": [
    "# Define the custom augmentation function\n",
    "\n",
    "def nlp_aug_stochastic(x,aug=None,p=0.5):\n",
    "    if not isinstance(x,list): \n",
    "        if random.random()<p: return aug.augment(x)[0]\n",
    "        return x\n",
    "    news=[]\n",
    "    originals=[]\n",
    "    for _x in x:\n",
    "        if random.random()<p: news.append(_x)\n",
    "        else: originals.append(_x)\n",
    "    # only perform augmentation when needed\n",
    "    if len(news): news = aug.augment(news)\n",
    "    return news+originals"
   ]
  },
  {
   "cell_type": "code",
   "execution_count": null,
   "metadata": {},
   "outputs": [],
   "source": [
    "aug = nac.KeyboardAug(aug_char_max=3,aug_char_p=0.1,aug_word_p=0.07)\n",
    "nearby_aug_func = partial(nlp_aug_stochastic,aug=aug,p=0.3)"
   ]
  },
  {
   "cell_type": "code",
   "execution_count": null,
   "metadata": {},
   "outputs": [],
   "source": [
    "dset = load_dataset('sample_data',data_files=['Womens_Clothing_Reviews.csv'],split='train')"
   ]
  },
  {
   "cell_type": "code",
   "execution_count": null,
   "metadata": {},
   "outputs": [],
   "source": [
    "tdc = TextDataController(dset,\n",
    "                         main_text='Review Text',\n",
    "                         label_names='Department Name',\n",
    "                         sup_types='classification',\n",
    "                         filter_dict={'Review Text': lambda x: x is not None,\n",
    "                                      'Department Name': lambda x: x is not None,\n",
    "                                     },\n",
    "                         metadatas=['Title','Division Name'],\n",
    "                         content_transformations=[text_normalize,str.lower],\n",
    "                         content_augmentations= [nearby_aug_func,str.lower], \n",
    "                         # add \"str.lower\" here because nearby_aug might return uppercase character\n",
    "                         val_ratio=0.2,\n",
    "                         batch_size=1000,\n",
    "                         seed=42,\n",
    "                         num_proc=20,\n",
    "                         verbose=False\n",
    "                        )"
   ]
  },
  {
   "cell_type": "code",
   "execution_count": null,
   "metadata": {},
   "outputs": [
    {
     "data": {
      "application/vnd.jupyter.widget-view+json": {
       "model_id": "89c651dcde9d4af78694c1aa5cad5918",
       "version_major": 2,
       "version_minor": 0
      },
      "text/plain": [
       "Map (num_proc=20):   0%|          | 0/18102 [00:00<?, ? examples/s]"
      ]
     },
     "metadata": {},
     "output_type": "display_data"
    },
    {
     "data": {
      "application/vnd.jupyter.widget-view+json": {
       "model_id": "12fe173a0bd0434c8def6355eef7d4e0",
       "version_major": 2,
       "version_minor": 0
      },
      "text/plain": [
       "Map (num_proc=20):   0%|          | 0/18102 [00:00<?, ? examples/s]"
      ]
     },
     "metadata": {},
     "output_type": "display_data"
    },
    {
     "data": {
      "application/vnd.jupyter.widget-view+json": {
       "model_id": "f68a2faaf0244311b20a5fdc591b849a",
       "version_major": 2,
       "version_minor": 0
      },
      "text/plain": [
       "Flattening the indices (num_proc=20):   0%|          | 0/18102 [00:00<?, ? examples/s]"
      ]
     },
     "metadata": {},
     "output_type": "display_data"
    },
    {
     "data": {
      "application/vnd.jupyter.widget-view+json": {
       "model_id": "3c1a8117cba943a5a9a961a73504b35f",
       "version_major": 2,
       "version_minor": 0
      },
      "text/plain": [
       "Map (num_proc=20):   0%|          | 0/18102 [00:00<?, ? examples/s]"
      ]
     },
     "metadata": {},
     "output_type": "display_data"
    },
    {
     "data": {
      "application/vnd.jupyter.widget-view+json": {
       "model_id": "cebe6d01a9f64478a82264841d57e407",
       "version_major": 2,
       "version_minor": 0
      },
      "text/plain": [
       "Map (num_proc=20):   0%|          | 0/4526 [00:00<?, ? examples/s]"
      ]
     },
     "metadata": {},
     "output_type": "display_data"
    }
   ],
   "source": [
    "tokenizer = RobertaTokenizer.from_pretrained('roberta-base')\n",
    "\n",
    "tdc.process_and_tokenize(tokenizer,max_length=100,shuffle_trn=True)"
   ]
  },
  {
   "cell_type": "markdown",
   "metadata": {},
   "source": [
    "## Define and train model"
   ]
  },
  {
   "cell_type": "code",
   "execution_count": null,
   "metadata": {},
   "outputs": [],
   "source": [
    "num_classes = len(tdc.label_lists[0])\n",
    "metric_funcs = [partial(f1_score,average='macro'),accuracy_score] "
   ]
  },
  {
   "cell_type": "code",
   "execution_count": null,
   "metadata": {},
   "outputs": [
    {
     "name": "stderr",
     "output_type": "stream",
     "text": [
      "Some weights of RobertaForSequenceClassification were not initialized from the model checkpoint at roberta-base and are newly initialized: ['classifier.out_proj.bias', 'classifier.dense.weight', 'classifier.dense.bias', 'classifier.out_proj.weight']\n",
      "You should probably TRAIN this model on a down-stream task to be able to use it for predictions and inference.\n"
     ]
    }
   ],
   "source": [
    "seed_everything(42)\n",
    "model_name='roberta-base'\n",
    "model = RobertaForSequenceClassification.from_pretrained(model_name,num_labels=num_classes).to('cuda:0')"
   ]
  },
  {
   "cell_type": "code",
   "execution_count": null,
   "metadata": {},
   "outputs": [],
   "source": [
    "controller = ModelController(model,\n",
    "                             data_store=tdc,\n",
    "                             seed=42)"
   ]
  },
  {
   "cell_type": "code",
   "execution_count": null,
   "metadata": {},
   "outputs": [
    {
     "name": "stderr",
     "output_type": "stream",
     "text": [
      "/home/quan/anaconda3/envs/fastai_v2/lib/python3.10/site-packages/transformers/optimization.py:411: FutureWarning: This implementation of AdamW is deprecated and will be removed in a future version. Use the PyTorch implementation torch.optim.AdamW instead, or set `no_deprecation_warning=True` to disable this warning\n",
      "  warnings.warn(\n"
     ]
    },
    {
     "data": {
      "text/html": [
       "\n",
       "    <div>\n",
       "      \n",
       "      <progress value='849' max='849' style='width:300px; height:20px; vertical-align: middle;'></progress>\n",
       "      [849/849 02:11, Epoch 3/3]\n",
       "    </div>\n",
       "    <table border=\"1\" class=\"dataframe\">\n",
       "  <thead>\n",
       " <tr style=\"text-align: left;\">\n",
       "      <th>Epoch</th>\n",
       "      <th>Training Loss</th>\n",
       "      <th>Validation Loss</th>\n",
       "      <th>F1 Score Department name</th>\n",
       "      <th>Accuracy Score Department name</th>\n",
       "    </tr>\n",
       "  </thead>\n",
       "  <tbody>\n",
       "    <tr>\n",
       "      <td>1</td>\n",
       "      <td>No log</td>\n",
       "      <td>0.319571</td>\n",
       "      <td>0.742791</td>\n",
       "      <td>0.910959</td>\n",
       "    </tr>\n",
       "    <tr>\n",
       "      <td>2</td>\n",
       "      <td>0.419700</td>\n",
       "      <td>0.304928</td>\n",
       "      <td>0.745112</td>\n",
       "      <td>0.917145</td>\n",
       "    </tr>\n",
       "    <tr>\n",
       "      <td>3</td>\n",
       "      <td>0.419700</td>\n",
       "      <td>0.271433</td>\n",
       "      <td>0.750710</td>\n",
       "      <td>0.921785</td>\n",
       "    </tr>\n",
       "  </tbody>\n",
       "</table><p>"
      ],
      "text/plain": [
       "<IPython.core.display.HTML object>"
      ]
     },
     "metadata": {},
     "output_type": "display_data"
    }
   ],
   "source": [
    "lr = 1e-4\n",
    "bs=32\n",
    "wd=0.01\n",
    "epochs= 3\n",
    "\n",
    "controller.fit(epochs,lr,\n",
    "               metric_funcs=metric_funcs,\n",
    "               batch_size=bs,\n",
    "               weight_decay=wd,\n",
    "               save_checkpoint=False,\n",
    "               compute_metrics=compute_metrics,\n",
    "              )"
   ]
  },
  {
   "cell_type": "markdown",
   "metadata": {},
   "source": [
    "## Generate predictions"
   ]
  },
  {
   "cell_type": "markdown",
   "metadata": {},
   "source": [
    "We will do model evaluation on the validation set"
   ]
  },
  {
   "cell_type": "code",
   "execution_count": null,
   "metadata": {},
   "outputs": [
    {
     "name": "stdout",
     "output_type": "stream",
     "text": [
      "-------------------- Start making predictions --------------------\n"
     ]
    },
    {
     "data": {
      "application/vnd.jupyter.widget-view+json": {
       "model_id": "e5a84b9cefc7420f98ceec5b5c8f10d4",
       "version_major": 2,
       "version_minor": 0
      },
      "text/plain": [
       "Map:   0%|          | 0/4526 [00:00<?, ? examples/s]"
      ]
     },
     "metadata": {},
     "output_type": "display_data"
    },
    {
     "data": {
      "application/vnd.jupyter.widget-view+json": {
       "model_id": "984df004700d4072979628decc96d678",
       "version_major": 2,
       "version_minor": 0
      },
      "text/plain": [
       "Map:   0%|          | 0/4526 [00:00<?, ? examples/s]"
      ]
     },
     "metadata": {},
     "output_type": "display_data"
    }
   ],
   "source": [
    "df_val = controller.predict_ddict(ds_type='validation')"
   ]
  },
  {
   "cell_type": "code",
   "execution_count": null,
   "metadata": {},
   "outputs": [
    {
     "data": {
      "text/html": [
       "<div>\n",
       "<style scoped>\n",
       "    .dataframe tbody tr th:only-of-type {\n",
       "        vertical-align: middle;\n",
       "    }\n",
       "\n",
       "    .dataframe tbody tr th {\n",
       "        vertical-align: top;\n",
       "    }\n",
       "\n",
       "    .dataframe thead th {\n",
       "        text-align: right;\n",
       "    }\n",
       "</style>\n",
       "<table border=\"1\" class=\"dataframe\">\n",
       "  <thead>\n",
       "    <tr style=\"text-align: right;\">\n",
       "      <th></th>\n",
       "      <th>Title</th>\n",
       "      <th>Review Text</th>\n",
       "      <th>Division Name</th>\n",
       "      <th>Department Name</th>\n",
       "      <th>label</th>\n",
       "      <th>input_ids</th>\n",
       "      <th>attention_mask</th>\n",
       "      <th>pred_Department Name</th>\n",
       "      <th>pred_prob_Department Name</th>\n",
       "    </tr>\n",
       "  </thead>\n",
       "  <tbody>\n",
       "    <tr>\n",
       "      <th>0</th>\n",
       "      <td></td>\n",
       "      <td>general petite . . such a fun jacket ! great t...</td>\n",
       "      <td>general petite</td>\n",
       "      <td>Intimate</td>\n",
       "      <td>2</td>\n",
       "      <td>[0, 15841, 4716, 1459, 479, 479, 215, 10, 1531...</td>\n",
       "      <td>[1, 1, 1, 1, 1, 1, 1, 1, 1, 1, 1, 1, 1, 1, 1, ...</td>\n",
       "      <td>Jackets</td>\n",
       "      <td>0.816035</td>\n",
       "    </tr>\n",
       "    <tr>\n",
       "      <th>1</th>\n",
       "      <td>simple and elegant</td>\n",
       "      <td>general petite . simple and elegant . i though...</td>\n",
       "      <td>general petite</td>\n",
       "      <td>Tops</td>\n",
       "      <td>4</td>\n",
       "      <td>[0, 15841, 4716, 1459, 479, 2007, 8, 14878, 47...</td>\n",
       "      <td>[1, 1, 1, 1, 1, 1, 1, 1, 1, 1, 1, 1, 1, 1, 1, ...</td>\n",
       "      <td>Tops</td>\n",
       "      <td>0.995620</td>\n",
       "    </tr>\n",
       "    <tr>\n",
       "      <th>2</th>\n",
       "      <td>retro and pretty</td>\n",
       "      <td>general . retro and pretty . this top has a bi...</td>\n",
       "      <td>general</td>\n",
       "      <td>Tops</td>\n",
       "      <td>4</td>\n",
       "      <td>[0, 15841, 479, 11299, 8, 1256, 479, 42, 299, ...</td>\n",
       "      <td>[1, 1, 1, 1, 1, 1, 1, 1, 1, 1, 1, 1, 1, 1, 1, ...</td>\n",
       "      <td>Tops</td>\n",
       "      <td>0.995227</td>\n",
       "    </tr>\n",
       "    <tr>\n",
       "      <th>3</th>\n",
       "      <td>summer/fall wear</td>\n",
       "      <td>general petite . summer / fall wear . i first ...</td>\n",
       "      <td>general petite</td>\n",
       "      <td>Dresses</td>\n",
       "      <td>1</td>\n",
       "      <td>[0, 15841, 4716, 1459, 479, 1035, 1589, 1136, ...</td>\n",
       "      <td>[1, 1, 1, 1, 1, 1, 1, 1, 1, 1, 1, 1, 1, 1, 1, ...</td>\n",
       "      <td>Dresses</td>\n",
       "      <td>0.981572</td>\n",
       "    </tr>\n",
       "    <tr>\n",
       "      <th>4</th>\n",
       "      <td>perfect except slip</td>\n",
       "      <td>general petite . perfect except slip . this is...</td>\n",
       "      <td>general petite</td>\n",
       "      <td>Dresses</td>\n",
       "      <td>1</td>\n",
       "      <td>[0, 15841, 4716, 1459, 479, 1969, 4682, 9215, ...</td>\n",
       "      <td>[1, 1, 1, 1, 1, 1, 1, 1, 1, 1, 1, 1, 1, 1, 1, ...</td>\n",
       "      <td>Dresses</td>\n",
       "      <td>0.984236</td>\n",
       "    </tr>\n",
       "  </tbody>\n",
       "</table>\n",
       "</div>"
      ],
      "text/plain": [
       "                 Title                                        Review Text   \n",
       "0                       general petite . . such a fun jacket ! great t...  \\\n",
       "1   simple and elegant  general petite . simple and elegant . i though...   \n",
       "2     retro and pretty  general . retro and pretty . this top has a bi...   \n",
       "3     summer/fall wear  general petite . summer / fall wear . i first ...   \n",
       "4  perfect except slip  general petite . perfect except slip . this is...   \n",
       "\n",
       "    Division Name Department Name  label   \n",
       "0  general petite        Intimate      2  \\\n",
       "1  general petite            Tops      4   \n",
       "2         general            Tops      4   \n",
       "3  general petite         Dresses      1   \n",
       "4  general petite         Dresses      1   \n",
       "\n",
       "                                           input_ids   \n",
       "0  [0, 15841, 4716, 1459, 479, 479, 215, 10, 1531...  \\\n",
       "1  [0, 15841, 4716, 1459, 479, 2007, 8, 14878, 47...   \n",
       "2  [0, 15841, 479, 11299, 8, 1256, 479, 42, 299, ...   \n",
       "3  [0, 15841, 4716, 1459, 479, 1035, 1589, 1136, ...   \n",
       "4  [0, 15841, 4716, 1459, 479, 1969, 4682, 9215, ...   \n",
       "\n",
       "                                      attention_mask pred_Department Name   \n",
       "0  [1, 1, 1, 1, 1, 1, 1, 1, 1, 1, 1, 1, 1, 1, 1, ...              Jackets  \\\n",
       "1  [1, 1, 1, 1, 1, 1, 1, 1, 1, 1, 1, 1, 1, 1, 1, ...                 Tops   \n",
       "2  [1, 1, 1, 1, 1, 1, 1, 1, 1, 1, 1, 1, 1, 1, 1, ...                 Tops   \n",
       "3  [1, 1, 1, 1, 1, 1, 1, 1, 1, 1, 1, 1, 1, 1, 1, ...              Dresses   \n",
       "4  [1, 1, 1, 1, 1, 1, 1, 1, 1, 1, 1, 1, 1, 1, 1, ...              Dresses   \n",
       "\n",
       "   pred_prob_Department Name  \n",
       "0                   0.816035  \n",
       "1                   0.995620  \n",
       "2                   0.995227  \n",
       "3                   0.981572  \n",
       "4                   0.984236  "
      ]
     },
     "execution_count": null,
     "metadata": {},
     "output_type": "execute_result"
    }
   ],
   "source": [
    "df_val = df_val.to_pandas()\n",
    "df_val.head()"
   ]
  },
  {
   "cell_type": "markdown",
   "metadata": {},
   "source": [
    "## Start the model evaluation"
   ]
  },
  {
   "cell_type": "code",
   "execution_count": null,
   "metadata": {},
   "outputs": [],
   "source": [
    "#| export\n",
    "from __future__ import annotations\n",
    "from that_nlp_library.utils import *\n",
    "from sklearn.metrics import classification_report,ConfusionMatrixDisplay\n",
    "import pandas as pd\n",
    "import numpy as np\n",
    "import matplotlib.pyplot as plt\n"
   ]
  },
  {
   "cell_type": "code",
   "execution_count": null,
   "metadata": {},
   "outputs": [],
   "source": [
    "#| hide\n",
    "#| export\n",
    "def _show_metrics(label,pred,metric_funcs):\n",
    "    results=''\n",
    "    for m_func in metric_funcs:\n",
    "        m_name=callable_name(m_func)\n",
    "        results+=f'{m_name}: {m_func(label,pred):.4f} . '\n",
    "    return results"
   ]
  },
  {
   "cell_type": "code",
   "execution_count": null,
   "metadata": {},
   "outputs": [],
   "source": [
    "#| export\n",
    "def evaluate_classification_model_metadata(df:pd.DataFrame, # The main dataframe containing the predictions\n",
    "                                           metadatas:str|list, # Metadata(s) to perform analysis\n",
    "                                           label_name:str, # Label's column name\n",
    "                                           pred_name:str, # Prediction's column name\n",
    "                                           metric_funcs:list, # Metric(s) to calculate\n",
    "                                          ):\n",
    "    metadatas = val2iterable(metadatas)\n",
    "    metric_funcs = val2iterable(metric_funcs)\n",
    "    \n",
    "    for metadata in metadatas:\n",
    "        print_msg(f'{label_name} Analysis on metadata: {metadata}',20)\n",
    "        print_msg('Distribution',10)\n",
    "        print(pd.concat((df[metadata].value_counts(),df[metadata].value_counts(normalize=True)),axis=1))\n",
    "        print()\n",
    "        print_msg(f'Metrics for each value in {metadata}',10)\n",
    "        print(f'- For all data:\\n{_show_metrics(df[label_name].values,df[pred_name].values,metric_funcs)}')\n",
    "        for val in np.sort(df[metadata].unique()):\n",
    "            y_true=df.loc[df[metadata]==val,label_name].values\n",
    "            y_pred=df.loc[df[metadata]==val,pred_name].values\n",
    "            print(f'- For {val}:\\n{_show_metrics(y_true,y_pred,metric_funcs)}')"
   ]
  },
  {
   "cell_type": "code",
   "execution_count": null,
   "metadata": {},
   "outputs": [
    {
     "data": {
      "text/markdown": [
       "---\n",
       "\n",
       "[source](https://github.com/anhquan0412/that-nlp-library/blob/main/that_nlp_library/evaluations.py#L24){target=\"_blank\" style=\"float:right; font-size:smaller\"}\n",
       "\n",
       "### evaluate_classification_model_metadata\n",
       "\n",
       ">      evaluate_classification_model_metadata (df:pandas.core.frame.DataFrame,\n",
       ">                                              metadatas:str|list,\n",
       ">                                              label_name:str, pred_name:str,\n",
       ">                                              metric_funcs:list)\n",
       "\n",
       "|    | **Type** | **Details** |\n",
       "| -- | -------- | ----------- |\n",
       "| df | pd.DataFrame | The main dataframe containing the predictions |\n",
       "| metadatas | str \\| list | Metadata(s) to perform analysis |\n",
       "| label_name | str | Label's column name |\n",
       "| pred_name | str | Prediction's column name |\n",
       "| metric_funcs | list | Metric(s) to calculate |"
      ],
      "text/plain": [
       "---\n",
       "\n",
       "[source](https://github.com/anhquan0412/that-nlp-library/blob/main/that_nlp_library/evaluations.py#L24){target=\"_blank\" style=\"float:right; font-size:smaller\"}\n",
       "\n",
       "### evaluate_classification_model_metadata\n",
       "\n",
       ">      evaluate_classification_model_metadata (df:pandas.core.frame.DataFrame,\n",
       ">                                              metadatas:str|list,\n",
       ">                                              label_name:str, pred_name:str,\n",
       ">                                              metric_funcs:list)\n",
       "\n",
       "|    | **Type** | **Details** |\n",
       "| -- | -------- | ----------- |\n",
       "| df | pd.DataFrame | The main dataframe containing the predictions |\n",
       "| metadatas | str \\| list | Metadata(s) to perform analysis |\n",
       "| label_name | str | Label's column name |\n",
       "| pred_name | str | Prediction's column name |\n",
       "| metric_funcs | list | Metric(s) to calculate |"
      ]
     },
     "execution_count": null,
     "metadata": {},
     "output_type": "execute_result"
    }
   ],
   "source": [
    "show_doc(evaluate_classification_model_metadata)"
   ]
  },
  {
   "cell_type": "code",
   "execution_count": null,
   "metadata": {},
   "outputs": [],
   "source": [
    "metric_funcs = [partial(f1_score,average='macro'),accuracy_score]"
   ]
  },
  {
   "cell_type": "code",
   "execution_count": null,
   "metadata": {},
   "outputs": [
    {
     "name": "stdout",
     "output_type": "stream",
     "text": [
      "-------------------- Department Name Analysis on metadata: Division Name --------------------\n",
      "---------- Distribution ----------\n",
      "                count  proportion\n",
      "Division Name                    \n",
      "general          2688    0.593902\n",
      "general petite   1546    0.341582\n",
      "initmates         292    0.064516\n",
      "\n",
      "---------- Metrics for each value in Division Name ----------\n",
      "- For all data:\n",
      "f1_score: 0.7507 . accuracy_score: 0.9218 . \n",
      "- For general:\n",
      "f1_score: 0.5950 . accuracy_score: 0.9189 . \n",
      "- For general petite:\n",
      "f1_score: 0.6108 . accuracy_score: 0.9120 . \n",
      "- For initmates:\n",
      "f1_score: 1.0000 . accuracy_score: 1.0000 . \n"
     ]
    }
   ],
   "source": [
    "evaluate_classification_model_metadata(df_val,metadatas='Division Name',\n",
    "                                       label_name='Department Name',\n",
    "                                       pred_name='pred_Department Name',\n",
    "                                       metric_funcs=metric_funcs\n",
    "                                      )"
   ]
  },
  {
   "cell_type": "code",
   "execution_count": null,
   "metadata": {},
   "outputs": [],
   "source": [
    "#| export\n",
    "def show_top_n_predictions(df:pd.DataFrame, # The main dataframe containing the predictions\n",
    "                          text_name:str, # Text's column name\n",
    "                          label_name:str, # Label's column name\n",
    "                          pred_name:str, # Prediction's column name\n",
    "                          prob_name:str, # Prediction probability's column name\n",
    "                          is_incorrect=True, # To show top correct or incorrect sentences\n",
    "                          ascending=False, # To sort by prob_name ascendingly or descendingly\n",
    "                          n_show=10, # Number of sentences to show\n",
    "                         ):\n",
    "    if is_incorrect:\n",
    "        df = df[df[pred_name]!=df[label_name]]\n",
    "    else:\n",
    "        df = df[df[pred_name]==df[label_name]]\n",
    "    df = df.sort_values(prob_name,ascending=ascending)[[text_name,label_name,pred_name,prob_name]].head(n_show).values\n",
    "    for row in df:\n",
    "        print(f'Text: {row[0]}')\n",
    "        print(f'True label: {row[1]}, {\"but\" if is_incorrect else \"\"} predict {row[2]}, with confidence {row[3]:.4f}')\n",
    "        print('-'*60)"
   ]
  },
  {
   "cell_type": "code",
   "execution_count": null,
   "metadata": {},
   "outputs": [
    {
     "data": {
      "text/markdown": [
       "---\n",
       "\n",
       "[source](https://github.com/anhquan0412/that-nlp-library/blob/main/that_nlp_library/evaluations.py#L46){target=\"_blank\" style=\"float:right; font-size:smaller\"}\n",
       "\n",
       "### show_top_n_predictions\n",
       "\n",
       ">      show_top_n_predictions (df:pandas.core.frame.DataFrame, text_name:str,\n",
       ">                              label_name:str, pred_name:str, prob_name:str,\n",
       ">                              is_incorrect=True, ascending=False, n_show=10)\n",
       "\n",
       "|    | **Type** | **Default** | **Details** |\n",
       "| -- | -------- | ----------- | ----------- |\n",
       "| df | pd.DataFrame |  | The main dataframe containing the predictions |\n",
       "| text_name | str |  | Text's column name |\n",
       "| label_name | str |  | Label's column name |\n",
       "| pred_name | str |  | Prediction's column name |\n",
       "| prob_name | str |  | Prediction probability's column name |\n",
       "| is_incorrect | bool | True | To show top correct or incorrect sentences |\n",
       "| ascending | bool | False | To sort by prob_name ascendingly or descendingly |\n",
       "| n_show | int | 10 | Number of sentences to show |"
      ],
      "text/plain": [
       "---\n",
       "\n",
       "[source](https://github.com/anhquan0412/that-nlp-library/blob/main/that_nlp_library/evaluations.py#L46){target=\"_blank\" style=\"float:right; font-size:smaller\"}\n",
       "\n",
       "### show_top_n_predictions\n",
       "\n",
       ">      show_top_n_predictions (df:pandas.core.frame.DataFrame, text_name:str,\n",
       ">                              label_name:str, pred_name:str, prob_name:str,\n",
       ">                              is_incorrect=True, ascending=False, n_show=10)\n",
       "\n",
       "|    | **Type** | **Default** | **Details** |\n",
       "| -- | -------- | ----------- | ----------- |\n",
       "| df | pd.DataFrame |  | The main dataframe containing the predictions |\n",
       "| text_name | str |  | Text's column name |\n",
       "| label_name | str |  | Label's column name |\n",
       "| pred_name | str |  | Prediction's column name |\n",
       "| prob_name | str |  | Prediction probability's column name |\n",
       "| is_incorrect | bool | True | To show top correct or incorrect sentences |\n",
       "| ascending | bool | False | To sort by prob_name ascendingly or descendingly |\n",
       "| n_show | int | 10 | Number of sentences to show |"
      ]
     },
     "execution_count": null,
     "metadata": {},
     "output_type": "execute_result"
    }
   ],
   "source": [
    "show_doc(show_top_n_predictions)"
   ]
  },
  {
   "cell_type": "code",
   "execution_count": null,
   "metadata": {},
   "outputs": [
    {
     "name": "stdout",
     "output_type": "stream",
     "text": [
      "Text: general . great cozy sweater . i initially bought the red and blue sweater in a medium . i usually wear a large and the medium fits perfectly and is still a bit baggy . i'm tall ( 5 ' 9 \" ) and so i love the length of the sleeves when they are unrolled . it's a very versatile piece . with sleeves rolled down you can fold the collar so the red is out of sight and just have a navy blue sweater . either look is nice . i loved it so much i bought the black and brown version . also , the fabric doesn't feel thick but it is very insulating and\n",
      "True label: Jackets, but predict Tops, with confidence 0.9958\n",
      "------------------------------------------------------------\n",
      "Text: general . is this top orange or red . wish this site had \" ask a question about the product \" feature like amazon does . just wondering if anyone has seen this product in person to verify color ? it looks orange but descriptor says red . would appreciate feedback . thank you for your help .\n",
      "True label: Jackets, but predict Tops, with confidence 0.9958\n",
      "------------------------------------------------------------\n",
      "Text: general petite . . i love this sweater . i didn't buy it the first time when i tried it at the store because the buttoned look created a bulk on one side and i thought that this was very weird . it might have been what i was wearing underneath that day or that particular sweater . but then at 40 % off i decided to give it another try and i'm happy that i did . i bought the navy and i love the feel of the material . sizing down makes all the difference , too . i wasn't fan of the attached sleeves at first as they are made\n",
      "True label: Jackets, but predict Tops, with confidence 0.9958\n",
      "------------------------------------------------------------\n",
      "Text: general . this sweater is adorable . . great fit . colors look just like the pic . not too heavy but , warm and cozy .\n",
      "True label: Jackets, but predict Tops, with confidence 0.9958\n",
      "------------------------------------------------------------\n",
      "Text: general . elegant retro sweater tee . this sweater tee is made from a fine but substantial knit which hangs beautifully and flows over imperfections in your figure . the cut is very 1950 ' s through the sleeves and neckline . it's a little cropped and boxy , just so that it hides your belly and accentuates your hips . it looks phenomenal with a crinolined a-line skirt .\n",
      "True label: Trend, but predict Tops, with confidence 0.9957\n",
      "------------------------------------------------------------\n"
     ]
    }
   ],
   "source": [
    "show_top_n_predictions(df_val,text_name='Review Text',\n",
    "                      label_name='Department Name',\n",
    "                      pred_name='pred_Department Name',\n",
    "                      prob_name='pred_prob_Department Name',\n",
    "                      is_incorrect=True,\n",
    "                      ascending=False,n_show=5)"
   ]
  },
  {
   "cell_type": "code",
   "execution_count": null,
   "metadata": {},
   "outputs": [
    {
     "name": "stdout",
     "output_type": "stream",
     "text": [
      "Text: general . super cute , poor quality . i wore this for the first time today , and after just about an hour , it gently nicked something and got a hole in the pack . its so disappointing as i love they style and its so comfortable . very poor quality for the price : (\n",
      "True label: Dresses, but predict Tops, with confidence 0.3295\n",
      "------------------------------------------------------------\n",
      "Text: general petite . great feel . order a size down\n",
      "True label: Dresses, but predict Tops, with confidence 0.3326\n",
      "------------------------------------------------------------\n",
      "Text: general . cute and comfy . very cute and true to size if not just a little large up top .\n",
      "True label: Bottoms, but predict Intimate, with confidence 0.3363\n",
      "------------------------------------------------------------\n",
      "Text: general petite . pretty design but poor quality . pretty design , but when i tried it on , the fabric was thin and delicate . i don't think it would last long with much wear . too bad . if the fabric were sturdier , it'd be great as the cut is flattering and i love the pockets .\n",
      "True label: Tops, but predict Bottoms, with confidence 0.3472\n",
      "------------------------------------------------------------\n",
      "Text: general petite . . i'm 5 ' 1 and 110 lbs . i ordered this in a xsp and i could barely zip it up . and when i did i couldn't breathe . i tried again and ordered a sp and it's perfect ! now i just need somewhere to wear it .\n",
      "True label: Dresses, but predict Tops, with confidence 0.3503\n",
      "------------------------------------------------------------\n"
     ]
    }
   ],
   "source": [
    "show_top_n_predictions(df_val,text_name='Review Text',\n",
    "                      label_name='Department Name',\n",
    "                      pred_name='pred_Department Name',\n",
    "                      prob_name='pred_prob_Department Name',\n",
    "                      is_incorrect=True,\n",
    "                      ascending=True,n_show=5)"
   ]
  },
  {
   "cell_type": "code",
   "execution_count": null,
   "metadata": {},
   "outputs": [],
   "source": [
    "#| export\n",
    "def evaluate_classification_model(df:pd.DataFrame, # The main dataframe containing the predictions\n",
    "                              text_name:str, # Text's column name\n",
    "                              label_name:str, # Label's column name\n",
    "                              pred_name:str, # Prediction's column name\n",
    "                              prob_name:str, # Prediction probability's column name\n",
    "                              metric_funcs:list=[], # Metric(s) to calculate\n",
    "                              metadatas:str|list=[], # Metadata(s) to perform analysis\n",
    "                              n_show=10, # Number of sentences to show\n",
    "                              cm_figsize=(20,20), # Confusion matrix's figure size\n",
    "                             ):\n",
    "\n",
    "    y_true = df[label_name].values\n",
    "    y_pred = df[pred_name].values\n",
    "    print_msg(f'{label_name} Analysis',20)\n",
    "    print()\n",
    "    print_msg('Classification Report',15)\n",
    "    print(classification_report(y_true,y_pred))\n",
    "    print()\n",
    "    print_msg('Confusion Matrix',15)\n",
    "    fig,ax = plt.subplots(figsize=cm_figsize)\n",
    "    ConfusionMatrixDisplay.from_predictions(y_true,y_pred,xticks_rotation='vertical',ax=ax)\n",
    "    plt.show()\n",
    "    print()\n",
    "    evaluate_classification_model_metadata(df,metadatas,label_name,pred_name,metric_funcs)\n",
    "    print()\n",
    "    print_msg(\"Let's look at some wrong predictions with high confidence\",15)\n",
    "    show_top_n_predictions(df,text_name,label_name,pred_name,prob_name,\n",
    "                           is_incorrect=True,\n",
    "                           ascending=False,\n",
    "                           n_show=n_show)"
   ]
  },
  {
   "cell_type": "code",
   "execution_count": null,
   "metadata": {},
   "outputs": [
    {
     "data": {
      "text/markdown": [
       "---\n",
       "\n",
       "[source](https://github.com/anhquan0412/that-nlp-library/blob/main/that_nlp_library/evaluations.py#L66){target=\"_blank\" style=\"float:right; font-size:smaller\"}\n",
       "\n",
       "### evaluate_classification_model\n",
       "\n",
       ">      evaluate_classification_model (df:pandas.core.frame.DataFrame,\n",
       ">                                     text_name:str, label_name:str,\n",
       ">                                     pred_name:str, prob_name:str,\n",
       ">                                     metric_funcs:list=[],\n",
       ">                                     metadatas:str|list=[], n_show=10,\n",
       ">                                     cm_figsize=(20, 20))\n",
       "\n",
       "|    | **Type** | **Default** | **Details** |\n",
       "| -- | -------- | ----------- | ----------- |\n",
       "| df | pd.DataFrame |  | The main dataframe containing the predictions |\n",
       "| text_name | str |  | Text's column name |\n",
       "| label_name | str |  | Label's column name |\n",
       "| pred_name | str |  | Prediction's column name |\n",
       "| prob_name | str |  | Prediction probability's column name |\n",
       "| metric_funcs | list | [] | Metric(s) to calculate |\n",
       "| metadatas | str \\| list | [] | Metadata(s) to perform analysis |\n",
       "| n_show | int | 10 | Number of sentences to show |\n",
       "| cm_figsize | tuple | (20, 20) | Confusion matrix's figure size |"
      ],
      "text/plain": [
       "---\n",
       "\n",
       "[source](https://github.com/anhquan0412/that-nlp-library/blob/main/that_nlp_library/evaluations.py#L66){target=\"_blank\" style=\"float:right; font-size:smaller\"}\n",
       "\n",
       "### evaluate_classification_model\n",
       "\n",
       ">      evaluate_classification_model (df:pandas.core.frame.DataFrame,\n",
       ">                                     text_name:str, label_name:str,\n",
       ">                                     pred_name:str, prob_name:str,\n",
       ">                                     metric_funcs:list=[],\n",
       ">                                     metadatas:str|list=[], n_show=10,\n",
       ">                                     cm_figsize=(20, 20))\n",
       "\n",
       "|    | **Type** | **Default** | **Details** |\n",
       "| -- | -------- | ----------- | ----------- |\n",
       "| df | pd.DataFrame |  | The main dataframe containing the predictions |\n",
       "| text_name | str |  | Text's column name |\n",
       "| label_name | str |  | Label's column name |\n",
       "| pred_name | str |  | Prediction's column name |\n",
       "| prob_name | str |  | Prediction probability's column name |\n",
       "| metric_funcs | list | [] | Metric(s) to calculate |\n",
       "| metadatas | str \\| list | [] | Metadata(s) to perform analysis |\n",
       "| n_show | int | 10 | Number of sentences to show |\n",
       "| cm_figsize | tuple | (20, 20) | Confusion matrix's figure size |"
      ]
     },
     "execution_count": null,
     "metadata": {},
     "output_type": "execute_result"
    }
   ],
   "source": [
    "show_doc(evaluate_classification_model)"
   ]
  },
  {
   "cell_type": "code",
   "execution_count": null,
   "metadata": {},
   "outputs": [
    {
     "name": "stdout",
     "output_type": "stream",
     "text": [
      "-------------------- Department Name Analysis --------------------\n",
      "\n",
      "--------------- Classification Report ---------------\n",
      "              precision    recall  f1-score   support\n",
      "\n",
      "     Bottoms       0.93      0.92      0.93       695\n",
      "     Dresses       0.93      0.92      0.93      1248\n",
      "    Intimate       0.98      0.86      0.91       341\n",
      "     Jackets       0.79      0.81      0.80       213\n",
      "        Tops       0.92      0.95      0.94      2010\n",
      "       Trend       0.00      0.00      0.00        19\n",
      "\n",
      "    accuracy                           0.92      4526\n",
      "   macro avg       0.76      0.74      0.75      4526\n",
      "weighted avg       0.92      0.92      0.92      4526\n",
      "\n",
      "\n",
      "--------------- Confusion Matrix ---------------\n"
     ]
    },
    {
     "name": "stderr",
     "output_type": "stream",
     "text": [
      "/home/quan/anaconda3/envs/fastai_v2/lib/python3.10/site-packages/sklearn/metrics/_classification.py:1344: UndefinedMetricWarning: Precision and F-score are ill-defined and being set to 0.0 in labels with no predicted samples. Use `zero_division` parameter to control this behavior.\n",
      "  _warn_prf(average, modifier, msg_start, len(result))\n",
      "/home/quan/anaconda3/envs/fastai_v2/lib/python3.10/site-packages/sklearn/metrics/_classification.py:1344: UndefinedMetricWarning: Precision and F-score are ill-defined and being set to 0.0 in labels with no predicted samples. Use `zero_division` parameter to control this behavior.\n",
      "  _warn_prf(average, modifier, msg_start, len(result))\n",
      "/home/quan/anaconda3/envs/fastai_v2/lib/python3.10/site-packages/sklearn/metrics/_classification.py:1344: UndefinedMetricWarning: Precision and F-score are ill-defined and being set to 0.0 in labels with no predicted samples. Use `zero_division` parameter to control this behavior.\n",
      "  _warn_prf(average, modifier, msg_start, len(result))\n"
     ]
    },
    {
     "data": {
      "image/png": "[encoded data removed]",
      "text/plain": [
       "<Figure size 800x800 with 2 Axes>"
      ]
     },
     "metadata": {},
     "output_type": "display_data"
    },
    {
     "name": "stdout",
     "output_type": "stream",
     "text": [
      "\n",
      "-------------------- Department Name Analysis on metadata: Division Name --------------------\n",
      "---------- Distribution ----------\n",
      "                count  proportion\n",
      "Division Name                    \n",
      "general          2688    0.593902\n",
      "general petite   1546    0.341582\n",
      "initmates         292    0.064516\n",
      "\n",
      "---------- Metrics for each value in Division Name ----------\n",
      "- For all data:\n",
      "f1_score: 0.7507 . accuracy_score: 0.9218 . \n",
      "- For general:\n",
      "f1_score: 0.5950 . accuracy_score: 0.9189 . \n",
      "- For general petite:\n",
      "f1_score: 0.6108 . accuracy_score: 0.9120 . \n",
      "- For initmates:\n",
      "f1_score: 1.0000 . accuracy_score: 1.0000 . \n",
      "\n",
      "--------------- Let's look at some wrong predictions with high confidence ---------------\n",
      "Text: general . great cozy sweater . i initially bought the red and blue sweater in a medium . i usually wear a large and the medium fits perfectly and is still a bit baggy . i'm tall ( 5 ' 9 \" ) and so i love the length of the sleeves when they are unrolled . it's a very versatile piece . with sleeves rolled down you can fold the collar so the red is out of sight and just have a navy blue sweater . either look is nice . i loved it so much i bought the black and brown version . also , the fabric doesn't feel thick but it is very insulating and\n",
      "True label: Jackets, but predict Tops, with confidence 0.9958\n",
      "------------------------------------------------------------\n",
      "Text: general . is this top orange or red . wish this site had \" ask a question about the product \" feature like amazon does . just wondering if anyone has seen this product in person to verify color ? it looks orange but descriptor says red . would appreciate feedback . thank you for your help .\n",
      "True label: Jackets, but predict Tops, with confidence 0.9958\n",
      "------------------------------------------------------------\n",
      "Text: general petite . . i love this sweater . i didn't buy it the first time when i tried it at the store because the buttoned look created a bulk on one side and i thought that this was very weird . it might have been what i was wearing underneath that day or that particular sweater . but then at 40 % off i decided to give it another try and i'm happy that i did . i bought the navy and i love the feel of the material . sizing down makes all the difference , too . i wasn't fan of the attached sleeves at first as they are made\n",
      "True label: Jackets, but predict Tops, with confidence 0.9958\n",
      "------------------------------------------------------------\n",
      "Text: general . this sweater is adorable . . great fit . colors look just like the pic . not too heavy but , warm and cozy .\n",
      "True label: Jackets, but predict Tops, with confidence 0.9958\n",
      "------------------------------------------------------------\n",
      "Text: general . elegant retro sweater tee . this sweater tee is made from a fine but substantial knit which hangs beautifully and flows over imperfections in your figure . the cut is very 1950 ' s through the sleeves and neckline . it's a little cropped and boxy , just so that it hides your belly and accentuates your hips . it looks phenomenal with a crinolined a-line skirt .\n",
      "True label: Trend, but predict Tops, with confidence 0.9957\n",
      "------------------------------------------------------------\n"
     ]
    }
   ],
   "source": [
    "evaluate_classification_model(df_val,text_name='Review Text',\n",
    "                              label_name='Department Name',\n",
    "                              pred_name='pred_Department Name',\n",
    "                              prob_name='pred_prob_Department Name',\n",
    "                              metric_funcs=metric_funcs,\n",
    "                              metadatas='Division Name',\n",
    "                              cm_figsize=(8,8),\n",
    "                              n_show=5\n",
    "                             )"
   ]
  },
  {
   "cell_type": "code",
   "execution_count": null,
   "metadata": {},
   "outputs": [],
   "source": [
    "#| hide\n",
    "import nbdev; nbdev.nbdev_export()"
   ]
  }
 ],
 "metadata": {
  "kernelspec": {
   "display_name": "python3",
   "language": "python",
   "name": "python3"
  }
 },
 "nbformat": 4,
 "nbformat_minor": 4
}

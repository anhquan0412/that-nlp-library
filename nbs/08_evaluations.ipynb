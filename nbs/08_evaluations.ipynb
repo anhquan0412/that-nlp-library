{
 "cells": [
  {
   "cell_type": "markdown",
   "metadata": {},
   "source": [
    "# Model Evaluations\n",
    "\n",
    "> This module contains some functions to evaluate your model in-depth\n",
    "\n",
    "- skip_showdoc: true\n",
    "- skip_exec: true"
   ]
  },
  {
   "cell_type": "code",
   "execution_count": null,
   "metadata": {},
   "outputs": [],
   "source": [
    "#| default_exp evaluations"
   ]
  },
  {
   "cell_type": "code",
   "execution_count": null,
   "metadata": {},
   "outputs": [],
   "source": [
    "#| hide\n",
    "from nbdev.showdoc import *"
   ]
  },
  {
   "cell_type": "code",
   "execution_count": null,
   "metadata": {},
   "outputs": [],
   "source": [
    "from that_nlp_library.text_transformation import *\n",
    "from that_nlp_library.text_augmentation import *\n",
    "from that_nlp_library.text_main import *"
   ]
  },
  {
   "cell_type": "code",
   "execution_count": null,
   "metadata": {},
   "outputs": [],
   "source": [
    "from underthesea import text_normalize\n",
    "from functools import partial\n",
    "from pathlib import Path\n",
    "from importlib.machinery import SourceFileLoader\n",
    "from transformers import DataCollatorWithPadding\n"
   ]
  },
  {
   "cell_type": "markdown",
   "metadata": {},
   "source": [
    "## Single-head/Multi-head Classification"
   ]
  },
  {
   "cell_type": "markdown",
   "metadata": {},
   "source": [
    "First, we will fully train and evaluate our model on a train/validation set"
   ]
  },
  {
   "cell_type": "markdown",
   "metadata": {},
   "source": [
    "## Load data"
   ]
  },
  {
   "cell_type": "code",
   "execution_count": null,
   "metadata": {},
   "outputs": [],
   "source": [
    "txt_tfms=[text_normalize]\n",
    "\n",
    "over_nonown_tfm = partial(sampling_with_condition,query='Source==\"non owned\"',frac=0.5,seed=42,apply_to_all=False)\n",
    "over_nonown_tfm.__name__ = 'Oversampling Non Owned'\n",
    "over_own_tfm = partial(sampling_with_condition,query='Source==\"owned\"',frac=2,seed=42,apply_to_all=False)\n",
    "over_own_tfm.__name__ = 'Oversampling Owned'\n",
    "over_hc_tfm = partial(sampling_with_condition,query='Source==\"hc search\"',frac=2.5,seed=42,apply_to_all=False)\n",
    "over_hc_tfm.__name__ = 'Oversampling HC search'\n",
    "remove_accent_tfm = partial(remove_vnmese_accent,frac=1,seed=42,apply_to_all=True)\n",
    "remove_accent_tfm.__name__ = 'Add No-Accent Text'\n",
    "aug_tfms = [over_nonown_tfm,over_own_tfm,over_hc_tfm,remove_accent_tfm]"
   ]
  },
  {
   "cell_type": "code",
   "execution_count": null,
   "metadata": {},
   "outputs": [
    {
     "name": "stdout",
     "output_type": "stream",
     "text": [
      "----- Input Validation Precheck -----\n",
      "DataFrame contains duplicated values!\n",
      "-----> Number of duplications: 16 rows\n"
     ]
    }
   ],
   "source": [
    "DATA_PATH = Path('sample_data')\n",
    "\n",
    "tdm = TextDataMain.from_csv(DATA_PATH/'sample_large.csv',\n",
    "                            return_df=False,\n",
    "                            main_content='Content',\n",
    "                            metadatas='Source',\n",
    "                            label_names='L1',\n",
    "                            val_ratio=0.2,\n",
    "                            split_cols='L1',\n",
    "                            content_tfms = txt_tfms,\n",
    "                            aug_tfms = aug_tfms,\n",
    "                            process_metadatas=True,\n",
    "                            seed=42,\n",
    "                            shuffle_trn=True)\n",
    "\n",
    "cache_dir=Path('./envibert_tokenizer')\n",
    "tokenizer = SourceFileLoader(\"envibert.tokenizer\", \n",
    "                             str(cache_dir/'envibert_tokenizer.py')).load_module().RobertaTokenizer(cache_dir)\n"
   ]
  },
  {
   "cell_type": "code",
   "execution_count": null,
   "metadata": {},
   "outputs": [
    {
     "name": "stdout",
     "output_type": "stream",
     "text": [
      "-------------------- Start Main Text Processing --------------------\n",
      "----- Metadata Simple Processing & Concatenating to Main Content -----\n",
      "----- Label Encoding -----\n",
      "-------------------- Text Transformation --------------------\n",
      "----- text_normalize -----\n"
     ]
    },
    {
     "name": "stderr",
     "output_type": "stream",
     "text": [
      "100%|█████████████████████████████████████| 2269/2269 [00:00<00:00, 3931.61it/s]\n"
     ]
    },
    {
     "name": "stdout",
     "output_type": "stream",
     "text": [
      "-------------------- Train Test Split --------------------\n",
      "Previous Validation Percentage: 20.009%\n",
      "- Before leak check\n",
      "Size: 454\n",
      "- After leak check\n",
      "Size: 447\n",
      "- Number of rows leaked: 7, or 1.54% of the original validation (or test) data\n",
      "Current Validation Percentage: 19.7%\n",
      "-------------------- Text Augmentation --------------------\n",
      "Train data size before augmentation: 1822\n",
      "----- Oversampling Non Owned -----\n",
      "Train data size after THIS augmentation: 2020\n",
      "----- Oversampling Owned -----\n",
      "Train data size after THIS augmentation: 2248\n",
      "----- Oversampling HC search -----\n",
      "Train data size after THIS augmentation: 2390\n",
      "----- Add No-Accent Text -----\n"
     ]
    },
    {
     "name": "stderr",
     "output_type": "stream",
     "text": [
      "100%|████████████████████████████████████| 2390/2390 [00:00<00:00, 19307.67it/s]\n"
     ]
    },
    {
     "name": "stdout",
     "output_type": "stream",
     "text": [
      "Train data size after THIS augmentation: 4780\n",
      "Train data size after ALL augmentation: 4780\n",
      "-------------------- Map Tokenize Function --------------------\n"
     ]
    },
    {
     "data": {
      "application/vnd.jupyter.widget-view+json": {
       "model_id": "",
       "version_major": 2,
       "version_minor": 0
      },
      "text/plain": [
       "Map:   0%|          | 0/4780 [00:00<?, ? examples/s]"
      ]
     },
     "metadata": {},
     "output_type": "display_data"
    },
    {
     "data": {
      "application/vnd.jupyter.widget-view+json": {
       "model_id": "",
       "version_major": 2,
       "version_minor": 0
      },
      "text/plain": [
       "Map:   0%|          | 0/447 [00:00<?, ? examples/s]"
      ]
     },
     "metadata": {},
     "output_type": "display_data"
    }
   ],
   "source": [
    "main_ddict= tdm.to_datasetdict(tokenizer,\n",
    "                                max_length=512,\n",
    "                              )"
   ]
  },
  {
   "cell_type": "markdown",
   "metadata": {},
   "source": [
    "## Define and train model"
   ]
  },
  {
   "cell_type": "code",
   "execution_count": null,
   "metadata": {},
   "outputs": [],
   "source": [
    "from that_nlp_library.models.roberta.classifiers import *\n",
    "from that_nlp_library.model_main import *\n",
    "from sklearn.metrics import f1_score, accuracy_score\n",
    "import os"
   ]
  },
  {
   "cell_type": "code",
   "execution_count": null,
   "metadata": {},
   "outputs": [],
   "source": [
    "os.environ['CUDA_VISIBLE_DEVICES'] = '0'"
   ]
  },
  {
   "cell_type": "code",
   "execution_count": null,
   "metadata": {},
   "outputs": [],
   "source": [
    "from transformers.models.roberta.modeling_roberta import RobertaModel"
   ]
  },
  {
   "cell_type": "code",
   "execution_count": null,
   "metadata": {},
   "outputs": [
    {
     "name": "stderr",
     "output_type": "stream",
     "text": [
      "Some weights of the model checkpoint at nguyenvulebinh/envibert were not used when initializing RobertaModel: ['lm_head.dense.weight', 'lm_head.dense.bias', 'lm_head.layer_norm.bias', 'lm_head.bias', 'lm_head.layer_norm.weight']\n",
      "- This IS expected if you are initializing RobertaModel from the checkpoint of a model trained on another task or with another architecture (e.g. initializing a BertForSequenceClassification model from a BertForPreTraining model).\n",
      "- This IS NOT expected if you are initializing RobertaModel from the checkpoint of a model that you expect to be exactly identical (initializing a BertForSequenceClassification model from a BertForSequenceClassification model).\n"
     ]
    }
   ],
   "source": [
    "model_name='nguyenvulebinh/envibert'\n",
    "\n",
    "envibert_body = RobertaModel.from_pretrained(model_name)"
   ]
  },
  {
   "cell_type": "code",
   "execution_count": null,
   "metadata": {},
   "outputs": [],
   "source": [
    "num_classes = len(tdm.label_lists[0])"
   ]
  },
  {
   "cell_type": "code",
   "execution_count": null,
   "metadata": {},
   "outputs": [
    {
     "name": "stdout",
     "output_type": "stream",
     "text": [
      "Loading body weights. This assumes the body is the very first first-layer block of your custom architecture\n"
     ]
    }
   ],
   "source": [
    "_model_kwargs={\n",
    "    # overall model hyperparams\n",
    "    'layer2concat':4,\n",
    "    'is_multilabel':tdm.is_multilabel, # False\n",
    "    'is_multihead':tdm.is_multihead, # False\n",
    "    'head_class_sizes':num_classes,\n",
    "    'head_class': ConcatHeadSimple,\n",
    "    # classfication head hyperparams\n",
    "    'classifier_dropout':0.1 \n",
    "}\n",
    "\n",
    "model = model_init_classification(model_class = RobertaHiddenStateConcatForSequenceClassification,\n",
    "                                  cpoint_path = model_name, \n",
    "                                  output_hidden_states=True, # since we are not using 'hidden layer contatenation' technique\n",
    "                                  seed=42,\n",
    "                                  body_model=envibert_body,\n",
    "                                  model_kwargs = _model_kwargs)\n",
    "\n",
    "metric_funcs = [partial(f1_score,average='macro'),accuracy_score] # we will use both f1_macro and accuracy score as metrics\n",
    "controller = ModelController(model,tdm,metric_funcs)"
   ]
  },
  {
   "cell_type": "code",
   "execution_count": null,
   "metadata": {},
   "outputs": [
    {
     "data": {
      "text/html": [
       "\n",
       "    <div>\n",
       "      \n",
       "      <progress value='1194' max='1194' style='width:300px; height:20px; vertical-align: middle;'></progress>\n",
       "      [1194/1194 01:05, Epoch 1/2]\n",
       "    </div>\n",
       "    <table border=\"1\" class=\"dataframe\">\n",
       "  <thead>\n",
       " <tr style=\"text-align: left;\">\n",
       "      <th>Epoch</th>\n",
       "      <th>Training Loss</th>\n",
       "      <th>Validation Loss</th>\n",
       "      <th>F1 Score L1</th>\n",
       "      <th>Accuracy Score L1</th>\n",
       "    </tr>\n",
       "  </thead>\n",
       "  <tbody>\n",
       "    <tr>\n",
       "      <td>0</td>\n",
       "      <td>No log</td>\n",
       "      <td>0.933689</td>\n",
       "      <td>0.395291</td>\n",
       "      <td>0.695749</td>\n",
       "    </tr>\n",
       "    <tr>\n",
       "      <td>1</td>\n",
       "      <td>No log</td>\n",
       "      <td>0.942117</td>\n",
       "      <td>0.488467</td>\n",
       "      <td>0.706935</td>\n",
       "    </tr>\n",
       "  </tbody>\n",
       "</table><p>"
      ],
      "text/plain": [
       "<IPython.core.display.HTML object>"
      ]
     },
     "metadata": {},
     "output_type": "display_data"
    }
   ],
   "source": [
    "lr = 8e-5\n",
    "bs=4\n",
    "wd=0.01\n",
    "epochs= 2\n",
    "\n",
    "controller.fit(epochs,lr,\n",
    "               batch_size=bs,\n",
    "               weight_decay=wd,\n",
    "               save_checkpoint=False,\n",
    "               compute_metrics=compute_metrics_classification,\n",
    "              )"
   ]
  },
  {
   "cell_type": "markdown",
   "metadata": {},
   "source": [
    "## Generate predictions"
   ]
  },
  {
   "cell_type": "markdown",
   "metadata": {},
   "source": [
    "We will do model evaluation on the validation set. You can also perform model evalution on the training set using similar approach"
   ]
  },
  {
   "cell_type": "code",
   "execution_count": null,
   "metadata": {},
   "outputs": [
    {
     "name": "stdout",
     "output_type": "stream",
     "text": [
      "-------------------- Start making predictions --------------------\n"
     ]
    },
    {
     "data": {
      "application/vnd.jupyter.widget-view+json": {
       "model_id": "",
       "version_major": 2,
       "version_minor": 0
      },
      "text/plain": [
       "Map:   0%|          | 0/447 [00:00<?, ? examples/s]"
      ]
     },
     "metadata": {},
     "output_type": "display_data"
    }
   ],
   "source": [
    "df_val = controller.predict_ddict(ds_type='validation')"
   ]
  },
  {
   "cell_type": "code",
   "execution_count": null,
   "metadata": {},
   "outputs": [],
   "source": [
    "df_val['label']= df_val['label'].apply(lambda x: tdm.label_lists[0][x]).values"
   ]
  },
  {
   "cell_type": "code",
   "execution_count": null,
   "metadata": {},
   "outputs": [
    {
     "data": {
      "text/html": [
       "<div>\n",
       "<style scoped>\n",
       "    .dataframe tbody tr th:only-of-type {\n",
       "        vertical-align: middle;\n",
       "    }\n",
       "\n",
       "    .dataframe tbody tr th {\n",
       "        vertical-align: top;\n",
       "    }\n",
       "\n",
       "    .dataframe thead th {\n",
       "        text-align: right;\n",
       "    }\n",
       "</style>\n",
       "<table border=\"1\" class=\"dataframe\">\n",
       "  <thead>\n",
       "    <tr style=\"text-align: right;\">\n",
       "      <th></th>\n",
       "      <th>text</th>\n",
       "      <th>label</th>\n",
       "      <th>Source</th>\n",
       "      <th>pred_L1</th>\n",
       "      <th>pred_prob_L1</th>\n",
       "    </tr>\n",
       "  </thead>\n",
       "  <tbody>\n",
       "    <tr>\n",
       "      <th>0</th>\n",
       "      <td>google play - Chơi gam rất là lác</td>\n",
       "      <td>Feature</td>\n",
       "      <td>google play</td>\n",
       "      <td>Commercial</td>\n",
       "      <td>0.751953</td>\n",
       "    </tr>\n",
       "    <tr>\n",
       "      <th>1</th>\n",
       "      <td>google play - Zq</td>\n",
       "      <td>Others</td>\n",
       "      <td>google play</td>\n",
       "      <td>Others</td>\n",
       "      <td>0.980518</td>\n",
       "    </tr>\n",
       "    <tr>\n",
       "      <th>2</th>\n",
       "      <td>non owned - Làn sóng kỹ thuật số và sự lựa chọ...</td>\n",
       "      <td>Others</td>\n",
       "      <td>non owned</td>\n",
       "      <td>Others</td>\n",
       "      <td>0.965513</td>\n",
       "    </tr>\n",
       "    <tr>\n",
       "      <th>3</th>\n",
       "      <td>google play - Hàng quốc tế không còn ship COD ...</td>\n",
       "      <td>Payment</td>\n",
       "      <td>google play</td>\n",
       "      <td>Delivery</td>\n",
       "      <td>0.923603</td>\n",
       "    </tr>\n",
       "    <tr>\n",
       "      <th>4</th>\n",
       "      <td>google play - Quá tệ . Giao hàng chậm như rùa ...</td>\n",
       "      <td>Delivery</td>\n",
       "      <td>google play</td>\n",
       "      <td>Delivery</td>\n",
       "      <td>0.919842</td>\n",
       "    </tr>\n",
       "  </tbody>\n",
       "</table>\n",
       "</div>"
      ],
      "text/plain": [
       "                                                text     label       Source   \n",
       "0                  google play - Chơi gam rất là lác   Feature  google play  \\\n",
       "1                                   google play - Zq    Others  google play   \n",
       "2  non owned - Làn sóng kỹ thuật số và sự lựa chọ...    Others    non owned   \n",
       "3  google play - Hàng quốc tế không còn ship COD ...   Payment  google play   \n",
       "4  google play - Quá tệ . Giao hàng chậm như rùa ...  Delivery  google play   \n",
       "\n",
       "      pred_L1  pred_prob_L1  \n",
       "0  Commercial      0.751953  \n",
       "1      Others      0.980518  \n",
       "2      Others      0.965513  \n",
       "3    Delivery      0.923603  \n",
       "4    Delivery      0.919842  "
      ]
     },
     "execution_count": null,
     "metadata": {},
     "output_type": "execute_result"
    }
   ],
   "source": [
    "df_val.head()"
   ]
  },
  {
   "cell_type": "code",
   "execution_count": null,
   "metadata": {},
   "outputs": [
    {
     "data": {
      "text/plain": [
       "Source\n",
       "google play    280\n",
       "non owned      102\n",
       "owned           25\n",
       "ios             24\n",
       "hc search       16\n",
       "Name: count, dtype: int64"
      ]
     },
     "execution_count": null,
     "metadata": {},
     "output_type": "execute_result"
    }
   ],
   "source": [
    "df_val.Source.value_counts()"
   ]
  },
  {
   "cell_type": "markdown",
   "metadata": {},
   "source": [
    "## Start the model evaluation"
   ]
  },
  {
   "cell_type": "code",
   "execution_count": null,
   "metadata": {},
   "outputs": [],
   "source": [
    "#| export\n",
    "from __future__ import annotations\n",
    "from that_nlp_library.utils import *\n",
    "from sklearn.metrics import classification_report,ConfusionMatrixDisplay\n",
    "import pandas as pd\n",
    "import numpy as np\n",
    "import matplotlib.pyplot as plt\n"
   ]
  },
  {
   "cell_type": "code",
   "execution_count": null,
   "metadata": {},
   "outputs": [],
   "source": [
    "#| hide\n",
    "#| export\n",
    "def _show_metrics(label,pred,metric_funcs):\n",
    "    results=''\n",
    "    for m_func in metric_funcs:\n",
    "        m_name=callable_name(m_func)\n",
    "        results+=f'{m_name}: {m_func(label,pred):.4f} . '\n",
    "    return results"
   ]
  },
  {
   "cell_type": "code",
   "execution_count": null,
   "metadata": {},
   "outputs": [],
   "source": [
    "#| export\n",
    "def evaluate_classification_model_metadata(df:pd.DataFrame, # The main dataframe containing the predictions\n",
    "                                           metadatas:str|list, # Metadata(s) to perform analysis\n",
    "                                           label_name:str, # Label's column name\n",
    "                                           pred_name:str, # Prediction's column name\n",
    "                                           metric_funcs:list, # Metric(s) to calculate\n",
    "                                          ):\n",
    "    metadatas = val2iterable(metadatas)\n",
    "    metric_funcs = val2iterable(metric_funcs)\n",
    "    \n",
    "    for metadata in metadatas:\n",
    "        print_msg(f'{label_name} Analysis on metadata: {metadata}',20)\n",
    "        print_msg('Distribution',10)\n",
    "        print(pd.concat((df[metadata].value_counts(),df[metadata].value_counts(normalize=True)),axis=1))\n",
    "        print()\n",
    "        print_msg(f'Metrics for each value in {metadata}',10)\n",
    "        print(f'- For all data:\\n{_show_metrics(df[label_name].values,df[pred_name].values,metric_funcs)}')\n",
    "        for val in np.sort(df[metadata].unique()):\n",
    "            y_true=df.loc[df[metadata]==val,label_name].values\n",
    "            y_pred=df.loc[df[metadata]==val,pred_name].values\n",
    "            print(f'- For {val}:\\n{_show_metrics(y_true,y_pred,metric_funcs)}')"
   ]
  },
  {
   "cell_type": "code",
   "execution_count": null,
   "metadata": {},
   "outputs": [
    {
     "data": {
      "text/markdown": [
       "---\n",
       "\n",
       "[source](https://github.com/anhquan0412/that-nlp-library/blob/main/that_nlp_library/evaluations.py#L24){target=\"_blank\" style=\"float:right; font-size:smaller\"}\n",
       "\n",
       "### evaluate_classification_model_metadata\n",
       "\n",
       ">      evaluate_classification_model_metadata (df:pandas.core.frame.DataFrame,\n",
       ">                                              metadatas:str|list,\n",
       ">                                              label_name:str, pred_name:str,\n",
       ">                                              metric_funcs:list)\n",
       "\n",
       "|    | **Type** | **Details** |\n",
       "| -- | -------- | ----------- |\n",
       "| df | pd.DataFrame | The main dataframe containing the predictions |\n",
       "| metadatas | str \\| list | Metadata(s) to perform analysis |\n",
       "| label_name | str | Label's column name |\n",
       "| pred_name | str | Prediction's column name |\n",
       "| metric_funcs | list | Metric(s) to calculate |"
      ],
      "text/plain": [
       "---\n",
       "\n",
       "[source](https://github.com/anhquan0412/that-nlp-library/blob/main/that_nlp_library/evaluations.py#L24){target=\"_blank\" style=\"float:right; font-size:smaller\"}\n",
       "\n",
       "### evaluate_classification_model_metadata\n",
       "\n",
       ">      evaluate_classification_model_metadata (df:pandas.core.frame.DataFrame,\n",
       ">                                              metadatas:str|list,\n",
       ">                                              label_name:str, pred_name:str,\n",
       ">                                              metric_funcs:list)\n",
       "\n",
       "|    | **Type** | **Details** |\n",
       "| -- | -------- | ----------- |\n",
       "| df | pd.DataFrame | The main dataframe containing the predictions |\n",
       "| metadatas | str \\| list | Metadata(s) to perform analysis |\n",
       "| label_name | str | Label's column name |\n",
       "| pred_name | str | Prediction's column name |\n",
       "| metric_funcs | list | Metric(s) to calculate |"
      ]
     },
     "execution_count": null,
     "metadata": {},
     "output_type": "execute_result"
    }
   ],
   "source": [
    "show_doc(evaluate_classification_model_metadata)"
   ]
  },
  {
   "cell_type": "code",
   "execution_count": null,
   "metadata": {},
   "outputs": [],
   "source": [
    "metric_funcs = [partial(f1_score,average='macro'),accuracy_score]"
   ]
  },
  {
   "cell_type": "code",
   "execution_count": null,
   "metadata": {},
   "outputs": [
    {
     "name": "stdout",
     "output_type": "stream",
     "text": [
      "-------------------- label Analysis on metadata: Source --------------------\n",
      "---------- Distribution ----------\n",
      "             count  proportion\n",
      "Source                        \n",
      "google play    280    0.626398\n",
      "non owned      102    0.228188\n",
      "owned           25    0.055928\n",
      "ios             24    0.053691\n",
      "hc search       16    0.035794\n",
      "\n",
      "---------- Metrics for each value in Source ----------\n",
      "- For all data:\n",
      "f1_score: 0.4952 . accuracy_score: 0.7092 . \n",
      "- For google play:\n",
      "f1_score: 0.4857 . accuracy_score: 0.6929 . \n",
      "- For hc search:\n",
      "f1_score: 0.4315 . accuracy_score: 0.6250 . \n",
      "- For ios:\n",
      "f1_score: 0.6736 . accuracy_score: 0.7083 . \n",
      "- For non owned:\n",
      "f1_score: 0.3407 . accuracy_score: 0.7647 . \n",
      "- For owned:\n",
      "f1_score: 0.4146 . accuracy_score: 0.7200 . \n"
     ]
    }
   ],
   "source": [
    "evaluate_classification_model_metadata(df_val,metadatas='Source',\n",
    "                                       label_name='label',\n",
    "                                       pred_name='pred_L1',\n",
    "                                       metric_funcs=metric_funcs\n",
    "                                      )"
   ]
  },
  {
   "cell_type": "code",
   "execution_count": null,
   "metadata": {},
   "outputs": [],
   "source": [
    "#| export\n",
    "def show_top_n_predictions(df:pd.DataFrame, # The main dataframe containing the predictions\n",
    "                          text_name:str, # Text's column name\n",
    "                          label_name:str, # Label's column name\n",
    "                          pred_name:str, # Prediction's column name\n",
    "                          prob_name:str, # Prediction probability's column name\n",
    "                          is_incorrect=True, # To show top correct or incorrect sentences\n",
    "                          ascending=False, # To sort by prob_name ascendingly or descendingly\n",
    "                          n_show=10, # Number of sentences to show\n",
    "                         ):\n",
    "    if is_incorrect:\n",
    "        df = df[df[pred_name]!=df[label_name]]\n",
    "    else:\n",
    "        df = df[df[pred_name]==df[label_name]]\n",
    "    df = df.sort_values(prob_name,ascending=ascending)[[text_name,label_name,pred_name,prob_name]].head(n_show).values\n",
    "    for row in df:\n",
    "        print(f'Text: {row[0]}')\n",
    "        print(f'True label: {row[1]}, {\"but\" if is_incorrect else \"\"} predict {row[2]}, with confidence {row[3]:.4f}')\n",
    "        print('-'*60)"
   ]
  },
  {
   "cell_type": "code",
   "execution_count": null,
   "metadata": {},
   "outputs": [
    {
     "data": {
      "text/markdown": [
       "---\n",
       "\n",
       "[source](https://github.com/anhquan0412/that-nlp-library/blob/main/that_nlp_library/evaluations.py#L46){target=\"_blank\" style=\"float:right; font-size:smaller\"}\n",
       "\n",
       "### show_top_n_predictions\n",
       "\n",
       ">      show_top_n_predictions (df:pandas.core.frame.DataFrame, text_name:str,\n",
       ">                              label_name:str, pred_name:str, prob_name:str,\n",
       ">                              is_incorrect=True, ascending=False, n_show=10)\n",
       "\n",
       "|    | **Type** | **Default** | **Details** |\n",
       "| -- | -------- | ----------- | ----------- |\n",
       "| df | pd.DataFrame |  | The main dataframe containing the predictions |\n",
       "| text_name | str |  | Text's column name |\n",
       "| label_name | str |  | Label's column name |\n",
       "| pred_name | str |  | Prediction's column name |\n",
       "| prob_name | str |  | Prediction probability's column name |\n",
       "| is_incorrect | bool | True | To show top correct or incorrect sentences |\n",
       "| ascending | bool | False | To sort by prob_name ascendingly or descendingly |\n",
       "| n_show | int | 10 | Number of sentences to show |"
      ],
      "text/plain": [
       "---\n",
       "\n",
       "[source](https://github.com/anhquan0412/that-nlp-library/blob/main/that_nlp_library/evaluations.py#L46){target=\"_blank\" style=\"float:right; font-size:smaller\"}\n",
       "\n",
       "### show_top_n_predictions\n",
       "\n",
       ">      show_top_n_predictions (df:pandas.core.frame.DataFrame, text_name:str,\n",
       ">                              label_name:str, pred_name:str, prob_name:str,\n",
       ">                              is_incorrect=True, ascending=False, n_show=10)\n",
       "\n",
       "|    | **Type** | **Default** | **Details** |\n",
       "| -- | -------- | ----------- | ----------- |\n",
       "| df | pd.DataFrame |  | The main dataframe containing the predictions |\n",
       "| text_name | str |  | Text's column name |\n",
       "| label_name | str |  | Label's column name |\n",
       "| pred_name | str |  | Prediction's column name |\n",
       "| prob_name | str |  | Prediction probability's column name |\n",
       "| is_incorrect | bool | True | To show top correct or incorrect sentences |\n",
       "| ascending | bool | False | To sort by prob_name ascendingly or descendingly |\n",
       "| n_show | int | 10 | Number of sentences to show |"
      ]
     },
     "execution_count": null,
     "metadata": {},
     "output_type": "execute_result"
    }
   ],
   "source": [
    "show_doc(show_top_n_predictions)"
   ]
  },
  {
   "cell_type": "code",
   "execution_count": null,
   "metadata": {},
   "outputs": [
    {
     "name": "stdout",
     "output_type": "stream",
     "text": [
      "Text: google play - đcm quảng cáo cc à\n",
      "True label: Others, but predict Commercial, with confidence 0.9892\n",
      "------------------------------------------------------------\n",
      "Text: ios - .....\n",
      "True label: Delivery, but predict Others, with confidence 0.9872\n",
      "------------------------------------------------------------\n",
      "Text: non owned - .. ❗ ️ GÓC THANH LÝ Tính ra rẻ hơn cả mua # Shopee Mong 1 lần đc check ib mỏi tay 😆 😆 😆 Em chuyển cửa hàng nên dọn lại có thừa vài chục tấm nệm xuất nhật này . 1 mx2m : 1 m2x2 : 1 m4x2m : 1 m6x2m : 1 m8x2m : 2 mx2m Đệm dày 7-8 phân Nhưng vì còn ít nên topic này em bán thanh lý giá rẻ ạ . Ship cod nhận hàng được kiểm tra thoải mái . Miễn ship toàn quốc . Nên đừng bom tội nghiệp em nhé dày 7-8 phân Nhắn tin em gửi mẫu nhé 🥰\n",
      "True label: Commercial, but predict Others, with confidence 0.9849\n",
      "------------------------------------------------------------\n",
      "Text: google play - Shope lác lắm\n",
      "True label: Feature, but predict Commercial, with confidence 0.9847\n",
      "------------------------------------------------------------\n",
      "Text: google play - Tại sao Shopee quảng cáo là Mua gì cũng có . Mà mình tìm Mua người yêu không thấy có là sao , Bịp à !\n",
      "True label: Others, but predict Commercial, with confidence 0.9830\n",
      "------------------------------------------------------------\n"
     ]
    }
   ],
   "source": [
    "show_top_n_predictions(df_val,text_name='text',\n",
    "                      label_name='label',\n",
    "                      pred_name='pred_L1',\n",
    "                      prob_name='pred_prob_L1',\n",
    "                      is_incorrect=True,\n",
    "                      ascending=False,n_show=5)"
   ]
  },
  {
   "cell_type": "code",
   "execution_count": null,
   "metadata": {},
   "outputs": [
    {
     "name": "stdout",
     "output_type": "stream",
     "text": [
      "Text: google play - Ko đúng hàng với lại nói giảm giá với miễn siếp nhưng ko có cái gì hết !\n",
      "True label: Buyer complained seller,  predict Buyer complained seller, with confidence 0.1908\n",
      "------------------------------------------------------------\n",
      "Text: google play - Chính thức xóa app này vô thời hạn . Tháng trước mua máy xay sữa hạt loại 1 tr3 mà nó giao loại 7 trăm . Gửi phản ánh cho shopee mà cũng im luôn . Thấy cái shop để là ' yêu thích ' nên tin tưởng ai dè lũ khốn nạn chết bờ chết bụi\n",
      "True label: Buyer complained seller,  predict Buyer complained seller, with confidence 0.2325\n",
      "------------------------------------------------------------\n",
      "Text: google play - Cứ nhắn tin và qc hoài thật là bực mình lắm rồi\n",
      "True label: Commercial,  predict Commercial, with confidence 0.2357\n",
      "------------------------------------------------------------\n",
      "Text: google play - App mua đồ thì ổn nhưng chất lượngCSkh thì chắc cho 1 sao thôi .\n",
      "True label: Services,  predict Services, with confidence 0.2445\n",
      "------------------------------------------------------------\n",
      "Text: google play - Shopee là trang mua bán , nhưng khôn lắm chỉ dành cho người bán thu lợi về shopee , chứ người mua thì chịu thiệt phí ship cao thì được , còn ưu đãi nạp thẻ hễ có thì shopee hạn chế rồi lấy lý do tài khoản liên kết nhiều thiết bị , nhiều tài khoản khác trong khi mình là người dùng liên kết duy nhất chỉ có 1 tài khoản và điện thoại cũng mới mua , mà shopee cứ 1,2 bảo là tài khoản mình liên kết nhiều tài khoản khác rồi hạn chế , nếu như là có đi , thì Shopee cũng bán chứ có cho không đâu mà nói mình lợi dụng\n",
      "True label: Shopee account,  predict Shopee account, with confidence 0.2446\n",
      "------------------------------------------------------------\n"
     ]
    }
   ],
   "source": [
    "show_top_n_predictions(df_val,text_name='text',\n",
    "                      label_name='label',\n",
    "                      pred_name='pred_L1',\n",
    "                      prob_name='pred_prob_L1',\n",
    "                      is_incorrect=False,\n",
    "                      ascending=True,n_show=5)"
   ]
  },
  {
   "cell_type": "code",
   "execution_count": null,
   "metadata": {},
   "outputs": [],
   "source": [
    "#| export\n",
    "def evaluate_classification_model(df:pd.DataFrame, # The main dataframe containing the predictions\n",
    "                              text_name:str, # Text's column name\n",
    "                              label_name:str, # Label's column name\n",
    "                              pred_name:str, # Prediction's column name\n",
    "                              prob_name:str, # Prediction probability's column name\n",
    "                              metric_funcs:list=[], # Metric(s) to calculate\n",
    "                              metadatas:str|list=[], # Metadata(s) to perform analysis\n",
    "                              n_show=10, # Number of sentences to show\n",
    "                              cm_figsize=(20,20), # Confusion matrix's figure size\n",
    "                             ):\n",
    "\n",
    "    y_true = df[label_name].values\n",
    "    y_pred = df[pred_name].values\n",
    "    print_msg(f'{label_name} Analysis',20)\n",
    "    print()\n",
    "    print_msg('Classification Report',15)\n",
    "    print(classification_report(y_true,y_pred))\n",
    "    print()\n",
    "    print_msg('Confusion Matrix',15)\n",
    "    fig,ax = plt.subplots(figsize=cm_figsize)\n",
    "    ConfusionMatrixDisplay.from_predictions(y_true,y_pred,xticks_rotation='vertical',ax=ax)\n",
    "    plt.show()\n",
    "    print()\n",
    "    evaluate_classification_model_metadata(df,metadatas,label_name,pred_name,metric_funcs)\n",
    "    print()\n",
    "    print_msg(\"Let's look at some wrong predictions with high confidence\",15)\n",
    "    show_top_n_predictions(df_val,text_name,label_name,pred_name,prob_name,\n",
    "                           is_incorrect=True,\n",
    "                           ascending=False,\n",
    "                          n_show=n_show)"
   ]
  },
  {
   "cell_type": "code",
   "execution_count": null,
   "metadata": {},
   "outputs": [
    {
     "data": {
      "text/markdown": [
       "---\n",
       "\n",
       "[source](https://github.com/anhquan0412/that-nlp-library/blob/main/that_nlp_library/evaluations.py#L66){target=\"_blank\" style=\"float:right; font-size:smaller\"}\n",
       "\n",
       "### evaluate_classification_model\n",
       "\n",
       ">      evaluate_classification_model (df:pandas.core.frame.DataFrame,\n",
       ">                                     text_name:str, label_name:str,\n",
       ">                                     pred_name:str, prob_name:str,\n",
       ">                                     metric_funcs:list=[],\n",
       ">                                     metadatas:str|list=[], n_show=10,\n",
       ">                                     cm_figsize=(20, 20))\n",
       "\n",
       "|    | **Type** | **Default** | **Details** |\n",
       "| -- | -------- | ----------- | ----------- |\n",
       "| df | pd.DataFrame |  | The main dataframe containing the predictions |\n",
       "| text_name | str |  | Text's column name |\n",
       "| label_name | str |  | Label's column name |\n",
       "| pred_name | str |  | Prediction's column name |\n",
       "| prob_name | str |  | Prediction probability's column name |\n",
       "| metric_funcs | list | [] | Metric(s) to calculate |\n",
       "| metadatas | str \\| list | [] | Metadata(s) to perform analysis |\n",
       "| n_show | int | 10 | Number of sentences to show |\n",
       "| cm_figsize | tuple | (20, 20) | Confusion matrix's figure size |"
      ],
      "text/plain": [
       "---\n",
       "\n",
       "[source](https://github.com/anhquan0412/that-nlp-library/blob/main/that_nlp_library/evaluations.py#L66){target=\"_blank\" style=\"float:right; font-size:smaller\"}\n",
       "\n",
       "### evaluate_classification_model\n",
       "\n",
       ">      evaluate_classification_model (df:pandas.core.frame.DataFrame,\n",
       ">                                     text_name:str, label_name:str,\n",
       ">                                     pred_name:str, prob_name:str,\n",
       ">                                     metric_funcs:list=[],\n",
       ">                                     metadatas:str|list=[], n_show=10,\n",
       ">                                     cm_figsize=(20, 20))\n",
       "\n",
       "|    | **Type** | **Default** | **Details** |\n",
       "| -- | -------- | ----------- | ----------- |\n",
       "| df | pd.DataFrame |  | The main dataframe containing the predictions |\n",
       "| text_name | str |  | Text's column name |\n",
       "| label_name | str |  | Label's column name |\n",
       "| pred_name | str |  | Prediction's column name |\n",
       "| prob_name | str |  | Prediction probability's column name |\n",
       "| metric_funcs | list | [] | Metric(s) to calculate |\n",
       "| metadatas | str \\| list | [] | Metadata(s) to perform analysis |\n",
       "| n_show | int | 10 | Number of sentences to show |\n",
       "| cm_figsize | tuple | (20, 20) | Confusion matrix's figure size |"
      ]
     },
     "execution_count": null,
     "metadata": {},
     "output_type": "execute_result"
    }
   ],
   "source": [
    "show_doc(evaluate_classification_model)"
   ]
  },
  {
   "cell_type": "code",
   "execution_count": null,
   "metadata": {},
   "outputs": [
    {
     "name": "stdout",
     "output_type": "stream",
     "text": [
      "-------------------- label Analysis --------------------\n",
      "\n",
      "--------------- Classification Report ---------------\n",
      "                         precision    recall  f1-score   support\n",
      "\n",
      "Buyer complained seller       0.46      0.46      0.46        13\n",
      "             Commercial       0.70      0.78      0.74        60\n",
      "               Delivery       0.68      0.80      0.74        40\n",
      "                Feature       0.74      0.81      0.78       108\n",
      "             Order/Item       0.50      0.12      0.20         8\n",
      "                 Others       0.79      0.69      0.73       156\n",
      "                Payment       0.75      0.33      0.46         9\n",
      "          Return/Refund       0.12      0.11      0.12         9\n",
      "               Services       0.00      0.00      0.00         7\n",
      "         Shopee account       0.63      0.86      0.73        37\n",
      "\n",
      "               accuracy                           0.71       447\n",
      "              macro avg       0.54      0.50      0.50       447\n",
      "           weighted avg       0.70      0.71      0.70       447\n",
      "\n",
      "\n",
      "--------------- Confusion Matrix ---------------\n"
     ]
    },
    {
     "name": "stderr",
     "output_type": "stream",
     "text": [
      "/home/quan/anaconda3/envs/fastai_v2/lib/python3.10/site-packages/sklearn/metrics/_classification.py:1344: UndefinedMetricWarning: Precision and F-score are ill-defined and being set to 0.0 in labels with no predicted samples. Use `zero_division` parameter to control this behavior.\n",
      "  _warn_prf(average, modifier, msg_start, len(result))\n",
      "/home/quan/anaconda3/envs/fastai_v2/lib/python3.10/site-packages/sklearn/metrics/_classification.py:1344: UndefinedMetricWarning: Precision and F-score are ill-defined and being set to 0.0 in labels with no predicted samples. Use `zero_division` parameter to control this behavior.\n",
      "  _warn_prf(average, modifier, msg_start, len(result))\n",
      "/home/quan/anaconda3/envs/fastai_v2/lib/python3.10/site-packages/sklearn/metrics/_classification.py:1344: UndefinedMetricWarning: Precision and F-score are ill-defined and being set to 0.0 in labels with no predicted samples. Use `zero_division` parameter to control this behavior.\n",
      "  _warn_prf(average, modifier, msg_start, len(result))\n"
     ]
    },
    {
     "data": {
      "image/png": "[encoded data removed]",
      "text/plain": [
       "<Figure size 800x800 with 2 Axes>"
      ]
     },
     "metadata": {},
     "output_type": "display_data"
    },
    {
     "name": "stdout",
     "output_type": "stream",
     "text": [
      "\n",
      "-------------------- label Analysis on metadata: Source --------------------\n",
      "---------- Distribution ----------\n",
      "             count  proportion\n",
      "Source                        \n",
      "google play    280    0.626398\n",
      "non owned      102    0.228188\n",
      "owned           25    0.055928\n",
      "ios             24    0.053691\n",
      "hc search       16    0.035794\n",
      "\n",
      "---------- Metrics for each value in Source ----------\n",
      "- For all data:\n",
      "f1_score: 0.4952 . accuracy_score: 0.7092 . \n",
      "- For google play:\n",
      "f1_score: 0.4857 . accuracy_score: 0.6929 . \n",
      "- For hc search:\n",
      "f1_score: 0.4315 . accuracy_score: 0.6250 . \n",
      "- For ios:\n",
      "f1_score: 0.6736 . accuracy_score: 0.7083 . \n",
      "- For non owned:\n",
      "f1_score: 0.3407 . accuracy_score: 0.7647 . \n",
      "- For owned:\n",
      "f1_score: 0.4146 . accuracy_score: 0.7200 . \n",
      "\n",
      "--------------- Let's look at some wrong predictions with high confidence ---------------\n",
      "Text: google play - đcm quảng cáo cc à\n",
      "True label: Others, but predict Commercial, with confidence 0.9892\n",
      "------------------------------------------------------------\n",
      "Text: ios - .....\n",
      "True label: Delivery, but predict Others, with confidence 0.9872\n",
      "------------------------------------------------------------\n",
      "Text: non owned - .. ❗ ️ GÓC THANH LÝ Tính ra rẻ hơn cả mua # Shopee Mong 1 lần đc check ib mỏi tay 😆 😆 😆 Em chuyển cửa hàng nên dọn lại có thừa vài chục tấm nệm xuất nhật này . 1 mx2m : 1 m2x2 : 1 m4x2m : 1 m6x2m : 1 m8x2m : 2 mx2m Đệm dày 7-8 phân Nhưng vì còn ít nên topic này em bán thanh lý giá rẻ ạ . Ship cod nhận hàng được kiểm tra thoải mái . Miễn ship toàn quốc . Nên đừng bom tội nghiệp em nhé dày 7-8 phân Nhắn tin em gửi mẫu nhé 🥰\n",
      "True label: Commercial, but predict Others, with confidence 0.9849\n",
      "------------------------------------------------------------\n",
      "Text: google play - Shope lác lắm\n",
      "True label: Feature, but predict Commercial, with confidence 0.9847\n",
      "------------------------------------------------------------\n",
      "Text: google play - Tại sao Shopee quảng cáo là Mua gì cũng có . Mà mình tìm Mua người yêu không thấy có là sao , Bịp à !\n",
      "True label: Others, but predict Commercial, with confidence 0.9830\n",
      "------------------------------------------------------------\n"
     ]
    }
   ],
   "source": [
    "evaluate_classification_model(df_val,label_name='label',\n",
    "                              text_name='text',\n",
    "                              pred_name='pred_L1',\n",
    "                              prob_name='pred_prob_L1',\n",
    "                              metric_funcs=metric_funcs,\n",
    "                              metadatas='Source',\n",
    "                              cm_figsize=(8,8),\n",
    "                              n_show=5\n",
    "                             )"
   ]
  },
  {
   "cell_type": "code",
   "execution_count": null,
   "metadata": {},
   "outputs": [],
   "source": [
    "#| hide\n",
    "import nbdev; nbdev.nbdev_export()"
   ]
  },
  {
   "cell_type": "code",
   "execution_count": null,
   "metadata": {},
   "outputs": [],
   "source": []
  }
 ],
 "metadata": {
  "kernelspec": {
   "display_name": "python3",
   "language": "python",
   "name": "python3"
  }
 },
 "nbformat": 4,
 "nbformat_minor": 4
}

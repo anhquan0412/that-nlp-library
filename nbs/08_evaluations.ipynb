{
 "cells": [
  {
   "cell_type": "markdown",
   "metadata": {},
   "source": [
    "# Model Evaluations\n",
    "\n",
    "> This module contains some functions to evaluate your model in-depth\n",
    "\n",
    "- skip_showdoc: true\n",
    "- skip_exec: true"
   ]
  },
  {
   "cell_type": "code",
   "execution_count": null,
   "metadata": {},
   "outputs": [],
   "source": [
    "#| default_exp evaluations"
   ]
  },
  {
   "cell_type": "code",
   "execution_count": null,
   "metadata": {},
   "outputs": [],
   "source": [
    "#| hide\n",
    "from nbdev.showdoc import *"
   ]
  },
  {
   "cell_type": "code",
   "execution_count": null,
   "metadata": {},
   "outputs": [],
   "source": [
    "import os"
   ]
  },
  {
   "cell_type": "code",
   "execution_count": null,
   "metadata": {},
   "outputs": [],
   "source": [
    "os.environ['CUDA_VISIBLE_DEVICES'] = \"0\""
   ]
  },
  {
   "cell_type": "code",
   "execution_count": null,
   "metadata": {},
   "outputs": [],
   "source": [
    "from that_nlp_library.text_transformation import *\n",
    "from that_nlp_library.text_augmentation import *\n",
    "from that_nlp_library.text_main import *\n",
    "from that_nlp_library.utils import seed_everything"
   ]
  },
  {
   "cell_type": "code",
   "execution_count": null,
   "metadata": {},
   "outputs": [],
   "source": [
    "from underthesea import text_normalize\n",
    "from functools import partial\n",
    "from pathlib import Path\n",
    "from transformers import RobertaTokenizer\n",
    "from transformers.models.roberta.modeling_roberta import RobertaForSequenceClassification\n",
    "import nlpaug.augmenter.char as nac\n",
    "from datasets import load_dataset\n",
    "import random\n",
    "import pandas as pd\n",
    "import numpy as np"
   ]
  },
  {
   "cell_type": "code",
   "execution_count": null,
   "metadata": {},
   "outputs": [],
   "source": [
    "from that_nlp_library.model_main import *\n",
    "from sklearn.metrics import f1_score, accuracy_score"
   ]
  },
  {
   "cell_type": "markdown",
   "metadata": {},
   "source": [
    "## Evaluation for Single-head/Multi-head Classification"
   ]
  },
  {
   "cell_type": "markdown",
   "metadata": {},
   "source": [
    "### Create a TextDataController"
   ]
  },
  {
   "cell_type": "code",
   "execution_count": null,
   "metadata": {},
   "outputs": [],
   "source": [
    "# Define the custom augmentation function\n",
    "\n",
    "def nlp_aug_stochastic(x,aug=None,p=0.5):\n",
    "    if not isinstance(x,list): \n",
    "        if random.random()<p: return aug.augment(x)[0]\n",
    "        return x\n",
    "    news=[]\n",
    "    originals=[]\n",
    "    for _x in x:\n",
    "        if random.random()<p: news.append(_x)\n",
    "        else: originals.append(_x)\n",
    "    # only perform augmentation when needed\n",
    "    if len(news): news = aug.augment(news)\n",
    "    return news+originals"
   ]
  },
  {
   "cell_type": "code",
   "execution_count": null,
   "metadata": {},
   "outputs": [],
   "source": [
    "aug = nac.KeyboardAug(aug_char_max=3,aug_char_p=0.1,aug_word_p=0.07)\n",
    "nearby_aug_func = partial(nlp_aug_stochastic,aug=aug,p=0.3)"
   ]
  },
  {
   "cell_type": "code",
   "execution_count": null,
   "metadata": {},
   "outputs": [],
   "source": [
    "dset = load_dataset('sample_data',data_files=['Womens_Clothing_Reviews.csv'],split='train')"
   ]
  },
  {
   "cell_type": "code",
   "execution_count": null,
   "metadata": {},
   "outputs": [],
   "source": [
    "tdc = TextDataController(dset,\n",
    "                         main_text='Review Text',\n",
    "                         label_names='Department Name',\n",
    "                         sup_types='classification',\n",
    "                         filter_dict={'Review Text': lambda x: x is not None,\n",
    "                                      'Department Name': lambda x: x is not None,\n",
    "                                     },\n",
    "                         metadatas=['Title','Division Name'],\n",
    "                         content_transformations=[text_normalize,str.lower],\n",
    "                         content_augmentations= [nearby_aug_func,str.lower], \n",
    "                         # add \"str.lower\" here because nearby_aug might return uppercase character\n",
    "                         val_ratio=0.2,\n",
    "                         batch_size=1000,\n",
    "                         seed=42,\n",
    "                         num_proc=20,\n",
    "                         verbose=False\n",
    "                        )"
   ]
  },
  {
   "cell_type": "code",
   "execution_count": null,
   "metadata": {},
   "outputs": [
    {
     "name": "stderr",
     "output_type": "stream",
     "text": [
      "/home/quan/anaconda3/envs/nlp_dev/lib/python3.10/site-packages/huggingface_hub/file_download.py:1132: FutureWarning: `resume_download` is deprecated and will be removed in version 1.0.0. Downloads always resume when possible. If you want to force a new download, use `force_download=True`.\n",
      "  warnings.warn(\n"
     ]
    }
   ],
   "source": [
    "tokenizer = RobertaTokenizer.from_pretrained('roberta-base')\n",
    "\n",
    "tdc.process_and_tokenize(tokenizer,max_length=100,shuffle_trn=True)"
   ]
  },
  {
   "cell_type": "markdown",
   "metadata": {},
   "source": [
    "### Define and train model"
   ]
  },
  {
   "cell_type": "code",
   "execution_count": null,
   "metadata": {},
   "outputs": [],
   "source": [
    "num_classes = len(tdc.label_lists[0])\n",
    "metric_funcs = [partial(f1_score,average='macro'),accuracy_score] "
   ]
  },
  {
   "cell_type": "code",
   "execution_count": null,
   "metadata": {},
   "outputs": [
    {
     "name": "stderr",
     "output_type": "stream",
     "text": [
      "/home/quan/anaconda3/envs/nlp_dev/lib/python3.10/site-packages/huggingface_hub/file_download.py:1132: FutureWarning: `resume_download` is deprecated and will be removed in version 1.0.0. Downloads always resume when possible. If you want to force a new download, use `force_download=True`.\n",
      "  warnings.warn(\n",
      "Some weights of RobertaForSequenceClassification were not initialized from the model checkpoint at roberta-base and are newly initialized: ['classifier.dense.bias', 'classifier.dense.weight', 'classifier.out_proj.bias', 'classifier.out_proj.weight']\n",
      "You should probably TRAIN this model on a down-stream task to be able to use it for predictions and inference.\n"
     ]
    }
   ],
   "source": [
    "seed_everything(42)\n",
    "model_name='roberta-base'\n",
    "model = RobertaForSequenceClassification.from_pretrained(model_name,num_labels=num_classes).to('cuda:0')"
   ]
  },
  {
   "cell_type": "code",
   "execution_count": null,
   "metadata": {},
   "outputs": [],
   "source": [
    "controller = ModelController(model,\n",
    "                             data_store=tdc,\n",
    "                             seed=42)"
   ]
  },
  {
   "cell_type": "code",
   "execution_count": null,
   "metadata": {},
   "outputs": [
    {
     "data": {
      "text/html": [
       "\n",
       "    <div>\n",
       "      \n",
       "      <progress value='849' max='849' style='width:300px; height:20px; vertical-align: middle;'></progress>\n",
       "      [849/849 05:01, Epoch 3/3]\n",
       "    </div>\n",
       "    <table border=\"1\" class=\"dataframe\">\n",
       "  <thead>\n",
       " <tr style=\"text-align: left;\">\n",
       "      <th>Epoch</th>\n",
       "      <th>Training Loss</th>\n",
       "      <th>Validation Loss</th>\n",
       "      <th>F1 Score Department name</th>\n",
       "      <th>Accuracy Score Department name</th>\n",
       "    </tr>\n",
       "  </thead>\n",
       "  <tbody>\n",
       "    <tr>\n",
       "      <td>1</td>\n",
       "      <td>No log</td>\n",
       "      <td>0.316325</td>\n",
       "      <td>0.734646</td>\n",
       "      <td>0.913389</td>\n",
       "    </tr>\n",
       "    <tr>\n",
       "      <td>2</td>\n",
       "      <td>0.419000</td>\n",
       "      <td>0.259580</td>\n",
       "      <td>0.752915</td>\n",
       "      <td>0.923995</td>\n",
       "    </tr>\n",
       "    <tr>\n",
       "      <td>3</td>\n",
       "      <td>0.419000</td>\n",
       "      <td>0.265681</td>\n",
       "      <td>0.751789</td>\n",
       "      <td>0.922890</td>\n",
       "    </tr>\n",
       "  </tbody>\n",
       "</table><p>"
      ],
      "text/plain": [
       "<IPython.core.display.HTML object>"
      ]
     },
     "metadata": {},
     "output_type": "display_data"
    }
   ],
   "source": [
    "lr = 1e-4\n",
    "bs=32\n",
    "wd=0.01\n",
    "epochs= 3\n",
    "\n",
    "controller.fit(epochs,lr,\n",
    "               metric_funcs=metric_funcs,\n",
    "               batch_size=bs,\n",
    "               weight_decay=wd,\n",
    "               save_checkpoint=False,\n",
    "               compute_metrics=compute_metrics,\n",
    "              )"
   ]
  },
  {
   "cell_type": "markdown",
   "metadata": {},
   "source": [
    "### Generate predictions"
   ]
  },
  {
   "cell_type": "markdown",
   "metadata": {},
   "source": [
    "We will do model evaluation on the validation set"
   ]
  },
  {
   "cell_type": "code",
   "execution_count": null,
   "metadata": {},
   "outputs": [
    {
     "name": "stdout",
     "output_type": "stream",
     "text": [
      "-------------------- Start making predictions --------------------\n"
     ]
    }
   ],
   "source": [
    "df_val = controller.predict_ddict(ds_type='validation')"
   ]
  },
  {
   "cell_type": "code",
   "execution_count": null,
   "metadata": {},
   "outputs": [
    {
     "data": {
      "text/html": [
       "<div>\n",
       "<style scoped>\n",
       "    .dataframe tbody tr th:only-of-type {\n",
       "        vertical-align: middle;\n",
       "    }\n",
       "\n",
       "    .dataframe tbody tr th {\n",
       "        vertical-align: top;\n",
       "    }\n",
       "\n",
       "    .dataframe thead th {\n",
       "        text-align: right;\n",
       "    }\n",
       "</style>\n",
       "<table border=\"1\" class=\"dataframe\">\n",
       "  <thead>\n",
       "    <tr style=\"text-align: right;\">\n",
       "      <th></th>\n",
       "      <th>Title</th>\n",
       "      <th>Review Text</th>\n",
       "      <th>Division Name</th>\n",
       "      <th>Department Name</th>\n",
       "      <th>label</th>\n",
       "      <th>input_ids</th>\n",
       "      <th>attention_mask</th>\n",
       "      <th>pred_Department Name</th>\n",
       "      <th>pred_prob_Department Name</th>\n",
       "    </tr>\n",
       "  </thead>\n",
       "  <tbody>\n",
       "    <tr>\n",
       "      <th>0</th>\n",
       "      <td></td>\n",
       "      <td>general petite . . such a fun jacket ! great t...</td>\n",
       "      <td>general petite</td>\n",
       "      <td>Intimate</td>\n",
       "      <td>2</td>\n",
       "      <td>[0, 15841, 4716, 1459, 479, 479, 215, 10, 1531...</td>\n",
       "      <td>[1, 1, 1, 1, 1, 1, 1, 1, 1, 1, 1, 1, 1, 1, 1, ...</td>\n",
       "      <td>Jackets</td>\n",
       "      <td>0.881662</td>\n",
       "    </tr>\n",
       "    <tr>\n",
       "      <th>1</th>\n",
       "      <td>simple and elegant</td>\n",
       "      <td>general petite . simple and elegant . i though...</td>\n",
       "      <td>general petite</td>\n",
       "      <td>Tops</td>\n",
       "      <td>4</td>\n",
       "      <td>[0, 15841, 4716, 1459, 479, 2007, 8, 14878, 47...</td>\n",
       "      <td>[1, 1, 1, 1, 1, 1, 1, 1, 1, 1, 1, 1, 1, 1, 1, ...</td>\n",
       "      <td>Tops</td>\n",
       "      <td>0.994637</td>\n",
       "    </tr>\n",
       "    <tr>\n",
       "      <th>2</th>\n",
       "      <td>retro and pretty</td>\n",
       "      <td>general . retro and pretty . this top has a bi...</td>\n",
       "      <td>general</td>\n",
       "      <td>Tops</td>\n",
       "      <td>4</td>\n",
       "      <td>[0, 15841, 479, 11299, 8, 1256, 479, 42, 299, ...</td>\n",
       "      <td>[1, 1, 1, 1, 1, 1, 1, 1, 1, 1, 1, 1, 1, 1, 1, ...</td>\n",
       "      <td>Tops</td>\n",
       "      <td>0.994337</td>\n",
       "    </tr>\n",
       "    <tr>\n",
       "      <th>3</th>\n",
       "      <td>summer/fall wear</td>\n",
       "      <td>general petite . summer / fall wear . i first ...</td>\n",
       "      <td>general petite</td>\n",
       "      <td>Dresses</td>\n",
       "      <td>1</td>\n",
       "      <td>[0, 15841, 4716, 1459, 479, 1035, 1589, 1136, ...</td>\n",
       "      <td>[1, 1, 1, 1, 1, 1, 1, 1, 1, 1, 1, 1, 1, 1, 1, ...</td>\n",
       "      <td>Dresses</td>\n",
       "      <td>0.986489</td>\n",
       "    </tr>\n",
       "    <tr>\n",
       "      <th>4</th>\n",
       "      <td>perfect except slip</td>\n",
       "      <td>general petite . perfect except slip . this is...</td>\n",
       "      <td>general petite</td>\n",
       "      <td>Dresses</td>\n",
       "      <td>1</td>\n",
       "      <td>[0, 15841, 4716, 1459, 479, 1969, 4682, 9215, ...</td>\n",
       "      <td>[1, 1, 1, 1, 1, 1, 1, 1, 1, 1, 1, 1, 1, 1, 1, ...</td>\n",
       "      <td>Dresses</td>\n",
       "      <td>0.986804</td>\n",
       "    </tr>\n",
       "  </tbody>\n",
       "</table>\n",
       "</div>"
      ],
      "text/plain": [
       "                 Title                                        Review Text  \\\n",
       "0                       general petite . . such a fun jacket ! great t...   \n",
       "1   simple and elegant  general petite . simple and elegant . i though...   \n",
       "2     retro and pretty  general . retro and pretty . this top has a bi...   \n",
       "3     summer/fall wear  general petite . summer / fall wear . i first ...   \n",
       "4  perfect except slip  general petite . perfect except slip . this is...   \n",
       "\n",
       "    Division Name Department Name  label  \\\n",
       "0  general petite        Intimate      2   \n",
       "1  general petite            Tops      4   \n",
       "2         general            Tops      4   \n",
       "3  general petite         Dresses      1   \n",
       "4  general petite         Dresses      1   \n",
       "\n",
       "                                           input_ids  \\\n",
       "0  [0, 15841, 4716, 1459, 479, 479, 215, 10, 1531...   \n",
       "1  [0, 15841, 4716, 1459, 479, 2007, 8, 14878, 47...   \n",
       "2  [0, 15841, 479, 11299, 8, 1256, 479, 42, 299, ...   \n",
       "3  [0, 15841, 4716, 1459, 479, 1035, 1589, 1136, ...   \n",
       "4  [0, 15841, 4716, 1459, 479, 1969, 4682, 9215, ...   \n",
       "\n",
       "                                      attention_mask pred_Department Name  \\\n",
       "0  [1, 1, 1, 1, 1, 1, 1, 1, 1, 1, 1, 1, 1, 1, 1, ...              Jackets   \n",
       "1  [1, 1, 1, 1, 1, 1, 1, 1, 1, 1, 1, 1, 1, 1, 1, ...                 Tops   \n",
       "2  [1, 1, 1, 1, 1, 1, 1, 1, 1, 1, 1, 1, 1, 1, 1, ...                 Tops   \n",
       "3  [1, 1, 1, 1, 1, 1, 1, 1, 1, 1, 1, 1, 1, 1, 1, ...              Dresses   \n",
       "4  [1, 1, 1, 1, 1, 1, 1, 1, 1, 1, 1, 1, 1, 1, 1, ...              Dresses   \n",
       "\n",
       "   pred_prob_Department Name  \n",
       "0                   0.881662  \n",
       "1                   0.994637  \n",
       "2                   0.994337  \n",
       "3                   0.986489  \n",
       "4                   0.986804  "
      ]
     },
     "execution_count": null,
     "metadata": {},
     "output_type": "execute_result"
    }
   ],
   "source": [
    "df_val = df_val.to_pandas()\n",
    "df_val.head()"
   ]
  },
  {
   "cell_type": "markdown",
   "metadata": {},
   "source": [
    "### Start the model evaluation"
   ]
  },
  {
   "cell_type": "code",
   "execution_count": null,
   "metadata": {},
   "outputs": [],
   "source": [
    "#| export\n",
    "from __future__ import annotations\n",
    "from that_nlp_library.utils import *\n",
    "from sklearn.metrics import classification_report,ConfusionMatrixDisplay\n",
    "import pandas as pd\n",
    "import numpy as np\n",
    "import matplotlib.pyplot as plt\n"
   ]
  },
  {
   "cell_type": "code",
   "execution_count": null,
   "metadata": {},
   "outputs": [],
   "source": [
    "#| hide\n",
    "#| export\n",
    "def _show_metrics(label,pred,metric_funcs):\n",
    "    results=''\n",
    "    for m_func in metric_funcs:\n",
    "        m_name=callable_name(m_func)\n",
    "        results+=f'{m_name}: {m_func(label,pred):.4f} . '\n",
    "    return results"
   ]
  },
  {
   "cell_type": "code",
   "execution_count": null,
   "metadata": {},
   "outputs": [],
   "source": [
    "#| export\n",
    "def evaluate_classification_model_metadata(df:pd.DataFrame, # The main dataframe containing the predictions\n",
    "                                           metadatas:str|list, # Metadata(s) to perform analysis\n",
    "                                           label_name:str, # Label's column name\n",
    "                                           pred_name:str, # Prediction's column name\n",
    "                                           metric_funcs:list, # Metric(s) to calculate\n",
    "                                          ):\n",
    "    metadatas = val2iterable(metadatas)\n",
    "    metric_funcs = val2iterable(metric_funcs)\n",
    "    \n",
    "    for metadata in metadatas:\n",
    "        print_msg(f'{label_name} Analysis on metadata: {metadata}',20)\n",
    "        print_msg('Distribution',10)\n",
    "        print(pd.concat((df[metadata].value_counts(),df[metadata].value_counts(normalize=True)),axis=1))\n",
    "        print()\n",
    "        print_msg(f'Metrics for each value in {metadata}',10)\n",
    "        print(f'- For all data:\\n{_show_metrics(df[label_name].values,df[pred_name].values,metric_funcs)}')\n",
    "        for val in np.sort(df[metadata].unique()):\n",
    "            y_true=df.loc[df[metadata]==val,label_name].values\n",
    "            y_pred=df.loc[df[metadata]==val,pred_name].values\n",
    "            print(f'- For {val}:\\n{_show_metrics(y_true,y_pred,metric_funcs)}')"
   ]
  },
  {
   "cell_type": "code",
   "execution_count": null,
   "metadata": {},
   "outputs": [
    {
     "data": {
      "text/markdown": [
       "---\n",
       "\n",
       "[source](https://github.com/anhquan0412/that-nlp-library/blob/main/that_nlp_library/evaluations.py#L24){target=\"_blank\" style=\"float:right; font-size:smaller\"}\n",
       "\n",
       "### evaluate_classification_model_metadata\n",
       "\n",
       ">      evaluate_classification_model_metadata (df:pandas.core.frame.DataFrame,\n",
       ">                                              metadatas:str|list,\n",
       ">                                              label_name:str, pred_name:str,\n",
       ">                                              metric_funcs:list)\n",
       "\n",
       "|    | **Type** | **Details** |\n",
       "| -- | -------- | ----------- |\n",
       "| df | pd.DataFrame | The main dataframe containing the predictions |\n",
       "| metadatas | str \\| list | Metadata(s) to perform analysis |\n",
       "| label_name | str | Label's column name |\n",
       "| pred_name | str | Prediction's column name |\n",
       "| metric_funcs | list | Metric(s) to calculate |"
      ],
      "text/plain": [
       "---\n",
       "\n",
       "[source](https://github.com/anhquan0412/that-nlp-library/blob/main/that_nlp_library/evaluations.py#L24){target=\"_blank\" style=\"float:right; font-size:smaller\"}\n",
       "\n",
       "### evaluate_classification_model_metadata\n",
       "\n",
       ">      evaluate_classification_model_metadata (df:pandas.core.frame.DataFrame,\n",
       ">                                              metadatas:str|list,\n",
       ">                                              label_name:str, pred_name:str,\n",
       ">                                              metric_funcs:list)\n",
       "\n",
       "|    | **Type** | **Details** |\n",
       "| -- | -------- | ----------- |\n",
       "| df | pd.DataFrame | The main dataframe containing the predictions |\n",
       "| metadatas | str \\| list | Metadata(s) to perform analysis |\n",
       "| label_name | str | Label's column name |\n",
       "| pred_name | str | Prediction's column name |\n",
       "| metric_funcs | list | Metric(s) to calculate |"
      ]
     },
     "execution_count": null,
     "metadata": {},
     "output_type": "execute_result"
    }
   ],
   "source": [
    "show_doc(evaluate_classification_model_metadata)"
   ]
  },
  {
   "cell_type": "code",
   "execution_count": null,
   "metadata": {},
   "outputs": [],
   "source": [
    "metric_funcs = [partial(f1_score,average='macro'),accuracy_score]"
   ]
  },
  {
   "cell_type": "code",
   "execution_count": null,
   "metadata": {},
   "outputs": [
    {
     "name": "stdout",
     "output_type": "stream",
     "text": [
      "-------------------- Department Name Analysis on metadata: Division Name --------------------\n",
      "---------- Distribution ----------\n",
      "                count  proportion\n",
      "Division Name                    \n",
      "general          2688    0.593902\n",
      "general petite   1546    0.341582\n",
      "initmates         292    0.064516\n",
      "\n",
      "---------- Metrics for each value in Division Name ----------\n",
      "- For all data:\n",
      "f1_score: 0.7518 . accuracy_score: 0.9229 . \n",
      "- For general:\n",
      "f1_score: 0.5958 . accuracy_score: 0.9219 . \n",
      "- For general petite:\n",
      "f1_score: 0.6386 . accuracy_score: 0.9101 . \n",
      "- For initmates:\n",
      "f1_score: 1.0000 . accuracy_score: 1.0000 . \n"
     ]
    }
   ],
   "source": [
    "evaluate_classification_model_metadata(df_val,metadatas='Division Name',\n",
    "                                       label_name='Department Name',\n",
    "                                       pred_name='pred_Department Name',\n",
    "                                       metric_funcs=metric_funcs\n",
    "                                      )"
   ]
  },
  {
   "cell_type": "code",
   "execution_count": null,
   "metadata": {},
   "outputs": [],
   "source": [
    "#| export\n",
    "def show_top_n_predictions(df:pd.DataFrame, # The main dataframe containing the predictions\n",
    "                          text_name:str, # Text's column name\n",
    "                          label_name:str, # Label's column name\n",
    "                          pred_name:str, # Prediction's column name\n",
    "                          prob_name:str, # Prediction probability's column name\n",
    "                          is_incorrect=True, # To show top correct or incorrect sentences\n",
    "                          ascending=False, # To sort by prob_name ascendingly or descendingly\n",
    "                          n_show=10, # Number of sentences to show\n",
    "                         ):\n",
    "    if is_incorrect:\n",
    "        df = df[df[pred_name]!=df[label_name]]\n",
    "    else:\n",
    "        df = df[df[pred_name]==df[label_name]]\n",
    "    df = df.sort_values(prob_name,ascending=ascending)[[text_name,label_name,pred_name,prob_name]].head(n_show).values\n",
    "    for row in df:\n",
    "        print(f'Text: {row[0]}')\n",
    "        print(f'True label: {row[1]}, {\"but\" if is_incorrect else \"\"} predict {row[2]}, with confidence {row[3]:.4f}')\n",
    "        print('-'*60)"
   ]
  },
  {
   "cell_type": "code",
   "execution_count": null,
   "metadata": {},
   "outputs": [
    {
     "data": {
      "text/markdown": [
       "---\n",
       "\n",
       "[source](https://github.com/anhquan0412/that-nlp-library/blob/main/that_nlp_library/evaluations.py#L46){target=\"_blank\" style=\"float:right; font-size:smaller\"}\n",
       "\n",
       "### show_top_n_predictions\n",
       "\n",
       ">      show_top_n_predictions (df:pandas.core.frame.DataFrame, text_name:str,\n",
       ">                              label_name:str, pred_name:str, prob_name:str,\n",
       ">                              is_incorrect=True, ascending=False, n_show=10)\n",
       "\n",
       "|    | **Type** | **Default** | **Details** |\n",
       "| -- | -------- | ----------- | ----------- |\n",
       "| df | pd.DataFrame |  | The main dataframe containing the predictions |\n",
       "| text_name | str |  | Text's column name |\n",
       "| label_name | str |  | Label's column name |\n",
       "| pred_name | str |  | Prediction's column name |\n",
       "| prob_name | str |  | Prediction probability's column name |\n",
       "| is_incorrect | bool | True | To show top correct or incorrect sentences |\n",
       "| ascending | bool | False | To sort by prob_name ascendingly or descendingly |\n",
       "| n_show | int | 10 | Number of sentences to show |"
      ],
      "text/plain": [
       "---\n",
       "\n",
       "[source](https://github.com/anhquan0412/that-nlp-library/blob/main/that_nlp_library/evaluations.py#L46){target=\"_blank\" style=\"float:right; font-size:smaller\"}\n",
       "\n",
       "### show_top_n_predictions\n",
       "\n",
       ">      show_top_n_predictions (df:pandas.core.frame.DataFrame, text_name:str,\n",
       ">                              label_name:str, pred_name:str, prob_name:str,\n",
       ">                              is_incorrect=True, ascending=False, n_show=10)\n",
       "\n",
       "|    | **Type** | **Default** | **Details** |\n",
       "| -- | -------- | ----------- | ----------- |\n",
       "| df | pd.DataFrame |  | The main dataframe containing the predictions |\n",
       "| text_name | str |  | Text's column name |\n",
       "| label_name | str |  | Label's column name |\n",
       "| pred_name | str |  | Prediction's column name |\n",
       "| prob_name | str |  | Prediction probability's column name |\n",
       "| is_incorrect | bool | True | To show top correct or incorrect sentences |\n",
       "| ascending | bool | False | To sort by prob_name ascendingly or descendingly |\n",
       "| n_show | int | 10 | Number of sentences to show |"
      ]
     },
     "execution_count": null,
     "metadata": {},
     "output_type": "execute_result"
    }
   ],
   "source": [
    "show_doc(show_top_n_predictions)"
   ]
  },
  {
   "cell_type": "code",
   "execution_count": null,
   "metadata": {},
   "outputs": [
    {
     "name": "stdout",
     "output_type": "stream",
     "text": [
      "Text: general petite . . it is a beautiful top but runs huge ! ! ! i followed other reviews and ordered a size down hoping it would work but it was totally unflattering ! i wanted so bad to love it but there was no way i could keep it ! !\n",
      "True label: Dresses, but predict Tops, with confidence 0.9948\n",
      "------------------------------------------------------------\n",
      "Text: general . great \" cardigan \" . if you're very small-framed and / or petite , i would size down in this . unless you want a really slouchy look and fit . ---------- i have very broad shoulders and very large biceps , and typically wear a m / l in retailer tops . sometimes if a top is a pullover style ( as opposed to button-down ) i have to size up to a 12 to get the top to accommodate my shoulder width and biceps . so i was leery the size 8 / italian 44 would fit , but it does , with room to spare , albeit it is not as loose or long in the ar\n",
      "True label: Jackets, but predict Tops, with confidence 0.9946\n",
      "------------------------------------------------------------\n",
      "Text: general . is this top orange or red . wish this site had \" ask a question about the product \" feature like amazon does . just wondering if anyone has seen this product in person to verify color ? it looks orange but descriptor says red . would appreciate feedback . thank you for your help .\n",
      "True label: Jackets, but predict Tops, with confidence 0.9944\n",
      "------------------------------------------------------------\n",
      "Text: general petite . . this is absolutely gorgeous cardigan ! the pictures don't do it justice ! it's comfortable and soft and very trendy at the same time ! i bought it in teal and in medium , i am 5 ' 3 \" and usually wear 10-12 ! even though i think it runs tts , but for more fitted look , medium fits better ! i am blond and this color looks great ! i also loved it when unzipped the upper part , it looked even better ! it is perfect with leggings in grey , blue , green and black , also beautiful with aqua flora leggings and with re\n",
      "True label: Intimate, but predict Tops, with confidence 0.9944\n",
      "------------------------------------------------------------\n",
      "Text: general petite . sweet top . i love this top . i had no issues with fabric . it is soft and light . the wrist details are very pretty . i love the buttons . it fits true to size and it is a good layering top . i got the red which is true to the picture . not looking red but a bright coral color .\n",
      "True label: Intimate, but predict Tops, with confidence 0.9944\n",
      "------------------------------------------------------------\n"
     ]
    }
   ],
   "source": [
    "show_top_n_predictions(df_val,text_name='Review Text',\n",
    "                      label_name='Department Name',\n",
    "                      pred_name='pred_Department Name',\n",
    "                      prob_name='pred_prob_Department Name',\n",
    "                      is_incorrect=True,\n",
    "                      ascending=False,n_show=5)"
   ]
  },
  {
   "cell_type": "code",
   "execution_count": null,
   "metadata": {},
   "outputs": [
    {
     "name": "stdout",
     "output_type": "stream",
     "text": [
      "Text: general . perfect in all respects . true to size for petite person ; bought in blue - subtle shading , looks great ; paired with your blue straight leg blue \" jeans \" ; perfect outfit for almost all occasions .\n",
      "True label: Tops, but predict Bottoms, with confidence 0.3470\n",
      "------------------------------------------------------------\n",
      "Text: general . amazing . this fits so perfect ! it is light fabric , not clingy . very flattering ! i am 5 ' 4 120 lbs with athletic build .\n",
      "True label: Bottoms, but predict Dresses, with confidence 0.3505\n",
      "------------------------------------------------------------\n",
      "Text: general . disappointed . bummed out .. this is super cheaply made and very expensive ... the design is different , the color is beautiful , but the material is a different story .. it should be priced at the most 30 bucks .. not 128 .. i'm returning them . also , they run very big .. !\n",
      "True label: Bottoms, but predict Tops, with confidence 0.3516\n",
      "------------------------------------------------------------\n",
      "Text: general . tons of compliments . wore this to work and nearly everyone complimented me on it . very comfortable . lots of detailing . perfect for fall . pockets ! i'm usually somewhere between a s and m but this piece was generously cut and a s was perfect . i debated ordering the petite , but actually the regular cut was the perfect length even though i'm only 5 ' 4 \" .\n",
      "True label: Dresses, but predict Bottoms, with confidence 0.3578\n",
      "------------------------------------------------------------\n",
      "Text: general petite . misnomer in color , stunning on any figure . i'm not sure why they call this \" black \" because what you see in this pictures depicted is pretty much the shade in person . the fabric itself is lovely . it made my wider hips look smaller ! :) ___________ pros : - drapes beautifully on the body , especially for curvier gals . - not black but a deep navy / velvet look and feel . - very forgiving and stretchy . - perfect length in front and back . - hides imperfections wonderfully . - soft , flows well , and unique ! cons : - material is thin , not for winter a\n",
      "True label: Bottoms, but predict Dresses, with confidence 0.3578\n",
      "------------------------------------------------------------\n"
     ]
    }
   ],
   "source": [
    "show_top_n_predictions(df_val,text_name='Review Text',\n",
    "                      label_name='Department Name',\n",
    "                      pred_name='pred_Department Name',\n",
    "                      prob_name='pred_prob_Department Name',\n",
    "                      is_incorrect=True,\n",
    "                      ascending=True,n_show=5)"
   ]
  },
  {
   "cell_type": "code",
   "execution_count": null,
   "metadata": {},
   "outputs": [],
   "source": [
    "#| export\n",
    "def evaluate_classification_model(df:pd.DataFrame, # The main dataframe containing the predictions\n",
    "                              text_name:str, # Text's column name\n",
    "                              label_name:str, # Label's column name\n",
    "                              pred_name:str, # Prediction's column name\n",
    "                              prob_name:str, # Prediction probability's column name\n",
    "                              metric_funcs:list=[], # Metric(s) to calculate\n",
    "                              metadatas:str|list=[], # Metadata(s) to perform analysis\n",
    "                              n_show=10, # Number of sentences to show\n",
    "                              cm_figsize=(20,20), # Confusion matrix's figure size\n",
    "                             ):\n",
    "\n",
    "    y_true = df[label_name].values\n",
    "    y_pred = df[pred_name].values\n",
    "    print_msg(f'{label_name} Analysis',20)\n",
    "    print()\n",
    "    print_msg('Classification Report',15)\n",
    "    print(classification_report(y_true,y_pred))\n",
    "    print()\n",
    "    print_msg('Confusion Matrix',15)\n",
    "    fig,ax = plt.subplots(figsize=cm_figsize)\n",
    "    ConfusionMatrixDisplay.from_predictions(y_true,y_pred,xticks_rotation='vertical',ax=ax)\n",
    "    plt.show()\n",
    "    print()\n",
    "    evaluate_classification_model_metadata(df,metadatas,label_name,pred_name,metric_funcs)\n",
    "    print()\n",
    "    print_msg(\"Let's look at some wrong predictions with high confidence\",15)\n",
    "    show_top_n_predictions(df,text_name,label_name,pred_name,prob_name,\n",
    "                           is_incorrect=True,\n",
    "                           ascending=False,\n",
    "                           n_show=n_show)"
   ]
  },
  {
   "cell_type": "code",
   "execution_count": null,
   "metadata": {},
   "outputs": [
    {
     "data": {
      "text/markdown": [
       "---\n",
       "\n",
       "[source](https://github.com/anhquan0412/that-nlp-library/blob/main/that_nlp_library/evaluations.py#L66){target=\"_blank\" style=\"float:right; font-size:smaller\"}\n",
       "\n",
       "### evaluate_classification_model\n",
       "\n",
       ">      evaluate_classification_model (df:pandas.core.frame.DataFrame,\n",
       ">                                     text_name:str, label_name:str,\n",
       ">                                     pred_name:str, prob_name:str,\n",
       ">                                     metric_funcs:list=[],\n",
       ">                                     metadatas:str|list=[], n_show=10,\n",
       ">                                     cm_figsize=(20, 20))\n",
       "\n",
       "|    | **Type** | **Default** | **Details** |\n",
       "| -- | -------- | ----------- | ----------- |\n",
       "| df | pd.DataFrame |  | The main dataframe containing the predictions |\n",
       "| text_name | str |  | Text's column name |\n",
       "| label_name | str |  | Label's column name |\n",
       "| pred_name | str |  | Prediction's column name |\n",
       "| prob_name | str |  | Prediction probability's column name |\n",
       "| metric_funcs | list | [] | Metric(s) to calculate |\n",
       "| metadatas | str \\| list | [] | Metadata(s) to perform analysis |\n",
       "| n_show | int | 10 | Number of sentences to show |\n",
       "| cm_figsize | tuple | (20, 20) | Confusion matrix's figure size |"
      ],
      "text/plain": [
       "---\n",
       "\n",
       "[source](https://github.com/anhquan0412/that-nlp-library/blob/main/that_nlp_library/evaluations.py#L66){target=\"_blank\" style=\"float:right; font-size:smaller\"}\n",
       "\n",
       "### evaluate_classification_model\n",
       "\n",
       ">      evaluate_classification_model (df:pandas.core.frame.DataFrame,\n",
       ">                                     text_name:str, label_name:str,\n",
       ">                                     pred_name:str, prob_name:str,\n",
       ">                                     metric_funcs:list=[],\n",
       ">                                     metadatas:str|list=[], n_show=10,\n",
       ">                                     cm_figsize=(20, 20))\n",
       "\n",
       "|    | **Type** | **Default** | **Details** |\n",
       "| -- | -------- | ----------- | ----------- |\n",
       "| df | pd.DataFrame |  | The main dataframe containing the predictions |\n",
       "| text_name | str |  | Text's column name |\n",
       "| label_name | str |  | Label's column name |\n",
       "| pred_name | str |  | Prediction's column name |\n",
       "| prob_name | str |  | Prediction probability's column name |\n",
       "| metric_funcs | list | [] | Metric(s) to calculate |\n",
       "| metadatas | str \\| list | [] | Metadata(s) to perform analysis |\n",
       "| n_show | int | 10 | Number of sentences to show |\n",
       "| cm_figsize | tuple | (20, 20) | Confusion matrix's figure size |"
      ]
     },
     "execution_count": null,
     "metadata": {},
     "output_type": "execute_result"
    }
   ],
   "source": [
    "show_doc(evaluate_classification_model)"
   ]
  },
  {
   "cell_type": "code",
   "execution_count": null,
   "metadata": {},
   "outputs": [
    {
     "name": "stdout",
     "output_type": "stream",
     "text": [
      "-------------------- Department Name Analysis --------------------\n",
      "\n",
      "--------------- Classification Report ---------------\n",
      "              precision    recall  f1-score   support\n",
      "\n",
      "     Bottoms       0.92      0.93      0.92       695\n",
      "     Dresses       0.94      0.91      0.93      1248\n",
      "    Intimate       0.99      0.88      0.93       341\n",
      "     Jackets       0.80      0.79      0.79       213\n",
      "        Tops       0.92      0.96      0.94      2010\n",
      "       Trend       0.00      0.00      0.00        19\n",
      "\n",
      "    accuracy                           0.92      4526\n",
      "   macro avg       0.76      0.74      0.75      4526\n",
      "weighted avg       0.92      0.92      0.92      4526\n",
      "\n",
      "\n",
      "--------------- Confusion Matrix ---------------\n"
     ]
    },
    {
     "name": "stderr",
     "output_type": "stream",
     "text": [
      "/home/quan/anaconda3/envs/nlp_dev/lib/python3.10/site-packages/sklearn/metrics/_classification.py:1471: UndefinedMetricWarning: Precision and F-score are ill-defined and being set to 0.0 in labels with no predicted samples. Use `zero_division` parameter to control this behavior.\n",
      "  _warn_prf(average, modifier, msg_start, len(result))\n",
      "/home/quan/anaconda3/envs/nlp_dev/lib/python3.10/site-packages/sklearn/metrics/_classification.py:1471: UndefinedMetricWarning: Precision and F-score are ill-defined and being set to 0.0 in labels with no predicted samples. Use `zero_division` parameter to control this behavior.\n",
      "  _warn_prf(average, modifier, msg_start, len(result))\n",
      "/home/quan/anaconda3/envs/nlp_dev/lib/python3.10/site-packages/sklearn/metrics/_classification.py:1471: UndefinedMetricWarning: Precision and F-score are ill-defined and being set to 0.0 in labels with no predicted samples. Use `zero_division` parameter to control this behavior.\n",
      "  _warn_prf(average, modifier, msg_start, len(result))\n"
     ]
    },
    {
     "data": {
      "image/png": "[encoded data removed]",
      "text/plain": [
       "<Figure size 800x800 with 2 Axes>"
      ]
     },
     "metadata": {},
     "output_type": "display_data"
    },
    {
     "name": "stdout",
     "output_type": "stream",
     "text": [
      "\n",
      "-------------------- Department Name Analysis on metadata: Division Name --------------------\n",
      "---------- Distribution ----------\n",
      "                count  proportion\n",
      "Division Name                    \n",
      "general          2688    0.593902\n",
      "general petite   1546    0.341582\n",
      "initmates         292    0.064516\n",
      "\n",
      "---------- Metrics for each value in Division Name ----------\n",
      "- For all data:\n",
      "f1_score: 0.7518 . accuracy_score: 0.9229 . \n",
      "- For general:\n",
      "f1_score: 0.5958 . accuracy_score: 0.9219 . \n",
      "- For general petite:\n",
      "f1_score: 0.6386 . accuracy_score: 0.9101 . \n",
      "- For initmates:\n",
      "f1_score: 1.0000 . accuracy_score: 1.0000 . \n",
      "\n",
      "--------------- Let's look at some wrong predictions with high confidence ---------------\n",
      "Text: general petite . . it is a beautiful top but runs huge ! ! ! i followed other reviews and ordered a size down hoping it would work but it was totally unflattering ! i wanted so bad to love it but there was no way i could keep it ! !\n",
      "True label: Dresses, but predict Tops, with confidence 0.9948\n",
      "------------------------------------------------------------\n",
      "Text: general . great \" cardigan \" . if you're very small-framed and / or petite , i would size down in this . unless you want a really slouchy look and fit . ---------- i have very broad shoulders and very large biceps , and typically wear a m / l in retailer tops . sometimes if a top is a pullover style ( as opposed to button-down ) i have to size up to a 12 to get the top to accommodate my shoulder width and biceps . so i was leery the size 8 / italian 44 would fit , but it does , with room to spare , albeit it is not as loose or long in the ar\n",
      "True label: Jackets, but predict Tops, with confidence 0.9946\n",
      "------------------------------------------------------------\n",
      "Text: general . is this top orange or red . wish this site had \" ask a question about the product \" feature like amazon does . just wondering if anyone has seen this product in person to verify color ? it looks orange but descriptor says red . would appreciate feedback . thank you for your help .\n",
      "True label: Jackets, but predict Tops, with confidence 0.9944\n",
      "------------------------------------------------------------\n",
      "Text: general petite . . this is absolutely gorgeous cardigan ! the pictures don't do it justice ! it's comfortable and soft and very trendy at the same time ! i bought it in teal and in medium , i am 5 ' 3 \" and usually wear 10-12 ! even though i think it runs tts , but for more fitted look , medium fits better ! i am blond and this color looks great ! i also loved it when unzipped the upper part , it looked even better ! it is perfect with leggings in grey , blue , green and black , also beautiful with aqua flora leggings and with re\n",
      "True label: Intimate, but predict Tops, with confidence 0.9944\n",
      "------------------------------------------------------------\n",
      "Text: general petite . sweet top . i love this top . i had no issues with fabric . it is soft and light . the wrist details are very pretty . i love the buttons . it fits true to size and it is a good layering top . i got the red which is true to the picture . not looking red but a bright coral color .\n",
      "True label: Intimate, but predict Tops, with confidence 0.9944\n",
      "------------------------------------------------------------\n"
     ]
    }
   ],
   "source": [
    "evaluate_classification_model(df_val,text_name='Review Text',\n",
    "                              label_name='Department Name',\n",
    "                              pred_name='pred_Department Name',\n",
    "                              prob_name='pred_prob_Department Name',\n",
    "                              metric_funcs=metric_funcs,\n",
    "                              metadatas='Division Name',\n",
    "                              cm_figsize=(8,8),\n",
    "                              n_show=5\n",
    "                             )"
   ]
  },
  {
   "cell_type": "code",
   "execution_count": null,
   "metadata": {},
   "outputs": [],
   "source": [
    "#| hide\n",
    "import nbdev; nbdev.nbdev_export()"
   ]
  }
 ],
 "metadata": {
  "kernelspec": {
   "display_name": "python3",
   "language": "python",
   "name": "python3"
  }
 },
 "nbformat": 4,
 "nbformat_minor": 4
}

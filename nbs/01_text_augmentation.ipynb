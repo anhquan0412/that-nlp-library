{
 "cells": [
  {
   "cell_type": "markdown",
   "metadata": {},
   "source": [
    "# Text Augmentation\n",
    "\n",
    "> This contains some text augmentation functionality. "
   ]
  },
  {
   "cell_type": "code",
   "execution_count": null,
   "metadata": {},
   "outputs": [],
   "source": [
    "#| default_exp text_augmentation"
   ]
  },
  {
   "cell_type": "code",
   "execution_count": null,
   "metadata": {},
   "outputs": [],
   "source": [
    "#| hide\n",
    "from nbdev.showdoc import *"
   ]
  },
  {
   "cell_type": "code",
   "execution_count": null,
   "metadata": {},
   "outputs": [],
   "source": [
    "#| export\n",
    "from __future__ import annotations\n",
    "import unidecode\n",
    "import random"
   ]
  },
  {
   "cell_type": "code",
   "execution_count": null,
   "metadata": {},
   "outputs": [],
   "source": [
    "#| export\n",
    "def remove_vnmese_accent(sentence:str, # Input sentence\n",
    "                         prob=1, # Probability that this function is applied to the text\n",
    "                        ):\n",
    "    \"Perform Vietnamese accent removal\"\n",
    "    return unidecode.unidecode(sentence) if random.random()<prob else sentence"
   ]
  },
  {
   "cell_type": "code",
   "execution_count": null,
   "metadata": {},
   "outputs": [
    {
     "data": {
      "text/markdown": [
       "---\n",
       "\n",
       "[source](https://github.com/anhquan0412/that-nlp-library/blob/main/that_nlp_library/text_augmentation.py#L12){target=\"_blank\" style=\"float:right; font-size:smaller\"}\n",
       "\n",
       "### remove_vnmese_accent\n",
       "\n",
       ">      remove_vnmese_accent (sentence:str, prob=1)\n",
       "\n",
       "Perform Vietnamese accent removal\n",
       "\n",
       "|    | **Type** | **Default** | **Details** |\n",
       "| -- | -------- | ----------- | ----------- |\n",
       "| sentence | str |  | Input sentence |\n",
       "| prob | int | 1 | Probability that this function is applied to the text |"
      ],
      "text/plain": [
       "---\n",
       "\n",
       "[source](https://github.com/anhquan0412/that-nlp-library/blob/main/that_nlp_library/text_augmentation.py#L12){target=\"_blank\" style=\"float:right; font-size:smaller\"}\n",
       "\n",
       "### remove_vnmese_accent\n",
       "\n",
       ">      remove_vnmese_accent (sentence:str, prob=1)\n",
       "\n",
       "Perform Vietnamese accent removal\n",
       "\n",
       "|    | **Type** | **Default** | **Details** |\n",
       "| -- | -------- | ----------- | ----------- |\n",
       "| sentence | str |  | Input sentence |\n",
       "| prob | int | 1 | Probability that this function is applied to the text |"
      ]
     },
     "execution_count": null,
     "metadata": {},
     "output_type": "execute_result"
    }
   ],
   "source": [
    "show_doc(remove_vnmese_accent)"
   ]
  },
  {
   "cell_type": "code",
   "execution_count": null,
   "metadata": {},
   "outputs": [],
   "source": [
    "inp = 'hội cư dân chung cư sen hồng - chung cư lotus sóng thần thủ đức'"
   ]
  },
  {
   "cell_type": "code",
   "execution_count": null,
   "metadata": {},
   "outputs": [
    {
     "data": {
      "text/plain": [
       "'hoi cu dan chung cu sen hong - chung cu lotus song than thu duc'"
      ]
     },
     "execution_count": null,
     "metadata": {},
     "output_type": "execute_result"
    }
   ],
   "source": [
    "remove_vnmese_accent(inp)"
   ]
  },
  {
   "cell_type": "code",
   "execution_count": null,
   "metadata": {},
   "outputs": [
    {
     "name": "stdout",
     "output_type": "stream",
     "text": [
      "hội cư dân chung cư sen hồng - chung cư lotus sóng thần thủ đức\n",
      "hoi cu dan chung cu sen hong - chung cu lotus song than thu duc\n",
      "hoi cu dan chung cu sen hong - chung cu lotus song than thu duc\n",
      "hội cư dân chung cư sen hồng - chung cư lotus sóng thần thủ đức\n",
      "hội cư dân chung cư sen hồng - chung cư lotus sóng thần thủ đức\n",
      "hội cư dân chung cư sen hồng - chung cư lotus sóng thần thủ đức\n",
      "hoi cu dan chung cu sen hong - chung cu lotus song than thu duc\n",
      "hoi cu dan chung cu sen hong - chung cu lotus song than thu duc\n",
      "hội cư dân chung cư sen hồng - chung cư lotus sóng thần thủ đức\n",
      "hội cư dân chung cư sen hồng - chung cư lotus sóng thần thủ đức\n"
     ]
    }
   ],
   "source": [
    "for i in range(10):\n",
    "    print(remove_vnmese_accent(inp,prob=0.5))"
   ]
  },
  {
   "cell_type": "code",
   "execution_count": null,
   "metadata": {},
   "outputs": [],
   "source": [
    "#| export\n",
    "def fill_mask_augmentation(sentence:str, # Input Sentence,\n",
    "                           fillmask_pipeline, # HuggingFace fill-mask pipeline\n",
    "                           prob=1, # Probability that this function is applied to the text\n",
    "                           random_top_k=1, # To select output randomly from top k mask filled\n",
    "                          ):\n",
    "    # References: https://huggingface.co/docs/datasets/v2.14.1/en/process#data-augmentation\n",
    "    if random.random()>=prob: return sentence\n",
    "    mask_token = fillmask_pipeline.tokenizer.mask_token\n",
    "    words = sentence.split(' ')\n",
    "    K = random.randint(1, len(words)-1)\n",
    "    masked_sentence = \" \".join(words[:K]  + [mask_token] + words[K+1:])\n",
    "    predictions = fillmask_pipeline(masked_sentence,top_k = random_top_k)\n",
    "    weights = [p['score'] for p in predictions]\n",
    "    sentences = [p['sequence'] for p in predictions]\n",
    "    return random.choices(sentences, weights = weights, k = 1)[0]\n",
    "    "
   ]
  },
  {
   "cell_type": "code",
   "execution_count": null,
   "metadata": {},
   "outputs": [
    {
     "data": {
      "text/markdown": [
       "---\n",
       "\n",
       "[source](https://github.com/anhquan0412/that-nlp-library/blob/main/that_nlp_library/text_augmentation.py#L19){target=\"_blank\" style=\"float:right; font-size:smaller\"}\n",
       "\n",
       "### fill_mask_augmentation\n",
       "\n",
       ">      fill_mask_augmentation (sentence:str, fillmask_pipeline, prob=1,\n",
       ">                              random_top_k=1)\n",
       "\n",
       "|    | **Type** | **Default** | **Details** |\n",
       "| -- | -------- | ----------- | ----------- |\n",
       "| sentence | str |  | Input Sentence, |\n",
       "| fillmask_pipeline |  |  | HuggingFace fill-mask pipeline |\n",
       "| prob | int | 1 | Probability that this function is applied to the text |\n",
       "| random_top_k | int | 1 | To select output randomly from top k mask filled |"
      ],
      "text/plain": [
       "---\n",
       "\n",
       "[source](https://github.com/anhquan0412/that-nlp-library/blob/main/that_nlp_library/text_augmentation.py#L19){target=\"_blank\" style=\"float:right; font-size:smaller\"}\n",
       "\n",
       "### fill_mask_augmentation\n",
       "\n",
       ">      fill_mask_augmentation (sentence:str, fillmask_pipeline, prob=1,\n",
       ">                              random_top_k=1)\n",
       "\n",
       "|    | **Type** | **Default** | **Details** |\n",
       "| -- | -------- | ----------- | ----------- |\n",
       "| sentence | str |  | Input Sentence, |\n",
       "| fillmask_pipeline |  |  | HuggingFace fill-mask pipeline |\n",
       "| prob | int | 1 | Probability that this function is applied to the text |\n",
       "| random_top_k | int | 1 | To select output randomly from top k mask filled |"
      ]
     },
     "execution_count": null,
     "metadata": {},
     "output_type": "execute_result"
    }
   ],
   "source": [
    "show_doc(fill_mask_augmentation)"
   ]
  },
  {
   "cell_type": "code",
   "execution_count": null,
   "metadata": {},
   "outputs": [],
   "source": [
    "from transformers import pipeline"
   ]
  },
  {
   "cell_type": "code",
   "execution_count": null,
   "metadata": {},
   "outputs": [],
   "source": [
    "from that_nlp_library.text_transformation import apply_vnmese_word_tokenize"
   ]
  },
  {
   "cell_type": "code",
   "execution_count": null,
   "metadata": {},
   "outputs": [
    {
     "name": "stderr",
     "output_type": "stream",
     "text": [
      "Special tokens have been added in the vocabulary, make sure the associated word embeddings are fine-tuned or trained.\n"
     ]
    }
   ],
   "source": [
    "fillmask = pipeline(\"fill-mask\", model='vinai/phobert-base')"
   ]
  },
  {
   "cell_type": "code",
   "execution_count": null,
   "metadata": {},
   "outputs": [
    {
     "name": "stdout",
     "output_type": "stream",
     "text": [
      "Tôi vào phòng và mở TV lên . Tìm đến bóng_đá là cách duy_nhất để tôi thư_giãn\n"
     ]
    }
   ],
   "source": [
    "inp='Tôi vào phòng và mở TV lên. Tìm đến bóng đá là cách duy nhất để tôi thư giãn'\n",
    "inp = apply_vnmese_word_tokenize(inp) # because we are using phobert\n",
    "print(inp)"
   ]
  },
  {
   "cell_type": "code",
   "execution_count": null,
   "metadata": {},
   "outputs": [],
   "source": [
    "random.seed(1)"
   ]
  },
  {
   "cell_type": "code",
   "execution_count": null,
   "metadata": {},
   "outputs": [
    {
     "name": "stdout",
     "output_type": "stream",
     "text": [
      "CPU times: user 957 ms, sys: 17.7 ms, total: 975 ms\n",
      "Wall time: 94.4 ms\n"
     ]
    },
    {
     "data": {
      "text/plain": [
       "'Tôi vào phòng và mở TV lên. Tìm đến bóng_đá là cách duy_nhất để tôi thư_giãn'"
      ]
     },
     "execution_count": null,
     "metadata": {},
     "output_type": "execute_result"
    }
   ],
   "source": [
    "%%time\n",
    "fill_mask_augmentation(inp,fillmask,random_top_k=1)"
   ]
  },
  {
   "cell_type": "code",
   "execution_count": null,
   "metadata": {},
   "outputs": [
    {
     "data": {
      "text/plain": [
       "'Tôi vào phòng và mở TV lên. Tìm đến bóng_đá là cách duy_nhất để bạn thư_giãn'"
      ]
     },
     "execution_count": null,
     "metadata": {},
     "output_type": "execute_result"
    }
   ],
   "source": [
    "fill_mask_augmentation(inp,fillmask,random_top_k=10)"
   ]
  },
  {
   "cell_type": "code",
   "execution_count": null,
   "metadata": {},
   "outputs": [],
   "source": []
  },
  {
   "cell_type": "code",
   "execution_count": null,
   "metadata": {},
   "outputs": [],
   "source": [
    "random.seed(1)"
   ]
  },
  {
   "cell_type": "code",
   "execution_count": null,
   "metadata": {},
   "outputs": [
    {
     "name": "stdout",
     "output_type": "stream",
     "text": [
      "Tôi vào phòng và mở TV lên. Tìm đến bóng_đá là cách duy_nhất để tôi thư_giãn\n",
      "Tôi vào phòng và mở TV lên. Tìm đến bóng_đá là cách duy_nhất để bạn thư_giãn\n",
      "Tôi vào phòng và mở TV lên Tìm đến bóng_đá là cách duy_nhất để tôi thư_giãn\n",
      "Tôi vào phòng và mở TV lên. Tìm đến bóng_đá là cách duy_nhất để tôi thư_giãn\n",
      "Tôi vào phòng và mở TV lên. Tìm đến bóng_đá là cách duy_nhất để tôi thư_giãn\n",
      "Tôi vào phòng và mở TV lên. quan_tâm đến bóng_đá là cách duy_nhất để tôi thư_giãn\n",
      "Tôi vào phòng và mở TV lên. Tìm đến bóng_đá là cách duy_nhất để tôi thư_giãn\n",
      "Tôi về phòng và mở TV lên. Tìm đến bóng_đá là cách duy_nhất để tôi thư_giãn\n",
      "Tôi vào phòng và mở TV lên xem Tìm đến bóng_đá là cách duy_nhất để tôi thư_giãn\n",
      "Tôi vào phòng và mở TV lên. liên_quan đến bóng_đá là cách duy_nhất để tôi thư_giãn\n"
     ]
    }
   ],
   "source": [
    "for i in range(10):\n",
    "    print(fill_mask_augmentation(inp,fillmask,random_top_k=5,prob=1))"
   ]
  },
  {
   "cell_type": "code",
   "execution_count": null,
   "metadata": {},
   "outputs": [
    {
     "name": "stderr",
     "output_type": "stream",
     "text": [
      "/home/quan/anaconda3/envs/fastai_v2/lib/python3.10/site-packages/nbdev/export.py:54: UserWarning: Notebook '/home/quan/kwon/that-nlp-library/nbs/00_text_main.ipynb' uses `#|export` without `#|default_exp` cell.\n",
      "Note nbdev2 no longer supports nbdev1 syntax. Run `nbdev_migrate` to upgrade.\n",
      "See https://nbdev.fast.ai/getting_started.html for more information.\n",
      "  warn(f\"Notebook '{nbname}' uses `#|export` without `#|default_exp` cell.\\n\"\n"
     ]
    }
   ],
   "source": [
    "#| hide\n",
    "import nbdev; nbdev.nbdev_export()"
   ]
  }
 ],
 "metadata": {
  "kernelspec": {
   "display_name": "python3",
   "language": "python",
   "name": "python3"
  }
 },
 "nbformat": 4,
 "nbformat_minor": 4
}

{
 "cells": [
  {
   "cell_type": "markdown",
   "metadata": {},
   "source": [
    "# Text Transformation\n",
    "\n",
    "> This contains some text transformation functionality"
   ]
  },
  {
   "cell_type": "code",
   "execution_count": null,
   "metadata": {},
   "outputs": [],
   "source": [
    "#| default_exp text_transformation"
   ]
  },
  {
   "cell_type": "code",
   "execution_count": null,
   "metadata": {},
   "outputs": [],
   "source": [
    "#| hide\n",
    "from nbdev.showdoc import *"
   ]
  },
  {
   "cell_type": "code",
   "execution_count": null,
   "metadata": {},
   "outputs": [],
   "source": [
    "#| export\n",
    "from __future__ import annotations\n",
    "from underthesea import word_tokenize, sent_tokenize, text_normalize"
   ]
  },
  {
   "cell_type": "code",
   "execution_count": null,
   "metadata": {},
   "outputs": [],
   "source": [
    "#| export\n",
    "def apply_vnmese_word_tokenize(sentence:str, # Input sentence\n",
    "                        normalize_text=False, # To 'normalize' the text before tokenization\n",
    "                        fixed_words=[]\n",
    "                       ):\n",
    "    \"Applying UnderTheSea Vietnamese word tokenization\"\n",
    "    if normalize_text:\n",
    "        sentence = text_normalize(sentence)\n",
    "    sens = sent_tokenize(sentence)\n",
    "\n",
    "    tokenized_sen = []\n",
    "    for sen in sens:\n",
    "        tokenized_sen.append(word_tokenize(sen,format='text',fixed_words=fixed_words))\n",
    "    return ' '.join(tokenized_sen)"
   ]
  },
  {
   "cell_type": "code",
   "execution_count": null,
   "metadata": {},
   "outputs": [
    {
     "data": {
      "text/markdown": [
       "---\n",
       "\n",
       "[source](https://github.com/anhquan0412/that-nlp-library/blob/main/that_nlp_library/text_transformation.py#L11){target=\"_blank\" style=\"float:right; font-size:smaller\"}\n",
       "\n",
       "### apply_vnmese_word_tokenize\n",
       "\n",
       ">      apply_vnmese_word_tokenize (sentence:str, normalize_text=False,\n",
       ">                                  fixed_words=[])\n",
       "\n",
       "Applying UnderTheSea Vietnamese word tokenization\n",
       "\n",
       "|    | **Type** | **Default** | **Details** |\n",
       "| -- | -------- | ----------- | ----------- |\n",
       "| sentence | str |  | Input sentence |\n",
       "| normalize_text | bool | False | To 'normalize' the text before tokenization |\n",
       "| fixed_words | list | [] |  |"
      ],
      "text/plain": [
       "---\n",
       "\n",
       "[source](https://github.com/anhquan0412/that-nlp-library/blob/main/that_nlp_library/text_transformation.py#L11){target=\"_blank\" style=\"float:right; font-size:smaller\"}\n",
       "\n",
       "### apply_vnmese_word_tokenize\n",
       "\n",
       ">      apply_vnmese_word_tokenize (sentence:str, normalize_text=False,\n",
       ">                                  fixed_words=[])\n",
       "\n",
       "Applying UnderTheSea Vietnamese word tokenization\n",
       "\n",
       "|    | **Type** | **Default** | **Details** |\n",
       "| -- | -------- | ----------- | ----------- |\n",
       "| sentence | str |  | Input sentence |\n",
       "| normalize_text | bool | False | To 'normalize' the text before tokenization |\n",
       "| fixed_words | list | [] |  |"
      ]
     },
     "execution_count": null,
     "metadata": {},
     "output_type": "execute_result"
    }
   ],
   "source": [
    "show_doc(apply_vnmese_word_tokenize)"
   ]
  },
  {
   "cell_type": "markdown",
   "metadata": {},
   "source": [
    "For non-Vietnamese word, it's a hit-or-miss since UnderTheSea works best for Vietnamese sentences"
   ]
  },
  {
   "cell_type": "code",
   "execution_count": null,
   "metadata": {},
   "outputs": [
    {
     "data": {
      "text/plain": [
       "'This is a_cat . New_York city . San_Francisco . New_York and_San_Francisco Bay area . George Bush , Barrack Obama'"
      ]
     },
     "execution_count": null,
     "metadata": {},
     "output_type": "execute_result"
    }
   ],
   "source": [
    "text = 'This is a cat. New York city. San Francisco. New York and San Francisco Bay area. George Bush, Barrack Obama'\n",
    "apply_vnmese_word_tokenize(text)"
   ]
  },
  {
   "cell_type": "markdown",
   "metadata": {},
   "source": [
    "Here's an example on a clean Vietnamese sentence"
   ]
  },
  {
   "cell_type": "code",
   "execution_count": null,
   "metadata": {},
   "outputs": [
    {
     "data": {
      "text/plain": [
       "'Chàng trai 9X Quảng_Trị khởi_nghiệp từ nấm sò'"
      ]
     },
     "execution_count": null,
     "metadata": {},
     "output_type": "execute_result"
    }
   ],
   "source": [
    "text = 'Chàng trai 9X Quảng Trị khởi nghiệp từ nấm sò'\n",
    "apply_vnmese_word_tokenize(text)"
   ]
  },
  {
   "cell_type": "markdown",
   "metadata": {},
   "source": [
    "What if the sentence is not cleaned?"
   ]
  },
  {
   "cell_type": "code",
   "execution_count": null,
   "metadata": {},
   "outputs": [],
   "source": [
    "text = \"Chàng trai 9X Quảng Trị khởi nghiệp từ nấm sò.Anh ấy không nuôi   nấm😊. nhưng anh này nuôi. Chị ấy lại không nuôi?(ai biết tại sao 😊😊? )Rồi? Rồi sao?rồi ?Rồi ủa...chứ chị ấy nuôi gì, #mộthaiba cũng không rõ =)) 😊. Haha :) 😊 hehe 😊.\""
   ]
  },
  {
   "cell_type": "code",
   "execution_count": null,
   "metadata": {},
   "outputs": [
    {
     "data": {
      "text/plain": [
       "'Chàng trai 9X Quảng_Trị khởi_nghiệp từ nấm sò . Anh ấy không nuôi nấm 😊 . nhưng anh này nuôi . Chị ấy lại không nuôi ? ( ai biết tại_sao 😊_😊 ? ) Rồi ? Rồi sao ? rồi ? Rồi ủa ... chứ chị ấy nuôi gì , #_mộthaiba cũng không rõ =))_😊 . Haha :) 😊 hehe 😊 .'"
      ]
     },
     "execution_count": null,
     "metadata": {},
     "output_type": "execute_result"
    }
   ],
   "source": [
    "apply_vnmese_word_tokenize(text)"
   ]
  },
  {
   "cell_type": "markdown",
   "metadata": {},
   "source": [
    "We need to normalize the text"
   ]
  },
  {
   "cell_type": "code",
   "execution_count": null,
   "metadata": {},
   "outputs": [
    {
     "data": {
      "text/plain": [
       "'Chàng trai 9X Quảng_Trị khởi_nghiệp từ nấm sò . Anh ấy không nuôi nấm 😊 . nhưng anh này nuôi . Chị ấy lại không nuôi ? ( ai biết tại_sao 😊_😊 ? ) Rồi ? Rồi sao ? rồi ? Rồi ủa ... chứ chị ấy nuôi gì , #_mộthaiba cũng không rõ =))_😊 . Haha :) 😊 hehe 😊 .'"
      ]
     },
     "execution_count": null,
     "metadata": {},
     "output_type": "execute_result"
    }
   ],
   "source": [
    "apply_vnmese_word_tokenize(text,normalize_text=True)"
   ]
  },
  {
   "cell_type": "markdown",
   "metadata": {},
   "source": [
    "We can add a list of specific words to tokenize"
   ]
  },
  {
   "cell_type": "code",
   "execution_count": null,
   "metadata": {},
   "outputs": [
    {
     "data": {
      "text/plain": [
       "'Viện Nghiên_Cứu chiến_lược quốc_gia về học máy'"
      ]
     },
     "execution_count": null,
     "metadata": {},
     "output_type": "execute_result"
    }
   ],
   "source": [
    "text = \"Viện Nghiên Cứu chiến lược quốc gia về học máy\"\n",
    "apply_vnmese_word_tokenize(text)"
   ]
  },
  {
   "cell_type": "code",
   "execution_count": null,
   "metadata": {},
   "outputs": [
    {
     "data": {
      "text/plain": [
       "'Viện_Nghiên_Cứu chiến_lược quốc_gia về học_máy'"
      ]
     },
     "execution_count": null,
     "metadata": {},
     "output_type": "execute_result"
    }
   ],
   "source": [
    "apply_vnmese_word_tokenize(text,fixed_words=[\"Viện Nghiên Cứu\", \"học máy\"])"
   ]
  },
  {
   "cell_type": "code",
   "execution_count": null,
   "metadata": {},
   "outputs": [],
   "source": [
    "#| hide\n",
    "import nbdev; nbdev.nbdev_export()"
   ]
  }
 ],
 "metadata": {
  "kernelspec": {
   "display_name": "python3",
   "language": "python",
   "name": "python3"
  }
 },
 "nbformat": 4,
 "nbformat_minor": 4
}

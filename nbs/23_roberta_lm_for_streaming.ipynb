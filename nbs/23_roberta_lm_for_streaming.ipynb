{
 "cells": [
  {
   "cell_type": "markdown",
   "metadata": {},
   "source": [
    "# Roberta Language Model for a streamed dataset\n",
    "\n",
    "> This notebook contains an end-to-end process of preprocess + tokenizing your streamed dataset, and build language models based on Roberta architecture\n",
    "\n",
    "- skip_showdoc: true\n",
    "- skip_exec: true"
   ]
  },
  {
   "cell_type": "code",
   "execution_count": null,
   "metadata": {},
   "outputs": [],
   "source": [
    "%reload_ext autoreload\n",
    "%autoreload 2"
   ]
  },
  {
   "cell_type": "code",
   "execution_count": null,
   "metadata": {},
   "outputs": [],
   "source": [
    "#| hide\n",
    "from nbdev.showdoc import *"
   ]
  },
  {
   "cell_type": "code",
   "execution_count": null,
   "metadata": {},
   "outputs": [],
   "source": [
    "import os"
   ]
  },
  {
   "cell_type": "code",
   "execution_count": null,
   "metadata": {},
   "outputs": [],
   "source": [
    "#This will specify a (or a list) of GPUs for training\n",
    "os.environ['CUDA_VISIBLE_DEVICES'] = \"0\""
   ]
  },
  {
   "cell_type": "code",
   "execution_count": null,
   "metadata": {},
   "outputs": [],
   "source": [
    "from that_nlp_library.text_transformation import *\n",
    "from that_nlp_library.text_augmentation import *\n",
    "from that_nlp_library.text_main_lm_streaming import *\n",
    "from that_nlp_library.utils import seed_everything\n",
    "from that_nlp_library.model_lm_main import *"
   ]
  },
  {
   "cell_type": "code",
   "execution_count": null,
   "metadata": {},
   "outputs": [],
   "source": [
    "from underthesea import text_normalize\n",
    "from functools import partial\n",
    "from pathlib import Path\n",
    "from transformers import AutoTokenizer, AutoConfig, AutoModelForMaskedLM\n",
    "from datasets import load_dataset\n",
    "import pandas as pd\n",
    "import numpy as np\n",
    "from transformers import DataCollatorForLanguageModeling"
   ]
  },
  {
   "cell_type": "markdown",
   "metadata": {},
   "source": [
    "# Finetune a Roberta Language Model (with line-by-line tokenization)"
   ]
  },
  {
   "cell_type": "markdown",
   "metadata": {},
   "source": [
    "## Create a TextDataLMController object"
   ]
  },
  {
   "cell_type": "markdown",
   "metadata": {},
   "source": [
    "We will reuse the data and the preprocessings in [this tutorial](https://anhquan0412.github.io/that-nlp-library/text_main_lm_streaming.html) "
   ]
  },
  {
   "cell_type": "code",
   "execution_count": null,
   "metadata": {},
   "outputs": [],
   "source": [
    "dset = load_dataset('sample_data',data_files=['Womens_Clothing_Reviews.csv'],split='train')\n",
    "ddict_with_val = dset.train_test_split(test_size=0.1,seed=42)\n",
    "ddict_with_val['validation'] = ddict_with_val['test']\n",
    "ddict_with_val['train'] = ddict_with_val['train'].to_iterable_dataset()\n",
    "del ddict_with_val['test']"
   ]
  },
  {
   "cell_type": "code",
   "execution_count": null,
   "metadata": {},
   "outputs": [],
   "source": [
    "tdc = TextDataLMControllerStreaming(ddict_with_val,\n",
    "                                    main_text='Review Text',\n",
    "                                    filter_dict={'Review Text': lambda x: x is not None},\n",
    "                                    metadatas=['Title','Division Name'],\n",
    "                                    content_transformations=[text_normalize,str.lower],\n",
    "                                    cols_to_keep=['Clothing ID','Review Text'],\n",
    "                                    seed=42,\n",
    "                                    batch_size=1024,\n",
    "                                    verbose=False\n",
    "                                    )"
   ]
  },
  {
   "cell_type": "markdown",
   "metadata": {},
   "source": [
    "Define our tokenizer for Roberta"
   ]
  },
  {
   "cell_type": "code",
   "execution_count": null,
   "metadata": {},
   "outputs": [
    {
     "name": "stderr",
     "output_type": "stream",
     "text": [
      "/home/quan/anaconda3/envs/nlp_dev/lib/python3.10/site-packages/huggingface_hub/file_download.py:1132: FutureWarning: `resume_download` is deprecated and will be removed in version 1.0.0. Downloads always resume when possible. If you want to force a new download, use `force_download=True`.\n",
      "  warnings.warn(\n"
     ]
    }
   ],
   "source": [
    "_tokenizer = AutoTokenizer.from_pretrained('roberta-base')"
   ]
  },
  {
   "cell_type": "markdown",
   "metadata": {},
   "source": [
    "Process and tokenize our dataset (using line-by-line tokenization)"
   ]
  },
  {
   "cell_type": "code",
   "execution_count": null,
   "metadata": {},
   "outputs": [],
   "source": [
    "tdc.process_and_tokenize(_tokenizer,line_by_line=True,max_length=-1) "
   ]
  },
  {
   "cell_type": "code",
   "execution_count": null,
   "metadata": {},
   "outputs": [
    {
     "data": {
      "text/plain": [
       "DatasetDict({\n",
       "    train: IterableDataset({\n",
       "        features: Unknown,\n",
       "        n_shards: 1\n",
       "    })\n",
       "    validation: Dataset({\n",
       "        features: ['Clothing ID', 'Review Text', 'input_ids', 'attention_mask', 'special_tokens_mask'],\n",
       "        num_rows: 2253\n",
       "    })\n",
       "})"
      ]
     },
     "execution_count": null,
     "metadata": {},
     "output_type": "execute_result"
    }
   ],
   "source": [
    "tdc.main_ddict"
   ]
  },
  {
   "cell_type": "markdown",
   "metadata": {},
   "source": [
    "And set the data collator"
   ]
  },
  {
   "cell_type": "code",
   "execution_count": null,
   "metadata": {},
   "outputs": [],
   "source": [
    "tdc.set_data_collator(is_mlm=True,mlm_prob=0.15)"
   ]
  },
  {
   "cell_type": "markdown",
   "metadata": {},
   "source": [
    "## Initialize and train Roberta Language Model"
   ]
  },
  {
   "cell_type": "code",
   "execution_count": null,
   "metadata": {},
   "outputs": [
    {
     "data": {
      "text/plain": [
       "RobertaConfig {\n",
       "  \"_name_or_path\": \"roberta-base\",\n",
       "  \"architectures\": [\n",
       "    \"RobertaForMaskedLM\"\n",
       "  ],\n",
       "  \"attention_probs_dropout_prob\": 0.1,\n",
       "  \"bos_token_id\": 0,\n",
       "  \"classifier_dropout\": null,\n",
       "  \"eos_token_id\": 2,\n",
       "  \"hidden_act\": \"gelu\",\n",
       "  \"hidden_dropout_prob\": 0.1,\n",
       "  \"hidden_size\": 768,\n",
       "  \"initializer_range\": 0.02,\n",
       "  \"intermediate_size\": 3072,\n",
       "  \"layer_norm_eps\": 1e-05,\n",
       "  \"max_position_embeddings\": 514,\n",
       "  \"model_type\": \"roberta\",\n",
       "  \"num_attention_heads\": 12,\n",
       "  \"num_hidden_layers\": 12,\n",
       "  \"pad_token_id\": 1,\n",
       "  \"position_embedding_type\": \"absolute\",\n",
       "  \"transformers_version\": \"4.40.1\",\n",
       "  \"type_vocab_size\": 1,\n",
       "  \"use_cache\": true,\n",
       "  \"vocab_size\": 50265\n",
       "}"
      ]
     },
     "execution_count": null,
     "metadata": {},
     "output_type": "execute_result"
    }
   ],
   "source": [
    "_config = AutoConfig.from_pretrained('roberta-base',\n",
    "                                    vocab_size=len(_tokenizer))\n",
    "_config"
   ]
  },
  {
   "cell_type": "code",
   "execution_count": null,
   "metadata": {},
   "outputs": [
    {
     "name": "stdout",
     "output_type": "stream",
     "text": [
      "Total parameters: 124697433\n",
      "Total trainable parameters: 124697433\n"
     ]
    }
   ],
   "source": [
    "_model = language_model_init(AutoModelForMaskedLM,\n",
    "                             config=_config,\n",
    "                             cpoint_path='roberta-base',\n",
    "                             seed=42\n",
    "                            )"
   ]
  },
  {
   "cell_type": "markdown",
   "metadata": {},
   "source": [
    "Create a model controller"
   ]
  },
  {
   "cell_type": "code",
   "execution_count": null,
   "metadata": {},
   "outputs": [],
   "source": [
    "controller = ModelLMController(_model,data_store=tdc,seed=42)"
   ]
  },
  {
   "cell_type": "markdown",
   "metadata": {},
   "source": [
    "And we can start training our model"
   ]
  },
  {
   "cell_type": "code",
   "execution_count": null,
   "metadata": {},
   "outputs": [
    {
     "name": "stderr",
     "output_type": "stream",
     "text": [
      "max_steps is given, it will override any value given in num_train_epochs\n"
     ]
    },
    {
     "data": {
      "text/html": [
       "\n",
       "    <div>\n",
       "      \n",
       "      <progress value='1248' max='1248' style='width:300px; height:20px; vertical-align: middle;'></progress>\n",
       "      [1248/1248 07:23, Epoch 3/9223372036854775807]\n",
       "    </div>\n",
       "    <table border=\"1\" class=\"dataframe\">\n",
       "  <thead>\n",
       " <tr style=\"text-align: left;\">\n",
       "      <th>Epoch</th>\n",
       "      <th>Training Loss</th>\n",
       "      <th>Validation Loss</th>\n",
       "      <th>Accuracy</th>\n",
       "    </tr>\n",
       "  </thead>\n",
       "  <tbody>\n",
       "    <tr>\n",
       "      <td>0</td>\n",
       "      <td>No log</td>\n",
       "      <td>1.511546</td>\n",
       "      <td>0.663742</td>\n",
       "    </tr>\n",
       "    <tr>\n",
       "      <td>1</td>\n",
       "      <td>1.651100</td>\n",
       "      <td>1.410441</td>\n",
       "      <td>0.676708</td>\n",
       "    </tr>\n",
       "    <tr>\n",
       "      <td>2</td>\n",
       "      <td>1.651100</td>\n",
       "      <td>1.279535</td>\n",
       "      <td>0.697920</td>\n",
       "    </tr>\n",
       "    <tr>\n",
       "      <td>3</td>\n",
       "      <td>1.651100</td>\n",
       "      <td>1.264103</td>\n",
       "      <td>0.696687</td>\n",
       "    </tr>\n",
       "  </tbody>\n",
       "</table><p>"
      ],
      "text/plain": [
       "<IPython.core.display.HTML object>"
      ]
     },
     "metadata": {},
     "output_type": "display_data"
    },
    {
     "data": {
      "text/html": [
       "\n",
       "    <div>\n",
       "      \n",
       "      <progress value='71' max='71' style='width:300px; height:20px; vertical-align: middle;'></progress>\n",
       "      [71/71 00:04]\n",
       "    </div>\n",
       "    "
      ],
      "text/plain": [
       "<IPython.core.display.HTML object>"
      ]
     },
     "metadata": {},
     "output_type": "display_data"
    },
    {
     "name": "stdout",
     "output_type": "stream",
     "text": [
      "Perplexity on validation set: 3.589\n"
     ]
    }
   ],
   "source": [
    "lr = 1e-4\n",
    "bs=32\n",
    "wd=0.01\n",
    "epochs= 4\n",
    "warmup_ratio=0.25\n",
    "controller.fit(epochs,lr,\n",
    "               batch_size=bs,\n",
    "               weight_decay=wd,\n",
    "               warmup_ratio=warmup_ratio,\n",
    "               save_checkpoint=False,\n",
    "               len_train=20000 # estimation of number of samples in train set\n",
    "              )"
   ]
  },
  {
   "cell_type": "markdown",
   "metadata": {},
   "source": [
    "Finetuning from a pretrained model results in a massive improvement in terms of metrics"
   ]
  },
  {
   "cell_type": "code",
   "execution_count": null,
   "metadata": {},
   "outputs": [],
   "source": [
    "controller.trainer.model.save_pretrained('./sample_weights/lm_model')"
   ]
  },
  {
   "cell_type": "markdown",
   "metadata": {},
   "source": [
    "## Fill mask using model"
   ]
  },
  {
   "cell_type": "code",
   "execution_count": null,
   "metadata": {},
   "outputs": [
    {
     "name": "stdout",
     "output_type": "stream",
     "text": [
      "Total parameters: 124697433\n",
      "Total trainable parameters: 124697433\n"
     ]
    }
   ],
   "source": [
    "trained_model = language_model_init(AutoModelForMaskedLM,\n",
    "                                    cpoint_path='./sample_weights/lm_model',\n",
    "                                   )"
   ]
  },
  {
   "cell_type": "code",
   "execution_count": null,
   "metadata": {},
   "outputs": [],
   "source": [
    "controller2 = ModelLMController(trained_model,data_store=tdc,seed=42)"
   ]
  },
  {
   "cell_type": "code",
   "execution_count": null,
   "metadata": {},
   "outputs": [
    {
     "data": {
      "text/plain": [
       "'<mask>'"
      ]
     },
     "execution_count": null,
     "metadata": {},
     "output_type": "execute_result"
    }
   ],
   "source": [
    "controller2.data_store.tokenizer.mask_token"
   ]
  },
  {
   "cell_type": "code",
   "execution_count": null,
   "metadata": {},
   "outputs": [],
   "source": [
    "inp1 = {'Clothing ID':1,\n",
    "        'Title':'Flattering',\n",
    "        'Division Name':'General',\n",
    "        'Review Text': \"Love this <mask>. The detail is amazing. Runs small I ordered a 12 I'm usually a 10, but still a little snug\"\n",
    "       }"
   ]
  },
  {
   "cell_type": "code",
   "execution_count": null,
   "metadata": {},
   "outputs": [
    {
     "name": "stdout",
     "output_type": "stream",
     "text": [
      "Score: 0.371 >>> general. flattering. love this top. the detail is amazing. runs small i ordered a 12 i'm usually a 10, but still a little snug\n",
      "Score: 0.281 >>> general. flattering. love this dress. the detail is amazing. runs small i ordered a 12 i'm usually a 10, but still a little snug\n",
      "Score: 0.119 >>> general. flattering. love this shirt. the detail is amazing. runs small i ordered a 12 i'm usually a 10, but still a little snug\n",
      "Score: 0.066 >>> general. flattering. love this skirt. the detail is amazing. runs small i ordered a 12 i'm usually a 10, but still a little snug\n",
      "Score: 0.052 >>> general. flattering. love this sweater. the detail is amazing. runs small i ordered a 12 i'm usually a 10, but still a little snug\n",
      "--------------------\n"
     ]
    }
   ],
   "source": [
    "controller2.predict_raw_text(inp1,print_result=True)"
   ]
  },
  {
   "cell_type": "markdown",
   "metadata": {},
   "source": [
    "You can input several raw texts"
   ]
  },
  {
   "cell_type": "code",
   "execution_count": null,
   "metadata": {},
   "outputs": [],
   "source": [
    "inp2 = {'Clothing ID':[1,2],\n",
    "        'Title':['Flattering','Lovely, but small'],\n",
    "        'Division Name':['General','General'],\n",
    "        'Review Text': [\"Love this <mask>. The detail is amazing. Runs small I ordered a 12 I'm usually a 10, but still a little snug\",\n",
    "                        \"Love this skirt. The detail is amazing. Runs <mask>, I ordered a 12 I'm usually a 10, but still a little snug\"]\n",
    "       }"
   ]
  },
  {
   "cell_type": "code",
   "execution_count": null,
   "metadata": {},
   "outputs": [
    {
     "name": "stdout",
     "output_type": "stream",
     "text": [
      "Score: 0.371 >>> general. flattering. love this top. the detail is amazing. runs small i ordered a 12 i'm usually a 10, but still a little snug\n",
      "Score: 0.281 >>> general. flattering. love this dress. the detail is amazing. runs small i ordered a 12 i'm usually a 10, but still a little snug\n",
      "Score: 0.119 >>> general. flattering. love this shirt. the detail is amazing. runs small i ordered a 12 i'm usually a 10, but still a little snug\n",
      "Score: 0.066 >>> general. flattering. love this skirt. the detail is amazing. runs small i ordered a 12 i'm usually a 10, but still a little snug\n",
      "Score: 0.052 >>> general. flattering. love this sweater. the detail is amazing. runs small i ordered a 12 i'm usually a 10, but still a little snug\n",
      "--------------------\n",
      "Score: 0.933 >>> general. lovely, but small. love this skirt. the detail is amazing. runs small, i ordered a 12 i'm usually a 10, but still a little snug\n",
      "Score: 0.033 >>> general. lovely, but small. love this skirt. the detail is amazing. runs large, i ordered a 12 i'm usually a 10, but still a little snug\n",
      "Score: 0.009 >>> general. lovely, but small. love this skirt. the detail is amazing. runs big, i ordered a 12 i'm usually a 10, but still a little snug\n",
      "Score: 0.006 >>> general. lovely, but small. love this skirt. the detail is amazing. runs short, i ordered a 12 i'm usually a 10, but still a little snug\n",
      "Score: 0.004 >>> general. lovely, but small. love this skirt. the detail is amazing. runs smaller, i ordered a 12 i'm usually a 10, but still a little snug\n",
      "--------------------\n"
     ]
    }
   ],
   "source": [
    "controller2.predict_raw_text(inp2,print_result=True)"
   ]
  },
  {
   "cell_type": "code",
   "execution_count": null,
   "metadata": {},
   "outputs": [
    {
     "data": {
      "text/plain": [
       "[[{'score': 0.3714928925037384,\n",
       "   'token': 299,\n",
       "   'token_str': ' top',\n",
       "   'sequence': \"general. flattering. love this top. the detail is amazing. runs small i ordered a 12 i'm usually a 10, but still a little snug\"},\n",
       "  {'score': 0.28066369891166687,\n",
       "   'token': 3588,\n",
       "   'token_str': ' dress',\n",
       "   'sequence': \"general. flattering. love this dress. the detail is amazing. runs small i ordered a 12 i'm usually a 10, but still a little snug\"},\n",
       "  {'score': 0.11859548091888428,\n",
       "   'token': 6399,\n",
       "   'token_str': ' shirt',\n",
       "   'sequence': \"general. flattering. love this shirt. the detail is amazing. runs small i ordered a 12 i'm usually a 10, but still a little snug\"},\n",
       "  {'score': 0.06550988554954529,\n",
       "   'token': 16576,\n",
       "   'token_str': ' skirt',\n",
       "   'sequence': \"general. flattering. love this skirt. the detail is amazing. runs small i ordered a 12 i'm usually a 10, but still a little snug\"},\n",
       "  {'score': 0.05240405723452568,\n",
       "   'token': 23204,\n",
       "   'token_str': ' sweater',\n",
       "   'sequence': \"general. flattering. love this sweater. the detail is amazing. runs small i ordered a 12 i'm usually a 10, but still a little snug\"}],\n",
       " [{'score': 0.9333353638648987,\n",
       "   'token': 650,\n",
       "   'token_str': ' small',\n",
       "   'sequence': \"general. lovely, but small. love this skirt. the detail is amazing. runs small, i ordered a 12 i'm usually a 10, but still a little snug\"},\n",
       "  {'score': 0.0329098179936409,\n",
       "   'token': 739,\n",
       "   'token_str': ' large',\n",
       "   'sequence': \"general. lovely, but small. love this skirt. the detail is amazing. runs large, i ordered a 12 i'm usually a 10, but still a little snug\"},\n",
       "  {'score': 0.00943901389837265,\n",
       "   'token': 380,\n",
       "   'token_str': ' big',\n",
       "   'sequence': \"general. lovely, but small. love this skirt. the detail is amazing. runs big, i ordered a 12 i'm usually a 10, but still a little snug\"},\n",
       "  {'score': 0.006075778976082802,\n",
       "   'token': 765,\n",
       "   'token_str': ' short',\n",
       "   'sequence': \"general. lovely, but small. love this skirt. the detail is amazing. runs short, i ordered a 12 i'm usually a 10, but still a little snug\"},\n",
       "  {'score': 0.003932583145797253,\n",
       "   'token': 2735,\n",
       "   'token_str': ' smaller',\n",
       "   'sequence': \"general. lovely, but small. love this skirt. the detail is amazing. runs smaller, i ordered a 12 i'm usually a 10, but still a little snug\"}]]"
      ]
     },
     "execution_count": null,
     "metadata": {},
     "output_type": "execute_result"
    }
   ],
   "source": [
    "controller2.predict_raw_text(inp2,print_result=False)"
   ]
  },
  {
   "cell_type": "markdown",
   "metadata": {},
   "source": [
    "## Extract hidden states from model"
   ]
  },
  {
   "cell_type": "markdown",
   "metadata": {},
   "source": [
    "### From raw texts"
   ]
  },
  {
   "cell_type": "code",
   "execution_count": null,
   "metadata": {},
   "outputs": [],
   "source": [
    "inp1 = {'Clothing ID':1,\n",
    "        'Title':'Flattering',\n",
    "        'Division Name': 'General',\n",
    "        'Review Text': \"Love this skirt. The detail is amazing. Runs small I ordered a 12 I'm usually a 10, but still a little snug\"\n",
    "       }"
   ]
  },
  {
   "cell_type": "code",
   "execution_count": null,
   "metadata": {},
   "outputs": [],
   "source": [
    "_config = AutoConfig.from_pretrained('./sample_weights/lm_model',output_hidden_states=True)"
   ]
  },
  {
   "cell_type": "code",
   "execution_count": null,
   "metadata": {},
   "outputs": [
    {
     "name": "stdout",
     "output_type": "stream",
     "text": [
      "Total parameters: 124697433\n",
      "Total trainable parameters: 124697433\n"
     ]
    }
   ],
   "source": [
    "trained_model = language_model_init(AutoModelForMaskedLM,\n",
    "                                    cpoint_path='./sample_weights/lm_model',\n",
    "                                    config=_config\n",
    "                                   )\n",
    "\n",
    "controller2 = ModelLMController(trained_model,data_store=tdc,seed=42)"
   ]
  },
  {
   "cell_type": "code",
   "execution_count": null,
   "metadata": {},
   "outputs": [],
   "source": [
    "hidden_from_ip1 = controller2.get_hidden_states_from_raw_text(inp1,\n",
    "                                                              state_name='hidden_states',\n",
    "                                                              state_idx=[-1,0]\n",
    "                                                             )"
   ]
  },
  {
   "cell_type": "code",
   "execution_count": null,
   "metadata": {},
   "outputs": [
    {
     "data": {
      "text/plain": [
       "Dataset({\n",
       "    features: ['Clothing ID', 'Review Text', 'input_ids', 'attention_mask', 'special_tokens_mask', 'hidden_states'],\n",
       "    num_rows: 1\n",
       "})"
      ]
     },
     "execution_count": null,
     "metadata": {},
     "output_type": "execute_result"
    }
   ],
   "source": [
    "hidden_from_ip1"
   ]
  },
  {
   "cell_type": "code",
   "execution_count": null,
   "metadata": {},
   "outputs": [
    {
     "data": {
      "text/plain": [
       "(1, 768)"
      ]
     },
     "execution_count": null,
     "metadata": {},
     "output_type": "execute_result"
    }
   ],
   "source": [
    "hidden_from_ip1['hidden_states'].shape"
   ]
  },
  {
   "cell_type": "markdown",
   "metadata": {},
   "source": [
    "### From validation (or even train) set"
   ]
  },
  {
   "cell_type": "code",
   "execution_count": null,
   "metadata": {},
   "outputs": [],
   "source": [
    "hidden_from_vals = controller2.get_hidden_states(ds_type='validation',\n",
    "                                                 state_name='hidden_states',\n",
    "                                                 state_idx=[-1,0]\n",
    "                                                )"
   ]
  },
  {
   "cell_type": "code",
   "execution_count": null,
   "metadata": {},
   "outputs": [
    {
     "data": {
      "text/plain": [
       "Dataset({\n",
       "    features: ['Clothing ID', 'Review Text', 'input_ids', 'attention_mask', 'special_tokens_mask', 'hidden_states'],\n",
       "    num_rows: 2253\n",
       "})"
      ]
     },
     "execution_count": null,
     "metadata": {},
     "output_type": "execute_result"
    }
   ],
   "source": [
    "hidden_from_vals"
   ]
  },
  {
   "cell_type": "code",
   "execution_count": null,
   "metadata": {},
   "outputs": [
    {
     "data": {
      "text/plain": [
       "(2253, 768)"
      ]
     },
     "execution_count": null,
     "metadata": {},
     "output_type": "execute_result"
    }
   ],
   "source": [
    "hidden_from_vals['hidden_states'].shape"
   ]
  },
  {
   "cell_type": "markdown",
   "metadata": {},
   "source": [
    "# Finetune a Roberta Language Model (with token concatenation)"
   ]
  },
  {
   "cell_type": "markdown",
   "metadata": {},
   "source": [
    "Since our data only contain short text (with maximum sentence length is around 120 words), using Token Concatenation technique might not be ideal (as this technique is more suitable for when the text is long). One perk is that this will reduce the amount of training data. With that being said, we will still run some experiments using this technique."
   ]
  },
  {
   "cell_type": "markdown",
   "metadata": {},
   "source": [
    "## Create a TextDataLMController object"
   ]
  },
  {
   "cell_type": "code",
   "execution_count": null,
   "metadata": {},
   "outputs": [],
   "source": [
    "dset = load_dataset('sample_data',data_files=['Womens_Clothing_Reviews.csv'],split='train')\n",
    "ddict_with_val = dset.train_test_split(test_size=0.1,seed=42)\n",
    "ddict_with_val['validation'] = ddict_with_val['test']\n",
    "ddict_with_val['train'] = ddict_with_val['train'].to_iterable_dataset()\n",
    "del ddict_with_val['test']\n",
    "\n",
    "tdc = TextDataLMControllerStreaming(ddict_with_val,\n",
    "                                    main_text='Review Text',\n",
    "                                    filter_dict={'Review Text': lambda x: x is not None},\n",
    "                                    metadatas=['Title','Division Name'],\n",
    "                                    content_transformations=[text_normalize,str.lower],\n",
    "                                    cols_to_keep=['Clothing ID','Review Text'],\n",
    "                                    seed=42,\n",
    "                                    batch_size=1024,\n",
    "                                    verbose=False\n",
    "                                    )"
   ]
  },
  {
   "cell_type": "markdown",
   "metadata": {},
   "source": [
    "Define our tokenizer for Roberta"
   ]
  },
  {
   "cell_type": "code",
   "execution_count": null,
   "metadata": {},
   "outputs": [
    {
     "name": "stderr",
     "output_type": "stream",
     "text": [
      "/home/quan/anaconda3/envs/nlp_dev/lib/python3.10/site-packages/huggingface_hub/file_download.py:1132: FutureWarning: `resume_download` is deprecated and will be removed in version 1.0.0. Downloads always resume when possible. If you want to force a new download, use `force_download=True`.\n",
      "  warnings.warn(\n"
     ]
    }
   ],
   "source": [
    "_tokenizer = AutoTokenizer.from_pretrained('roberta-base')"
   ]
  },
  {
   "cell_type": "markdown",
   "metadata": {},
   "source": [
    "Process and tokenize our dataset (using token concatenation technique)"
   ]
  },
  {
   "cell_type": "code",
   "execution_count": null,
   "metadata": {},
   "outputs": [],
   "source": [
    "block_size=140\n",
    "tdc.process_and_tokenize(_tokenizer,line_by_line=False,max_length=block_size) "
   ]
  },
  {
   "cell_type": "code",
   "execution_count": null,
   "metadata": {},
   "outputs": [
    {
     "data": {
      "text/plain": [
       "DatasetDict({\n",
       "    train: IterableDataset({\n",
       "        features: Unknown,\n",
       "        n_shards: 1\n",
       "    })\n",
       "    validation: Dataset({\n",
       "        features: ['input_ids', 'attention_mask', 'special_tokens_mask'],\n",
       "        num_rows: 1342\n",
       "    })\n",
       "})"
      ]
     },
     "execution_count": null,
     "metadata": {},
     "output_type": "execute_result"
    }
   ],
   "source": [
    "tdc.main_ddict"
   ]
  },
  {
   "cell_type": "markdown",
   "metadata": {},
   "source": [
    "And set the data collator"
   ]
  },
  {
   "cell_type": "code",
   "execution_count": null,
   "metadata": {},
   "outputs": [],
   "source": [
    "tdc.set_data_collator(is_mlm=True,mlm_prob=0.15)"
   ]
  },
  {
   "cell_type": "markdown",
   "metadata": {},
   "source": [
    "## Initialize and train Roberta Language Model"
   ]
  },
  {
   "cell_type": "code",
   "execution_count": null,
   "metadata": {},
   "outputs": [
    {
     "data": {
      "text/plain": [
       "RobertaConfig {\n",
       "  \"_name_or_path\": \"roberta-base\",\n",
       "  \"architectures\": [\n",
       "    \"RobertaForMaskedLM\"\n",
       "  ],\n",
       "  \"attention_probs_dropout_prob\": 0.1,\n",
       "  \"bos_token_id\": 0,\n",
       "  \"classifier_dropout\": null,\n",
       "  \"eos_token_id\": 2,\n",
       "  \"hidden_act\": \"gelu\",\n",
       "  \"hidden_dropout_prob\": 0.1,\n",
       "  \"hidden_size\": 768,\n",
       "  \"initializer_range\": 0.02,\n",
       "  \"intermediate_size\": 3072,\n",
       "  \"layer_norm_eps\": 1e-05,\n",
       "  \"max_position_embeddings\": 514,\n",
       "  \"model_type\": \"roberta\",\n",
       "  \"num_attention_heads\": 12,\n",
       "  \"num_hidden_layers\": 12,\n",
       "  \"pad_token_id\": 1,\n",
       "  \"position_embedding_type\": \"absolute\",\n",
       "  \"transformers_version\": \"4.40.1\",\n",
       "  \"type_vocab_size\": 1,\n",
       "  \"use_cache\": true,\n",
       "  \"vocab_size\": 50265\n",
       "}"
      ]
     },
     "execution_count": null,
     "metadata": {},
     "output_type": "execute_result"
    }
   ],
   "source": [
    "_config = AutoConfig.from_pretrained('roberta-base',\n",
    "                                    vocab_size=len(_tokenizer))\n",
    "_config"
   ]
  },
  {
   "cell_type": "code",
   "execution_count": null,
   "metadata": {},
   "outputs": [
    {
     "name": "stdout",
     "output_type": "stream",
     "text": [
      "Total parameters: 124697433\n",
      "Total trainable parameters: 124697433\n"
     ]
    }
   ],
   "source": [
    "_model = language_model_init(AutoModelForMaskedLM,\n",
    "                             config=_config,\n",
    "                             cpoint_path='roberta-base',\n",
    "                             seed=42\n",
    "                            )"
   ]
  },
  {
   "cell_type": "markdown",
   "metadata": {},
   "source": [
    "Create a model controller"
   ]
  },
  {
   "cell_type": "code",
   "execution_count": null,
   "metadata": {},
   "outputs": [],
   "source": [
    "controller = ModelLMController(_model,data_store=tdc,seed=42)"
   ]
  },
  {
   "cell_type": "markdown",
   "metadata": {},
   "source": [
    "And we can start training our model"
   ]
  },
  {
   "cell_type": "code",
   "execution_count": null,
   "metadata": {},
   "outputs": [
    {
     "name": "stderr",
     "output_type": "stream",
     "text": [
      "max_steps is given, it will override any value given in num_train_epochs\n"
     ]
    },
    {
     "data": {
      "text/html": [
       "\n",
       "    <div>\n",
       "      \n",
       "      <progress value='1248' max='1248' style='width:300px; height:20px; vertical-align: middle;'></progress>\n",
       "      [1248/1248 09:17, Epoch 6/9223372036854775807]\n",
       "    </div>\n",
       "    <table border=\"1\" class=\"dataframe\">\n",
       "  <thead>\n",
       " <tr style=\"text-align: left;\">\n",
       "      <th>Epoch</th>\n",
       "      <th>Training Loss</th>\n",
       "      <th>Validation Loss</th>\n",
       "      <th>Accuracy</th>\n",
       "    </tr>\n",
       "  </thead>\n",
       "  <tbody>\n",
       "    <tr>\n",
       "      <td>0</td>\n",
       "      <td>No log</td>\n",
       "      <td>1.613501</td>\n",
       "      <td>0.643859</td>\n",
       "    </tr>\n",
       "    <tr>\n",
       "      <td>1</td>\n",
       "      <td>No log</td>\n",
       "      <td>1.542169</td>\n",
       "      <td>0.650042</td>\n",
       "    </tr>\n",
       "    <tr>\n",
       "      <td>2</td>\n",
       "      <td>No log</td>\n",
       "      <td>1.441636</td>\n",
       "      <td>0.667640</td>\n",
       "    </tr>\n",
       "    <tr>\n",
       "      <td>3</td>\n",
       "      <td>1.721100</td>\n",
       "      <td>1.397509</td>\n",
       "      <td>0.679836</td>\n",
       "    </tr>\n",
       "    <tr>\n",
       "      <td>4</td>\n",
       "      <td>1.721100</td>\n",
       "      <td>1.363855</td>\n",
       "      <td>0.685481</td>\n",
       "    </tr>\n",
       "    <tr>\n",
       "      <td>5</td>\n",
       "      <td>1.721100</td>\n",
       "      <td>1.326490</td>\n",
       "      <td>0.688224</td>\n",
       "    </tr>\n",
       "    <tr>\n",
       "      <td>6</td>\n",
       "      <td>1.721100</td>\n",
       "      <td>1.334893</td>\n",
       "      <td>0.687034</td>\n",
       "    </tr>\n",
       "  </tbody>\n",
       "</table><p>"
      ],
      "text/plain": [
       "<IPython.core.display.HTML object>"
      ]
     },
     "metadata": {},
     "output_type": "display_data"
    },
    {
     "data": {
      "text/html": [
       "\n",
       "    <div>\n",
       "      \n",
       "      <progress value='42' max='42' style='width:300px; height:20px; vertical-align: middle;'></progress>\n",
       "      [42/42 00:03]\n",
       "    </div>\n",
       "    "
      ],
      "text/plain": [
       "<IPython.core.display.HTML object>"
      ]
     },
     "metadata": {},
     "output_type": "display_data"
    },
    {
     "name": "stdout",
     "output_type": "stream",
     "text": [
      "Perplexity on validation set: 3.775\n"
     ]
    }
   ],
   "source": [
    "lr = 1e-4\n",
    "bs=32\n",
    "wd=0.01\n",
    "epochs= 4\n",
    "warmup_ratio=0.25\n",
    "controller.fit(epochs,lr,\n",
    "               batch_size=bs,\n",
    "               weight_decay=wd,\n",
    "               warmup_ratio=warmup_ratio,\n",
    "               save_checkpoint=False,\n",
    "               len_train=20000\n",
    "              )\n",
    "\n",
    "#  [808/808 03:58, Epoch 4/4]\n",
    "# Epoch\tTraining Loss\tValidation Loss\tAccuracy\n",
    "# 1\tNo log\t1.694216\t0.628713\n",
    "# 2\t1.860100\t1.601513\t0.642077\n",
    "# 3\t1.860100\t1.515734\t0.656354\n",
    "# 4\t1.561200\t1.477700\t0.662074\n",
    "#  [103/103 00:04]\n",
    "# Perplexity on validation set: 4.413"
   ]
  },
  {
   "cell_type": "code",
   "execution_count": null,
   "metadata": {},
   "outputs": [],
   "source": [
    "controller.trainer.model.save_pretrained('./sample_weights/lm_model')"
   ]
  },
  {
   "cell_type": "markdown",
   "metadata": {},
   "source": [
    "## Fill mask using model"
   ]
  },
  {
   "cell_type": "code",
   "execution_count": null,
   "metadata": {},
   "outputs": [
    {
     "name": "stdout",
     "output_type": "stream",
     "text": [
      "Total parameters: 124697433\n",
      "Total trainable parameters: 124697433\n"
     ]
    }
   ],
   "source": [
    "trained_model = language_model_init(AutoModelForMaskedLM,\n",
    "                                    cpoint_path='./sample_weights/lm_model',\n",
    "                                   )"
   ]
  },
  {
   "cell_type": "code",
   "execution_count": null,
   "metadata": {},
   "outputs": [],
   "source": [
    "controller2 = ModelLMController(trained_model,data_store=tdc,seed=42)"
   ]
  },
  {
   "cell_type": "code",
   "execution_count": null,
   "metadata": {},
   "outputs": [],
   "source": [
    "inp1 = {'Clothing ID':1,\n",
    "        'Title':'Flattering',\n",
    "        'Division Name':'General',\n",
    "        'Review Text': \"Love this <mask>. The detail is amazing. Runs small I ordered a 12 I'm usually a 10, but still a little snug\"\n",
    "       }"
   ]
  },
  {
   "cell_type": "code",
   "execution_count": null,
   "metadata": {},
   "outputs": [
    {
     "name": "stdout",
     "output_type": "stream",
     "text": [
      "Score: 0.323 >>> general. flattering. love this dress. the detail is amazing. runs small i ordered a 12 i'm usually a 10, but still a little snug\n",
      "Score: 0.317 >>> general. flattering. love this top. the detail is amazing. runs small i ordered a 12 i'm usually a 10, but still a little snug\n",
      "Score: 0.116 >>> general. flattering. love this shirt. the detail is amazing. runs small i ordered a 12 i'm usually a 10, but still a little snug\n",
      "Score: 0.063 >>> general. flattering. love this skirt. the detail is amazing. runs small i ordered a 12 i'm usually a 10, but still a little snug\n",
      "Score: 0.047 >>> general. flattering. love this sweater. the detail is amazing. runs small i ordered a 12 i'm usually a 10, but still a little snug\n",
      "--------------------\n"
     ]
    }
   ],
   "source": [
    "controller2.predict_raw_text(inp1,print_result=True)"
   ]
  },
  {
   "cell_type": "markdown",
   "metadata": {},
   "source": [
    "You can input several raw texts"
   ]
  },
  {
   "cell_type": "code",
   "execution_count": null,
   "metadata": {},
   "outputs": [],
   "source": [
    "inp2 = {'Clothing ID':[1,2],\n",
    "        'Title':['Flattering','Lovely, but small'],\n",
    "        'Division Name':['General','General'],\n",
    "        'Review Text': [\"Love this <mask>. The detail is amazing. Runs small I ordered a 12 I'm usually a 10, but still a little snug\",\n",
    "                        \"Love this skirt. The detail is amazing. Runs <mask>, I ordered a 12 I'm usually a 10, but still a little snug\"]\n",
    "       }"
   ]
  },
  {
   "cell_type": "code",
   "execution_count": null,
   "metadata": {},
   "outputs": [
    {
     "name": "stdout",
     "output_type": "stream",
     "text": [
      "Score: 0.323 >>> general. flattering. love this dress. the detail is amazing. runs small i ordered a 12 i'm usually a 10, but still a little snug\n",
      "Score: 0.317 >>> general. flattering. love this top. the detail is amazing. runs small i ordered a 12 i'm usually a 10, but still a little snug\n",
      "Score: 0.116 >>> general. flattering. love this shirt. the detail is amazing. runs small i ordered a 12 i'm usually a 10, but still a little snug\n",
      "Score: 0.063 >>> general. flattering. love this skirt. the detail is amazing. runs small i ordered a 12 i'm usually a 10, but still a little snug\n",
      "Score: 0.047 >>> general. flattering. love this sweater. the detail is amazing. runs small i ordered a 12 i'm usually a 10, but still a little snug\n",
      "--------------------\n",
      "Score: 0.935 >>> general. lovely, but small. love this skirt. the detail is amazing. runs small, i ordered a 12 i'm usually a 10, but still a little snug\n",
      "Score: 0.038 >>> general. lovely, but small. love this skirt. the detail is amazing. runs large, i ordered a 12 i'm usually a 10, but still a little snug\n",
      "Score: 0.009 >>> general. lovely, but small. love this skirt. the detail is amazing. runs big, i ordered a 12 i'm usually a 10, but still a little snug\n",
      "Score: 0.004 >>> general. lovely, but small. love this skirt. the detail is amazing. runs short, i ordered a 12 i'm usually a 10, but still a little snug\n",
      "Score: 0.003 >>> general. lovely, but small. love this skirt. the detail is amazing. runs smaller, i ordered a 12 i'm usually a 10, but still a little snug\n",
      "--------------------\n"
     ]
    }
   ],
   "source": [
    "controller2.predict_raw_text(inp2,print_result=True)"
   ]
  },
  {
   "cell_type": "code",
   "execution_count": null,
   "metadata": {},
   "outputs": [],
   "source": []
  }
 ],
 "metadata": {
  "kernelspec": {
   "display_name": "python3",
   "language": "python",
   "name": "python3"
  }
 },
 "nbformat": 4,
 "nbformat_minor": 4
}

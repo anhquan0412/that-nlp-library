{
 "cells": [
  {
   "cell_type": "markdown",
   "metadata": {},
   "source": [
    "# Text Augmentation\n",
    "\n",
    "> This contains some text augmentation functionality. \n",
    "\n",
    "- skip_showdoc: true\n",
    "- skip_exec: true"
   ]
  },
  {
   "cell_type": "code",
   "execution_count": null,
   "metadata": {},
   "outputs": [],
   "source": []
  },
  {
   "cell_type": "code",
   "execution_count": null,
   "metadata": {},
   "outputs": [],
   "source": [
    "\n",
    "from nbdev.showdoc import *"
   ]
  },
  {
   "cell_type": "code",
   "execution_count": null,
   "metadata": {},
   "outputs": [],
   "source": [
    "\n",
    "from __future__ import annotations\n",
    "from functools import partial, wraps\n",
    "import unidecode\n",
    "import numpy as np\n",
    "from tqdm import tqdm\n",
    "from that_nlp_library.utils import val2iterable\n",
    "import pandas as pd"
   ]
  },
  {
   "cell_type": "code",
   "execution_count": null,
   "metadata": {},
   "outputs": [],
   "source": [
    "\n",
    "def _remove_kwargs(func):\n",
    "    @wraps(func)\n",
    "    def wrapper(*args, **kwargs):\n",
    "        kwargs.pop(\"apply_to_all\", True)\n",
    "        return func(*args, **kwargs)\n",
    "    return wrapper\n",
    "\n",
    "def _sampling_content(content,frac=1,seed=42,others=None):\n",
    "    replace=frac>1\n",
    "    rng = np.random.default_rng(seed)\n",
    "    _len = len(content)\n",
    "    idxs = rng.choice(list(range(_len)),int(frac*_len),replace=replace)\n",
    "    content = content[idxs]\n",
    "    if others is not None:\n",
    "        others = others.iloc[idxs]\n",
    "    return content,others"
   ]
  },
  {
   "cell_type": "code",
   "execution_count": null,
   "metadata": {},
   "outputs": [],
   "source": [
    "\n",
    "@_remove_kwargs\n",
    "def remove_vnmese_accent(content:np.ndarray|list, # A list or Numpy array of string\n",
    "                         frac=1, # Fraction of the content to perform augmentation\n",
    "                         seed=42, # Random seed\n",
    "                         others=None # Metadata associating with the content\n",
    "                        ):\n",
    "    \"Perform Vietnamese accent removal\"\n",
    "    content = val2iterable(content,t='nparray')\n",
    "    if isinstance(content,list):\n",
    "        content = np.array(content)\n",
    "    content,others = _sampling_content(content,frac=frac,seed=seed,others=others)\n",
    "    content = np.array([unidecode.unidecode(c) for c in tqdm(content)])\n",
    "    if others is None:\n",
    "        return content\n",
    "    return content,others"
   ]
  },
  {
   "cell_type": "code",
   "execution_count": null,
   "metadata": {},
   "outputs": [
    {
     "data": {
      "text/markdown": [
       "---\n",
       "\n",
       "[source](https://github.com/anhquan0412/that-nlp-library/blob/main/that_nlp_library/text_augmentation.py#L35){target=\"_blank\" style=\"float:right; font-size:smaller\"}\n",
       "\n",
       "### remove_vnmese_accent\n",
       "\n",
       ">      remove_vnmese_accent (content:numpy.ndarray|list, frac=1, seed=42,\n",
       ">                            others=None)\n",
       "\n",
       "Perform Vietnamese accent removal\n",
       "\n",
       "|    | **Type** | **Default** | **Details** |\n",
       "| -- | -------- | ----------- | ----------- |\n",
       "| content | np.ndarray \\| list |  | A list or Numpy array of string |\n",
       "| frac | int | 1 | Fraction of the content to perform augmentation |\n",
       "| seed | int | 42 | Random seed |\n",
       "| others | NoneType | None | Metadata associating with the content |"
      ],
      "text/plain": [
       "---\n",
       "\n",
       "[source](https://github.com/anhquan0412/that-nlp-library/blob/main/that_nlp_library/text_augmentation.py#L35){target=\"_blank\" style=\"float:right; font-size:smaller\"}\n",
       "\n",
       "### remove_vnmese_accent\n",
       "\n",
       ">      remove_vnmese_accent (content:numpy.ndarray|list, frac=1, seed=42,\n",
       ">                            others=None)\n",
       "\n",
       "Perform Vietnamese accent removal\n",
       "\n",
       "|    | **Type** | **Default** | **Details** |\n",
       "| -- | -------- | ----------- | ----------- |\n",
       "| content | np.ndarray \\| list |  | A list or Numpy array of string |\n",
       "| frac | int | 1 | Fraction of the content to perform augmentation |\n",
       "| seed | int | 42 | Random seed |\n",
       "| others | NoneType | None | Metadata associating with the content |"
      ]
     },
     "execution_count": null,
     "metadata": {},
     "output_type": "execute_result"
    }
   ],
   "source": [
    "show_doc(remove_vnmese_accent)"
   ]
  },
  {
   "cell_type": "code",
   "execution_count": null,
   "metadata": {},
   "outputs": [
    {
     "name": "stderr",
     "output_type": "stream",
     "text": [
      "100%|████████████████████████████████████████| 1/1 [00:00<00:00, 1934.64it/s]\n"
     ]
    },
    {
     "data": {
      "text/plain": [
       "array(['hoi cu dan chung cu sen hong - chung cu lotus song than thu duc'],\n",
       "      dtype='<U63')"
      ]
     },
     "execution_count": null,
     "metadata": {},
     "output_type": "execute_result"
    }
   ],
   "source": [
    "remove_vnmese_accent('hội cư dân chung cư sen hồng - chung cư lotus sóng thần thủ đức')"
   ]
  },
  {
   "cell_type": "code",
   "execution_count": null,
   "metadata": {},
   "outputs": [
    {
     "name": "stderr",
     "output_type": "stream",
     "text": [
      "100%|███████████████████████████████████████| 5/5 [00:00<00:00, 45003.26it/s]\n"
     ]
    },
    {
     "data": {
      "text/plain": [
       "array(['cho phong tro + viec lam...khu linh nam - vinh hung - mai dong (hoang mai)',\n",
       "       'This is the recommended way to make a Python package importable from anywhere',\n",
       "       'hoi cu dan chung cu sen hong - chung cu lotus song than thu duc',\n",
       "       \"biti's cao lanh - dong thap\",\n",
       "       'hoi can mo the tin dung tai ha noi, da nang, tp. ho chi minh'],\n",
       "      dtype='<U77')"
      ]
     },
     "execution_count": null,
     "metadata": {},
     "output_type": "execute_result"
    }
   ],
   "source": [
    "texts=[\n",
    "     'hội cư dân chung cư sen hồng - chung cư lotus sóng thần thủ đức',\n",
    "     'This is the recommended way to make a Python package importable from anywhere',\n",
    "     'hội cần mở thẻ tín dụng tại hà nội, đà nẵng, tp. hồ chí minh',\n",
    "     \"biti's cao lãnh - đồng tháp\",\n",
    "     'chợ phòng trọ + việc làm...khu lĩnh nam - vĩnh hưng - mai động (hoàng mai)'\n",
    " ]\n",
    "remove_vnmese_accent(texts)"
   ]
  },
  {
   "cell_type": "code",
   "execution_count": null,
   "metadata": {},
   "outputs": [
    {
     "name": "stderr",
     "output_type": "stream",
     "text": [
      "100%|███████████████████████████████████████| 2/2 [00:00<00:00, 28532.68it/s]\n"
     ]
    },
    {
     "data": {
      "text/plain": [
       "array(['hoi cu dan chung cu sen hong - chung cu lotus song than thu duc',\n",
       "       \"biti's cao lanh - dong thap\"], dtype='<U63')"
      ]
     },
     "execution_count": null,
     "metadata": {},
     "output_type": "execute_result"
    }
   ],
   "source": [
    "remove_vnmese_accent(texts,frac=0.5)"
   ]
  },
  {
   "cell_type": "code",
   "execution_count": null,
   "metadata": {},
   "outputs": [],
   "source": []
  },
  {
   "cell_type": "code",
   "execution_count": null,
   "metadata": {},
   "outputs": [],
   "source": [
    "\n",
    "@_remove_kwargs\n",
    "def sampling_with_condition(content:np.ndarray|list, # Numpy array of string\n",
    "                              query:str, # Pandas query string for query method\n",
    "                              frac=1, # Fraction of the content to perform augmentation\n",
    "                              seed=42, # Random seed\n",
    "                              others:pd.DataFrame=None, # Metadata (as dataframe) that you can query on\n",
    "                           ):\n",
    "    \"\"\"\n",
    "    Can perform oversampling/undersampling based on dataframe query\n",
    "    \n",
    "    For more information about dataframe query: https://pandas.pydata.org/docs/user_guide/indexing.html#indexing-query\n",
    "    \"\"\"\n",
    "    if isinstance(content,list):\n",
    "        content = np.array(content)\n",
    "    idx_to_sample = others.query(query).index.values\n",
    "    others_to_sample = others.loc[idx_to_sample].copy()\n",
    "    content_to_sample=content[idx_to_sample].copy()\n",
    "    return _sampling_content(content_to_sample,frac,seed,others=others_to_sample)"
   ]
  },
  {
   "cell_type": "code",
   "execution_count": null,
   "metadata": {},
   "outputs": [
    {
     "data": {
      "text/markdown": [
       "---\n",
       "\n",
       "[source](https://github.com/anhquan0412/that-nlp-library/blob/main/that_nlp_library/text_augmentation.py#L52){target=\"_blank\" style=\"float:right; font-size:smaller\"}\n",
       "\n",
       "### sampling_with_condition\n",
       "\n",
       ">      sampling_with_condition (content:numpy.ndarray|list, query:str, frac=1,\n",
       ">                               seed=42,\n",
       ">                               others:pandas.core.frame.DataFrame=None)\n",
       "\n",
       "Can perform oversampling/undersampling based on dataframe query\n",
       "\n",
       "For more information about dataframe query: https://pandas.pydata.org/docs/user_guide/indexing.html#indexing-query\n",
       "\n",
       "|    | **Type** | **Default** | **Details** |\n",
       "| -- | -------- | ----------- | ----------- |\n",
       "| content | np.ndarray \\| list |  | Numpy array of string |\n",
       "| query | str |  | Pandas query string for query method |\n",
       "| frac | int | 1 | Fraction of the content to perform augmentation |\n",
       "| seed | int | 42 | Random seed |\n",
       "| others | pd.DataFrame | None | Metadata (as dataframe) that you can query on |"
      ],
      "text/plain": [
       "---\n",
       "\n",
       "[source](https://github.com/anhquan0412/that-nlp-library/blob/main/that_nlp_library/text_augmentation.py#L52){target=\"_blank\" style=\"float:right; font-size:smaller\"}\n",
       "\n",
       "### sampling_with_condition\n",
       "\n",
       ">      sampling_with_condition (content:numpy.ndarray|list, query:str, frac=1,\n",
       ">                               seed=42,\n",
       ">                               others:pandas.core.frame.DataFrame=None)\n",
       "\n",
       "Can perform oversampling/undersampling based on dataframe query\n",
       "\n",
       "For more information about dataframe query: https://pandas.pydata.org/docs/user_guide/indexing.html#indexing-query\n",
       "\n",
       "|    | **Type** | **Default** | **Details** |\n",
       "| -- | -------- | ----------- | ----------- |\n",
       "| content | np.ndarray \\| list |  | Numpy array of string |\n",
       "| query | str |  | Pandas query string for query method |\n",
       "| frac | int | 1 | Fraction of the content to perform augmentation |\n",
       "| seed | int | 42 | Random seed |\n",
       "| others | pd.DataFrame | None | Metadata (as dataframe) that you can query on |"
      ]
     },
     "execution_count": null,
     "metadata": {},
     "output_type": "execute_result"
    }
   ],
   "source": [
    "show_doc(sampling_with_condition)"
   ]
  },
  {
   "cell_type": "code",
   "execution_count": null,
   "metadata": {},
   "outputs": [],
   "source": [
    "texts=[\n",
    "     'hội cư dân chung cư sen hồng - chung cư lotus sóng thần thủ đức',\n",
    "     'This is the recommended way to make a Python package importable from anywhere',\n",
    "     'hội cần mở thẻ tín dụng tại hà nội, đà nẵng, tp. hồ chí minh',\n",
    "     \"biti's cao lãnh - đồng tháp\",\n",
    "     'chợ phòng trọ + việc làm...khu lĩnh nam - vĩnh hưng - mai động (hoàng mai)'\n",
    "      ]\n",
    "df = pd.DataFrame({'text':texts,\n",
    "                  'value 1': [1,2,1,3,4],\n",
    "                  'value_2': ['vnm','eng','vnm','vnm','vnm']\n",
    "                  })"
   ]
  },
  {
   "cell_type": "code",
   "execution_count": null,
   "metadata": {},
   "outputs": [
    {
     "data": {
      "text/html": [
       "<div>\n",
       "<style scoped>\n",
       "    .dataframe tbody tr th:only-of-type {\n",
       "        vertical-align: middle;\n",
       "    }\n",
       "\n",
       "    .dataframe tbody tr th {\n",
       "        vertical-align: top;\n",
       "    }\n",
       "\n",
       "    .dataframe thead th {\n",
       "        text-align: right;\n",
       "    }\n",
       "</style>\n",
       "<table border=\"1\" class=\"dataframe\">\n",
       "  <thead>\n",
       "    <tr style=\"text-align: right;\">\n",
       "      <th></th>\n",
       "      <th>text</th>\n",
       "      <th>value 1</th>\n",
       "      <th>value_2</th>\n",
       "    </tr>\n",
       "  </thead>\n",
       "  <tbody>\n",
       "    <tr>\n",
       "      <th>0</th>\n",
       "      <td>hội cư dân chung cư sen hồng - chung cư lotus ...</td>\n",
       "      <td>1</td>\n",
       "      <td>vnm</td>\n",
       "    </tr>\n",
       "    <tr>\n",
       "      <th>1</th>\n",
       "      <td>This is the recommended way to make a Python p...</td>\n",
       "      <td>2</td>\n",
       "      <td>eng</td>\n",
       "    </tr>\n",
       "    <tr>\n",
       "      <th>2</th>\n",
       "      <td>hội cần mở thẻ tín dụng tại hà nội, đà nẵng, t...</td>\n",
       "      <td>1</td>\n",
       "      <td>vnm</td>\n",
       "    </tr>\n",
       "    <tr>\n",
       "      <th>3</th>\n",
       "      <td>biti's cao lãnh - đồng tháp</td>\n",
       "      <td>3</td>\n",
       "      <td>vnm</td>\n",
       "    </tr>\n",
       "    <tr>\n",
       "      <th>4</th>\n",
       "      <td>chợ phòng trọ + việc làm...khu lĩnh nam - vĩnh...</td>\n",
       "      <td>4</td>\n",
       "      <td>vnm</td>\n",
       "    </tr>\n",
       "  </tbody>\n",
       "</table>\n",
       "</div>"
      ],
      "text/plain": [
       "                                                text  value 1 value_2\n",
       "0  hội cư dân chung cư sen hồng - chung cư lotus ...        1     vnm\n",
       "1  This is the recommended way to make a Python p...        2     eng\n",
       "2  hội cần mở thẻ tín dụng tại hà nội, đà nẵng, t...        1     vnm\n",
       "3                        biti's cao lãnh - đồng tháp        3     vnm\n",
       "4  chợ phòng trọ + việc làm...khu lĩnh nam - vĩnh...        4     vnm"
      ]
     },
     "execution_count": null,
     "metadata": {},
     "output_type": "execute_result"
    }
   ],
   "source": [
    "df"
   ]
  },
  {
   "cell_type": "code",
   "execution_count": null,
   "metadata": {},
   "outputs": [],
   "source": [
    "df_new,others = sampling_with_condition(df['text'].values,\n",
    "                                        query='`value 1` == 1',\n",
    "                                        frac=1,\n",
    "                                        others=df[['value 1','value_2']]\n",
    "                                       )"
   ]
  },
  {
   "cell_type": "code",
   "execution_count": null,
   "metadata": {},
   "outputs": [
    {
     "name": "stdout",
     "output_type": "stream",
     "text": [
      "['hội cư dân chung cư sen hồng - chung cư lotus sóng thần thủ đức'\n",
      " 'hội cần mở thẻ tín dụng tại hà nội, đà nẵng, tp. hồ chí minh']\n"
     ]
    },
    {
     "data": {
      "text/html": [
       "<div>\n",
       "<style scoped>\n",
       "    .dataframe tbody tr th:only-of-type {\n",
       "        vertical-align: middle;\n",
       "    }\n",
       "\n",
       "    .dataframe tbody tr th {\n",
       "        vertical-align: top;\n",
       "    }\n",
       "\n",
       "    .dataframe thead th {\n",
       "        text-align: right;\n",
       "    }\n",
       "</style>\n",
       "<table border=\"1\" class=\"dataframe\">\n",
       "  <thead>\n",
       "    <tr style=\"text-align: right;\">\n",
       "      <th></th>\n",
       "      <th>value 1</th>\n",
       "      <th>value_2</th>\n",
       "    </tr>\n",
       "  </thead>\n",
       "  <tbody>\n",
       "    <tr>\n",
       "      <th>0</th>\n",
       "      <td>1</td>\n",
       "      <td>vnm</td>\n",
       "    </tr>\n",
       "    <tr>\n",
       "      <th>2</th>\n",
       "      <td>1</td>\n",
       "      <td>vnm</td>\n",
       "    </tr>\n",
       "  </tbody>\n",
       "</table>\n",
       "</div>"
      ],
      "text/plain": [
       "   value 1 value_2\n",
       "0        1     vnm\n",
       "2        1     vnm"
      ]
     },
     "metadata": {},
     "output_type": "display_data"
    }
   ],
   "source": [
    "print(df_new)\n",
    "display(others)"
   ]
  },
  {
   "cell_type": "code",
   "execution_count": null,
   "metadata": {},
   "outputs": [],
   "source": [
    "df_new,others = sampling_with_condition(df['text'].values,\n",
    "                                        query='`value 1`>2 and `value 1`<4',\n",
    "                                        frac=2,\n",
    "                                        others=df[['value 1','value_2']]\n",
    "                                       )"
   ]
  },
  {
   "cell_type": "code",
   "execution_count": null,
   "metadata": {},
   "outputs": [
    {
     "name": "stdout",
     "output_type": "stream",
     "text": [
      "[\"biti's cao lãnh - đồng tháp\" \"biti's cao lãnh - đồng tháp\"]\n"
     ]
    },
    {
     "data": {
      "text/html": [
       "<div>\n",
       "<style scoped>\n",
       "    .dataframe tbody tr th:only-of-type {\n",
       "        vertical-align: middle;\n",
       "    }\n",
       "\n",
       "    .dataframe tbody tr th {\n",
       "        vertical-align: top;\n",
       "    }\n",
       "\n",
       "    .dataframe thead th {\n",
       "        text-align: right;\n",
       "    }\n",
       "</style>\n",
       "<table border=\"1\" class=\"dataframe\">\n",
       "  <thead>\n",
       "    <tr style=\"text-align: right;\">\n",
       "      <th></th>\n",
       "      <th>value 1</th>\n",
       "      <th>value_2</th>\n",
       "    </tr>\n",
       "  </thead>\n",
       "  <tbody>\n",
       "    <tr>\n",
       "      <th>3</th>\n",
       "      <td>3</td>\n",
       "      <td>vnm</td>\n",
       "    </tr>\n",
       "    <tr>\n",
       "      <th>3</th>\n",
       "      <td>3</td>\n",
       "      <td>vnm</td>\n",
       "    </tr>\n",
       "  </tbody>\n",
       "</table>\n",
       "</div>"
      ],
      "text/plain": [
       "   value 1 value_2\n",
       "3        3     vnm\n",
       "3        3     vnm"
      ]
     },
     "metadata": {},
     "output_type": "display_data"
    }
   ],
   "source": [
    "print(df_new)\n",
    "display(others)"
   ]
  },
  {
   "cell_type": "code",
   "execution_count": null,
   "metadata": {},
   "outputs": [],
   "source": [
    "df_new,others = sampling_with_condition(df['text'].values,\n",
    "                                        query='value_2==\"vnm\"',\n",
    "                                        frac=0.5,\n",
    "                                        others=df[['value 1','value_2']]\n",
    "                                       )"
   ]
  },
  {
   "cell_type": "code",
   "execution_count": null,
   "metadata": {},
   "outputs": [
    {
     "name": "stdout",
     "output_type": "stream",
     "text": [
      "['hội cư dân chung cư sen hồng - chung cư lotus sóng thần thủ đức'\n",
      " 'chợ phòng trọ + việc làm...khu lĩnh nam - vĩnh hưng - mai động (hoàng mai)']\n"
     ]
    },
    {
     "data": {
      "text/html": [
       "<div>\n",
       "<style scoped>\n",
       "    .dataframe tbody tr th:only-of-type {\n",
       "        vertical-align: middle;\n",
       "    }\n",
       "\n",
       "    .dataframe tbody tr th {\n",
       "        vertical-align: top;\n",
       "    }\n",
       "\n",
       "    .dataframe thead th {\n",
       "        text-align: right;\n",
       "    }\n",
       "</style>\n",
       "<table border=\"1\" class=\"dataframe\">\n",
       "  <thead>\n",
       "    <tr style=\"text-align: right;\">\n",
       "      <th></th>\n",
       "      <th>value 1</th>\n",
       "      <th>value_2</th>\n",
       "    </tr>\n",
       "  </thead>\n",
       "  <tbody>\n",
       "    <tr>\n",
       "      <th>0</th>\n",
       "      <td>1</td>\n",
       "      <td>vnm</td>\n",
       "    </tr>\n",
       "    <tr>\n",
       "      <th>4</th>\n",
       "      <td>4</td>\n",
       "      <td>vnm</td>\n",
       "    </tr>\n",
       "  </tbody>\n",
       "</table>\n",
       "</div>"
      ],
      "text/plain": [
       "   value 1 value_2\n",
       "0        1     vnm\n",
       "4        4     vnm"
      ]
     },
     "metadata": {},
     "output_type": "display_data"
    }
   ],
   "source": [
    "print(df_new)\n",
    "display(others)"
   ]
  },
  {
   "cell_type": "code",
   "execution_count": null,
   "metadata": {},
   "outputs": [],
   "source": []
  }
 ],
 "metadata": {
  "kernelspec": {
   "display_name": "python3",
   "language": "python",
   "name": "python3"
  }
 },
 "nbformat": 4,
 "nbformat_minor": 4
}

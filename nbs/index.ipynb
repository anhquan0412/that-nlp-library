{
 "cells": [
  {
   "cell_type": "code",
   "execution_count": null,
   "metadata": {},
   "outputs": [],
   "source": []
  },
  {
   "cell_type": "markdown",
   "metadata": {},
   "source": [
    "# Welcome to that-nlp-library\n",
    "\n",
    "> Aim to be one of the most convenient library for common NLP tasks"
   ]
  },
  {
   "cell_type": "markdown",
   "metadata": {},
   "source": [
    "## Install"
   ]
  },
  {
   "cell_type": "markdown",
   "metadata": {},
   "source": [
    "```sh\n",
    "pip install that_nlp_library\n",
    "```"
   ]
  },
  {
   "cell_type": "markdown",
   "metadata": {},
   "source": [
    "## Index"
   ]
  },
  {
   "cell_type": "markdown",
   "metadata": {},
   "source": [
    "### Text preprocessing"
   ]
  },
  {
   "cell_type": "markdown",
   "metadata": {},
   "source": [
    "- [Text Augmentation](https://anhquan0412.github.io/that-nlp-library/text_augmentation.html)\n",
    "- [Text Transformation](https://anhquan0412.github.io/that-nlp-library/text_transformation.html)"
   ]
  },
  {
   "cell_type": "markdown",
   "metadata": {},
   "source": [
    "### Text Controller"
   ]
  },
  {
   "cell_type": "markdown",
   "metadata": {},
   "source": [
    "- [Text Main](https://anhquan0412.github.io/that-nlp-library/text_main.html)"
   ]
  },
  {
   "cell_type": "markdown",
   "metadata": {},
   "source": [
    "### Model Controller"
   ]
  },
  {
   "cell_type": "markdown",
   "metadata": {},
   "source": [
    "- [Model Main](https://anhquan0412.github.io/that-nlp-library/model_main.html)"
   ]
  },
  {
   "cell_type": "markdown",
   "metadata": {},
   "source": [
    "### Roberta-based classification model + Detailed tutorials"
   ]
  },
  {
   "cell_type": "markdown",
   "metadata": {},
   "source": [
    "- [Classification Model Architectures, Metrics and Loss Functions](https://anhquan0412.github.io/that-nlp-library/models.classifiers.html)\n",
    "    - [A simple example using EnviBert model](https://anhquan0412.github.io/that-nlp-library/model_main_envibert.html)\n",
    "    - [Full tutorial on EnviBert Single-Head model](https://anhquan0412.github.io/that-nlp-library/model_main_envibert_singlehead.html)\n",
    "    - [Full tutorial on EnviBert Multi-Head model](https://anhquan0412.github.io/that-nlp-library/model_main_envibert_multihead.html)\n",
    "    - [Full tutorial on EnviBert Multi-Label model](https://anhquan0412.github.io/that-nlp-library/model_main_envibert_multilabel.html)\n",
    "- [Deep Hierarchical Classification Architecture](https://anhquan0412.github.io/that-nlp-library/models.deep_hierarchical_classifiers.html)\n",
    "    - [Full tutorial on EnviBert DHC](https://anhquan0412.github.io/that-nlp-library/model_main_envibert_dhc.html)\n",
    "- [Conditional Probability Classification Architecture](https://anhquan0412.github.io/that-nlp-library/models.conditional_prob_classifiers.html)\n",
    "    - [Full tutorial on EnviBert Conditional Probability](https://anhquan0412.github.io/that-nlp-library/model_main_envibert_conditional_prob.html)"
   ]
  }
 ],
 "metadata": {
  "kernelspec": {
   "display_name": "python3",
   "language": "python",
   "name": "python3"
  }
 },
 "nbformat": 4,
 "nbformat_minor": 4
}
